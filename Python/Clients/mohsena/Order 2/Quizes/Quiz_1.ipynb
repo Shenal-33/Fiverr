{
  "cells": [
    {
      "cell_type": "markdown",
      "id": "f639d7c3",
      "metadata": {
        "id": "f639d7c3"
      },
      "source": [
        "============================================================================================\n",
        "\n",
        "**Question 1 [3 points]**: Given the two lists below, write **a single line python statement** to:\n",
        "\n",
        "  **1.a-** create a new list of students whose credit hours are > 15, where each element in the new list is a tuple of student's name and his credit hours. \n",
        "    \n",
        "  **1.b-** creat another new list contining the student name and the number of courses he is taking. The number of courses are calculated based on the number credit hours, assuming that all the courses are of 2 credit hours. **Hint:** Use anonymous lambda function. \n",
        "\n",
        "`students= ['Sam','Fahd', 'Saleh', 'Salem', 'Ahmed', 'Ryan']`\n",
        "\n",
        "`creditsHours= [18, 12, 16, 14, 16, 18 ]`\n"
      ]
    },
    {
      "cell_type": "code",
      "execution_count": null,
      "id": "d14d8314",
      "metadata": {
        "id": "d14d8314"
      },
      "outputs": [],
      "source": [
        "students= ['Sam','Ahmed', 'Saleh', 'Salem', 'Ahmed', 'Ryan']\n",
        "creditsHours= [13, 14, 12, 16, 18, 17 ]\n",
        "S = [(students[i],creditHours[i]) for i in range(len(creditHours)) if creditHours>15 ]\n",
        "# Answer for 1.a\n"
      ]
    },
    {
      "cell_type": "markdown",
      "id": "50c58f9a",
      "metadata": {
        "id": "50c58f9a"
      },
      "source": [
        "# Quiz-1\n",
        "    \n",
        "    Name:=                     ,ID:=             ,      Maximum Marks:=10         Time: 25 minutes\n",
        "    "
      ]
    },
    {
      "cell_type": "code",
      "execution_count": null,
      "id": "1b276274",
      "metadata": {
        "id": "1b276274"
      },
      "outputs": [],
      "source": [
        "# Answer for 1.b\n"
      ]
    },
    {
      "cell_type": "markdown",
      "id": "9e623837",
      "metadata": {
        "id": "9e623837"
      },
      "source": [
        "============================================================================================\n",
        "\n",
        "**Question 2 [4 points]**: Create a random integer numpy nd-array, with the name **x1**, of size 5x3, where the integer values range from 3 to 10 inclusive. Set the random generator seed to be 100. Then, write **a single line of python code** for each of the following:\n",
        "\n",
        "  a- printing the elements of **x1** except the first column\n",
        "\n",
        "  b- printing the elements of  the first row of **x1**\n",
        "\n",
        "  c- printing the elements of  the last two colums of **x1**\n"
      ]
    },
    {
      "cell_type": "code",
      "execution_count": null,
      "id": "cfa1b2a0",
      "metadata": {
        "id": "cfa1b2a0"
      },
      "outputs": [],
      "source": [
        "#Creating a random array x1\n",
        "import numpy as np \n",
        "np.random.seed(100)\n",
        "x1=np.random.randint(3,10,(5,3))"
      ]
    },
    {
      "cell_type": "code",
      "execution_count": null,
      "id": "9d46d85a",
      "metadata": {
        "id": "9d46d85a"
      },
      "outputs": [],
      "source": [
        "#a-printing the elements of x1 except the last column\n",
        "print(x1[:,1:])"
      ]
    },
    {
      "cell_type": "code",
      "execution_count": null,
      "id": "18f56cc6",
      "metadata": {
        "id": "18f56cc6"
      },
      "outputs": [],
      "source": [
        "#b-printing the elements of the last column of x1\n",
        "print(x1[0:1,:])"
      ]
    },
    {
      "cell_type": "code",
      "execution_count": null,
      "id": "d3443e3f",
      "metadata": {
        "id": "d3443e3f"
      },
      "outputs": [],
      "source": [
        "#c- printing the elements of the last two rows of x1\n",
        "print(x1[:1:])"
      ]
    },
    {
      "cell_type": "markdown",
      "id": "7f34b427",
      "metadata": {
        "id": "7f34b427"
      },
      "source": [
        "=======================================================================================\n",
        "\n",
        "**Question 3 [3 points]** : Write a single line python statement for each of the following:\n",
        "\n",
        "a- Create an array **x2** out of the list `[1, 4, 6, 7, 8, 9, 11, 10 15]`\n",
        "\n",
        "b- Using masking, print the odd elements of **X2**     "
      ]
    },
    {
      "cell_type": "code",
      "execution_count": null,
      "id": "a4e0b717",
      "metadata": {
        "id": "a4e0b717"
      },
      "outputs": [],
      "source": [
        "# a- Create an array x2 out of the list [1, 4, 6, 7, 8, 9, 11, 10 15]\n",
        "import numpy as np\n",
        "list1=[1, 4, 6, 7, 8, 9, 11, 10 15]\n",
        "x=np.array(list1)\n",
        "    "
      ]
    },
    {
      "cell_type": "code",
      "execution_count": null,
      "id": "0a48c80a",
      "metadata": {
        "id": "0a48c80a"
      },
      "outputs": [],
      "source": [
        "#b- Using masking, print the odd elements of x2\n",
        "print(x[x%2==1])"
      ]
    }
  ],
  "metadata": {
    "kernelspec": {
      "display_name": "Python 3",
      "language": "python",
      "name": "python3"
    },
    "language_info": {
      "codemirror_mode": {
        "name": "ipython",
        "version": 3
      },
      "file_extension": ".py",
      "mimetype": "text/x-python",
      "name": "python",
      "nbconvert_exporter": "python",
      "pygments_lexer": "ipython3",
      "version": "3.8.8"
    },
    "toc": {
      "base_numbering": 1,
      "nav_menu": {},
      "number_sections": true,
      "sideBar": true,
      "skip_h1_title": false,
      "title_cell": "Table of Contents",
      "title_sidebar": "Contents",
      "toc_cell": false,
      "toc_position": {},
      "toc_section_display": true,
      "toc_window_display": false
    },
    "colab": {
      "name": "Quiz-1.ipynb",
      "provenance": [],
      "toc_visible": true
    }
  },
  "nbformat": 4,
  "nbformat_minor": 5
}