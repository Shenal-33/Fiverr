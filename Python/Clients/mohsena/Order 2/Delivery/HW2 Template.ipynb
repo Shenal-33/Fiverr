{
 "cells": [
  {
   "cell_type": "markdown",
   "id": "blocked-nightmare",
   "metadata": {
    "toc": true
   },
   "source": [
    "<h1>Table of Contents<span class=\"tocSkip\"></span></h1>\n",
    "<div class=\"toc\"><ul class=\"toc-item\"><li><span><a href=\"#Name-&amp;-ID\" data-toc-modified-id=\"Name-&amp;-ID-1\"><span class=\"toc-item-num\">1&nbsp;&nbsp;</span>Name &amp; ID</a></span></li><li><span><a href=\"#Problem-#-A\" data-toc-modified-id=\"Problem-#-A-2\"><span class=\"toc-item-num\">2&nbsp;&nbsp;</span>Problem # A</a></span><ul class=\"toc-item\"><li><span><a href=\"#A-1\" data-toc-modified-id=\"A-1-2.1\"><span class=\"toc-item-num\">2.1&nbsp;&nbsp;</span>A-1</a></span></li><li><span><a href=\"#A-2\" data-toc-modified-id=\"A-2-2.2\"><span class=\"toc-item-num\">2.2&nbsp;&nbsp;</span>A-2</a></span></li><li><span><a href=\"#A-3\" data-toc-modified-id=\"A-3-2.3\"><span class=\"toc-item-num\">2.3&nbsp;&nbsp;</span>A-3</a></span></li><li><span><a href=\"#A-4\" data-toc-modified-id=\"A-4-2.4\"><span class=\"toc-item-num\">2.4&nbsp;&nbsp;</span>A-4</a></span></li><li><span><a href=\"#A-5\" data-toc-modified-id=\"A-5-2.5\"><span class=\"toc-item-num\">2.5&nbsp;&nbsp;</span>A-5</a></span></li><li><span><a href=\"#A-6\" data-toc-modified-id=\"A-6-2.6\"><span class=\"toc-item-num\">2.6&nbsp;&nbsp;</span>A-6</a></span></li><li><span><a href=\"#A-7\" data-toc-modified-id=\"A-7-2.7\"><span class=\"toc-item-num\">2.7&nbsp;&nbsp;</span>A-7</a></span></li><li><span><a href=\"#A-8\" data-toc-modified-id=\"A-8-2.8\"><span class=\"toc-item-num\">2.8&nbsp;&nbsp;</span>A-8</a></span></li><li><span><a href=\"#A-9\" data-toc-modified-id=\"A-9-2.9\"><span class=\"toc-item-num\">2.9&nbsp;&nbsp;</span>A-9</a></span></li><li><span><a href=\"#A-10\" data-toc-modified-id=\"A-10-2.10\"><span class=\"toc-item-num\">2.10&nbsp;&nbsp;</span>A-10</a></span></li></ul></li><li><span><a href=\"#Problem-#-B\" data-toc-modified-id=\"Problem-#-B-3\"><span class=\"toc-item-num\">3&nbsp;&nbsp;</span>Problem # B</a></span><ul class=\"toc-item\"><li><span><a href=\"#B-1\" data-toc-modified-id=\"B-1-3.1\"><span class=\"toc-item-num\">3.1&nbsp;&nbsp;</span>B-1</a></span></li><li><span><a href=\"#B-2\" data-toc-modified-id=\"B-2-3.2\"><span class=\"toc-item-num\">3.2&nbsp;&nbsp;</span>B-2</a></span></li><li><span><a href=\"#B-3\" data-toc-modified-id=\"B-3-3.3\"><span class=\"toc-item-num\">3.3&nbsp;&nbsp;</span>B-3</a></span></li><li><span><a href=\"#B-4\" data-toc-modified-id=\"B-4-3.4\"><span class=\"toc-item-num\">3.4&nbsp;&nbsp;</span>B-4</a></span></li><li><span><a href=\"#B-5\" data-toc-modified-id=\"B-5-3.5\"><span class=\"toc-item-num\">3.5&nbsp;&nbsp;</span>B-5</a></span></li></ul></li></ul></div>"
   ]
  },
  {
   "cell_type": "markdown",
   "id": "desirable-chrome",
   "metadata": {},
   "source": [
    "# Name & ID"
   ]
  },
  {
   "cell_type": "code",
   "execution_count": null,
   "id": "f2f7adb1",
   "metadata": {},
   "outputs": [],
   "source": [
    "Name= 'First_Name  Last_Name'    #write your name"
   ]
  },
  {
   "cell_type": "code",
   "execution_count": null,
   "id": "06518589",
   "metadata": {},
   "outputs": [],
   "source": [
    "ID= 202012345   #write your student ID"
   ]
  },
  {
   "cell_type": "code",
   "execution_count": null,
   "id": "0811c8bf",
   "metadata": {
    "deletable": false,
    "editable": false
   },
   "outputs": [],
   "source": [
    "# Execute this cell \n",
    "try:\n",
    "    if (Name== 'First_Name  Last_Name')  | (ID== 202012345):\n",
    "        raise ValueError('''\n",
    "    **************************MISSING INFO*****************************\n",
    "    Enter your name & student ID in the top cells (& execute the cells)\n",
    "    *******************************************************************''') \n",
    "except:\n",
    "    raise ValueError('''\n",
    "    **************************MISSING INFO*****************************\n",
    "    Enter your name & student ID in the top cells (& execute the cells)\n",
    "    *******************************************************************''')\n",
    "else:\n",
    "    print('All set, you can proceed!')"
   ]
  },
  {
   "cell_type": "markdown",
   "id": "complete-allah",
   "metadata": {},
   "source": [
    "# Problem # A"
   ]
  },
  {
   "cell_type": "markdown",
   "id": "b01842ce",
   "metadata": {},
   "source": [
    "## A-1"
   ]
  },
  {
   "cell_type": "code",
   "execution_count": null,
   "id": "excess-reynolds",
   "metadata": {},
   "outputs": [],
   "source": [
    "#Answer for A-1"
   ]
  },
  {
   "cell_type": "markdown",
   "id": "f4bc4200",
   "metadata": {},
   "source": [
    "## A-2"
   ]
  },
  {
   "cell_type": "code",
   "execution_count": null,
   "id": "suited-thursday",
   "metadata": {},
   "outputs": [],
   "source": [
    "#Answer for A-2"
   ]
  },
  {
   "cell_type": "markdown",
   "id": "feb3615a",
   "metadata": {},
   "source": [
    "## A-3"
   ]
  },
  {
   "cell_type": "code",
   "execution_count": null,
   "id": "organic-demand",
   "metadata": {},
   "outputs": [],
   "source": [
    "#Answer for A-3"
   ]
  },
  {
   "cell_type": "markdown",
   "id": "5178cb9f",
   "metadata": {},
   "source": [
    "## A-4"
   ]
  },
  {
   "cell_type": "code",
   "execution_count": null,
   "id": "beginning-provincial",
   "metadata": {},
   "outputs": [],
   "source": [
    "#Answer for A-4"
   ]
  },
  {
   "cell_type": "markdown",
   "id": "e116f306",
   "metadata": {},
   "source": [
    "## A-5"
   ]
  },
  {
   "cell_type": "code",
   "execution_count": null,
   "id": "reasonable-protection",
   "metadata": {},
   "outputs": [],
   "source": [
    "#Answer for A-5"
   ]
  },
  {
   "cell_type": "markdown",
   "id": "cb8a1683",
   "metadata": {},
   "source": [
    "## A-6"
   ]
  },
  {
   "cell_type": "code",
   "execution_count": null,
   "id": "grand-finger",
   "metadata": {},
   "outputs": [],
   "source": [
    "#Answer for A-6"
   ]
  },
  {
   "cell_type": "markdown",
   "id": "6166d701",
   "metadata": {},
   "source": [
    "## A-7"
   ]
  },
  {
   "cell_type": "code",
   "execution_count": null,
   "id": "accepting-engineering",
   "metadata": {},
   "outputs": [],
   "source": [
    "#Answer for A-7"
   ]
  },
  {
   "cell_type": "markdown",
   "id": "608d589e",
   "metadata": {},
   "source": [
    "## A-8"
   ]
  },
  {
   "cell_type": "code",
   "execution_count": null,
   "id": "35ae531e",
   "metadata": {},
   "outputs": [],
   "source": [
    "#Answer for A-8"
   ]
  },
  {
   "cell_type": "markdown",
   "id": "e4fc2189",
   "metadata": {},
   "source": [
    "## A-9"
   ]
  },
  {
   "cell_type": "code",
   "execution_count": null,
   "id": "62d53a94",
   "metadata": {},
   "outputs": [],
   "source": [
    "#Answer for A-9"
   ]
  },
  {
   "cell_type": "markdown",
   "id": "63266855",
   "metadata": {},
   "source": [
    "## A-10"
   ]
  },
  {
   "cell_type": "code",
   "execution_count": null,
   "id": "1eaabef6",
   "metadata": {},
   "outputs": [],
   "source": [
    "#Answer for A-10"
   ]
  },
  {
   "cell_type": "markdown",
   "id": "dominant-complement",
   "metadata": {},
   "source": [
    "# Problem # B"
   ]
  },
  {
   "cell_type": "code",
   "execution_count": 3,
   "id": "4f57d751",
   "metadata": {
    "deletable": false,
    "editable": false
   },
   "outputs": [],
   "source": [
    "import matplotlib.pyplot as plt\n",
    "import numpy as np\n",
    "from scipy import stats \n",
    "\n",
    "Data = {\n",
    "\"Model A\": [3.13,5.67,4.73,4.70,6.38,6.04,7.88,4.10,6.17,4.72,5.12,4.34,4.83,4.43,6.87,5.55,\n",
    "            4.40,5.32,2.41,4.36,4.28,5.39,6.15,4.26,5.95,3.64,5.15,4.11,4.97,6.76],\n",
    "\"Model B\": [5.08,6.41,5.80,4.87,6.94,5.29,5.02,6.34,5.72,5.47,4.48,5.94,5.28,5.82,4.64,5.06,\n",
    "            5.57,5.36,7.10,6.30,6.08,4.52,5.25,4.91,4.47,4.40,5.09,5.72,5.64,4.78],\n",
    "\"Model C\":  [4.88,4.15,5.45,5.05,3.96,6.45,5.82,8.50,3.83,6.25,17.18,6.90,5.82,5.07,3.82,5.87,\n",
    "             6.49,7.10,6.07,5.41,7.63,6.66,5.08,5.81,6.82,5.22,6.02,5.67,5.64,5.87],\n",
    "\"Model D\":[8.30,5.75,5.45,5.53,5.77,7.13,9.20,8.12,5.75,5.45,5.53,14.92,5.22,5.56,6.02,5.10,\n",
    "           5.21,6.58,6.14,9.20,6.93,9.20,5.36,6.39,3.10,5.85,6.75,4.75,9.20,6.41],\n",
    "\"Model E\": [6.43,5.18,5.29,5.31,4.04,6.43,3.95,5.17,4.74,5.45,4.91,6.69,5.29,8.40,5.17,8.40,\n",
    "            3.68,5.26,7.52,4.77,8.40,6.43,6.43,5.29,5.29,6.88,6.83,5.09,4.18,6.88]\n",
    "}"
   ]
  },
  {
   "cell_type": "markdown",
   "id": "20eadee9",
   "metadata": {},
   "source": [
    "## B-1"
   ]
  },
  {
   "cell_type": "code",
   "execution_count": 5,
   "id": "herbal-faculty",
   "metadata": {},
   "outputs": [
    {
     "data": {
      "image/png": "[encoded data removed]",
      "text/plain": [
       "<Figure size 216x360 with 1 Axes>"
      ]
     },
     "metadata": {
      "needs_background": "light"
     },
     "output_type": "display_data"
    },
    {
     "data": {
      "image/png": "[encoded data removed]",
      "text/plain": [
       "<Figure size 216x360 with 1 Axes>"
      ]
     },
     "metadata": {
      "needs_background": "light"
     },
     "output_type": "display_data"
    },
    {
     "data": {
      "image/png": "[encoded data removed]",
      "text/plain": [
       "<Figure size 216x360 with 1 Axes>"
      ]
     },
     "metadata": {
      "needs_background": "light"
     },
     "output_type": "display_data"
    },
    {
     "data": {
      "image/png": "[encoded data removed]",
      "text/plain": [
       "<Figure size 216x360 with 1 Axes>"
      ]
     },
     "metadata": {
      "needs_background": "light"
     },
     "output_type": "display_data"
    },
    {
     "data": {
      "image/png": "[encoded data removed]",
      "text/plain": [
       "<Figure size 216x360 with 1 Axes>"
      ]
     },
     "metadata": {
      "needs_background": "light"
     },
     "output_type": "display_data"
    }
   ],
   "source": [
    "#Answer for B-1\n",
    "for section in Data:            # Dictionary’s default iterator is key\n",
    "  series = Data[section].copy() # copy the list\n",
    "  plt.figure(figsize=(3,5))     # set the figure size to width =3 and heighr = 5\n",
    "  plt.hist(series,bins = 5)     # plot the histogram with number of bins 5\n",
    "  plt.title(section)\n",
    "  plt.show()                    # Show the figure"
   ]
  },
  {
   "cell_type": "markdown",
   "id": "792a9da7",
   "metadata": {},
   "source": [
    "## B-2"
   ]
  },
  {
   "cell_type": "code",
   "execution_count": null,
   "id": "standard-hollow",
   "metadata": {},
   "outputs": [],
   "source": [
    "#Answer for B-2\n",
    "for section in Data:            # Dictionary’s default iterator is key\n",
    "  series = Data[section].copy() # copy the list\n",
    "  series = np.array(series)     # Make the list into array\n",
    "  print(f'{section}')           # Print the data set name\n",
    "  print(f'The mean is {series.mean()}, the median is {np.median(series)}, and the mode is {stats.mode(series)[0]}.')\n",
    "  print(f\"\"\"the sample variance is {np.var(series,ddof=1)}, and \n",
    "the sample standard deviation is {np.std(series,ddof=1)}.\"\"\")\n",
    "  Q3, Q1 = np.percentile(series, [75 ,25])  # calculte the Q3 nad Q4\n",
    "  IQR = Q3 - Q1                             # GET THE iqr\n",
    "  print(f'The interquartile range is {IQR}\\n')"
   ]
  },
  {
   "cell_type": "markdown",
   "id": "280f238b",
   "metadata": {},
   "source": [
    "## B-3"
   ]
  },
  {
   "cell_type": "code",
   "execution_count": null,
   "id": "tough-wrestling",
   "metadata": {},
   "outputs": [],
   "source": [
    "#Answer for B-3\n",
    "fig = plt.figure(figsize=(6,8))                             # Plot the figure\n",
    "ax = fig.add_subplot(111)                                   # Add a subplot\n",
    "plt.boxplot([section.copy() for section in Data.values()])  # plot Boxplot for each data model in one figure\n",
    "plt.title('Box Plot')                                       # Set the title\n",
    "ax.set_xticklabels([section for section in Data ])          # Set the x-axis labels\n",
    "plt.show()\n",
    "\n",
    "'''\n",
    "Model c and Model D have the outliers\n",
    "'''"
   ]
  },
  {
   "cell_type": "markdown",
   "id": "73e6ccfb",
   "metadata": {},
   "source": [
    "## B-4"
   ]
  },
  {
   "cell_type": "code",
   "execution_count": null,
   "id": "directed-microwave",
   "metadata": {},
   "outputs": [],
   "source": [
    "#Answer for B-4\n",
    "from scipy.stats import shapiro\n",
    "\n",
    "print(\"Null hypothesis = the sample has a normal distribution.\")\n",
    "print(\"*\"*54)\n",
    "for section in Data:\n",
    "  series = Data[section].copy()\n",
    "  _, pval = shapiro(series)\n",
    "\n",
    "  if pval < 0.05:\n",
    "    print(f\"We reject null hypothesis for {section}\")\n",
    "  else:\n",
    "    print(f\"We fail to reject null hypothesis for {section}\")\n",
    "\n",
    "'''\n",
    "Model A and Model B we fail to reject our null hypothesis because it has greater p value than level of significance. But others have low. Therfore we reject the null \n",
    "hypothesis.Therefor A nd B models have normal distributions\n",
    "'''"
   ]
  },
  {
   "cell_type": "markdown",
   "id": "f948f3cc",
   "metadata": {},
   "source": [
    "## B-5"
   ]
  },
  {
   "cell_type": "code",
   "execution_count": null,
   "id": "forbidden-armor",
   "metadata": {},
   "outputs": [],
   "source": [
    "#Answer for B-5\n",
    "from scipy.stats import mannwhitneyu\n",
    "\n",
    "keys = [key for key in Data.keys()]     # Extract the keys\n",
    "\n",
    "for i in range(len(keys)):\n",
    "  for j in range(len(keys)):\n",
    "    if i < j:                           # Avoid the comapring same data set twice and comparying between itself\n",
    "      print(f\"{keys[i]} and {keys[j]}\")                            \n",
    "      _,pval = mannwhitneyu(Data[keys[i]],Data[keys[j]], alternative='two-sided') # check keyword: alternative and set its value'two-sided'\n",
    "      print('p-value',pval)\n",
    "\n",
    "      if pval <0.05:\n",
    "        print(\"We reject null hypothesis\")\n",
    "      else:\n",
    "        print(\"We fail to reject null hypothesis\")\n",
    "      \n",
    "      print(\"*\"*60)\n",
    "\n",
    "'''\n",
    "Between\n",
    "Model A and Model C\n",
    "Model A and Model D\n",
    "Model A and Model E\n",
    "Model B and Model D\n",
    "Model D and Model E\n",
    "we reject the null hypothesis \n",
    "And other every duel we fail to reject\n",
    "'''"
   ]
  }
 ],
 "metadata": {
  "hide_input": false,
  "kernelspec": {
   "display_name": "Python 3",
   "language": "python",
   "name": "python3"
  },
  "language_info": {
   "codemirror_mode": {
    "name": "ipython",
    "version": 3
   },
   "file_extension": ".py",
   "mimetype": "text/x-python",
   "name": "python",
   "nbconvert_exporter": "python",
   "pygments_lexer": "ipython3",
   "version": "3.9.7"
  },
  "toc": {
   "base_numbering": 1,
   "nav_menu": {},
   "number_sections": true,
   "sideBar": true,
   "skip_h1_title": false,
   "title_cell": "Table of Contents",
   "title_sidebar": "Contents",
   "toc_cell": true,
   "toc_position": {},
   "toc_section_display": true,
   "toc_window_display": false
  },
  "varInspector": {
   "cols": {
    "lenName": 16,
    "lenType": 16,
    "lenVar": 40
   },
   "kernels_config": {
    "python": {
     "delete_cmd_postfix": "",
     "delete_cmd_prefix": "del ",
     "library": "var_list.py",
     "varRefreshCmd": "print(var_dic_list())"
    },
    "r": {
     "delete_cmd_postfix": ") ",
     "delete_cmd_prefix": "rm(",
     "library": "var_list.r",
     "varRefreshCmd": "cat(var_dic_list()) "
    }
   },
   "types_to_exclude": [
    "module",
    "function",
    "builtin_function_or_method",
    "instance",
    "_Feature"
   ],
   "window_display": false
  }
 },
 "nbformat": 4,
 "nbformat_minor": 5
}
