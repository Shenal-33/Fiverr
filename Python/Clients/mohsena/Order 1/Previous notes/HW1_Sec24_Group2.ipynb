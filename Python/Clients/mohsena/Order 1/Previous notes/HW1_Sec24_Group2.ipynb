{
  "cells": [
    {
      "cell_type": "markdown",
      "metadata": {
        "toc": true,
        "id": "fVEhjlAuINBH"
      },
      "source": [
        "<h1>Table of Contents<span class=\"tocSkip\"></span></h1>\n",
        "<div class=\"toc\"><ul class=\"toc-item\"><li><span><a href=\"#Group-Number,-Names-&amp;-IDs\" data-toc-modified-id=\"Group-Number,-Names-&amp;-IDs-1\"><span class=\"toc-item-num\">1&nbsp;&nbsp;</span>Group Number, Names &amp; IDs</a></span></li><li><span><a href=\"#Problem-#A\" data-toc-modified-id=\"Problem-#A-2\"><span class=\"toc-item-num\">2&nbsp;&nbsp;</span>Problem #A</a></span></li><li><span><a href=\"#Problem-#B\" data-toc-modified-id=\"Problem-#B-3\"><span class=\"toc-item-num\">3&nbsp;&nbsp;</span>Problem #B</a></span></li></ul></div>"
      ],
      "id": "fVEhjlAuINBH"
    },
    {
      "cell_type": "markdown",
      "metadata": {
        "id": "-zUUaPpxINBO"
      },
      "source": [
        "# Group Number, Names & ID\n"
      ],
      "id": "-zUUaPpxINBO"
    },
    {
      "cell_type": "markdown",
      "metadata": {
        "id": "ByAWU03QINBP"
      },
      "source": [
        "# Problem #A"
      ],
      "id": "ByAWU03QINBP"
    },
    {
      "cell_type": "code",
      "execution_count": null,
      "metadata": {
        "id": "x3DOaJFbINBP"
      },
      "outputs": [],
      "source": [
        "#A-1\n",
        "l = list(range(-1, -11, -1))  # [-1, -2, ...., -10]\n",
        "l2 = [i/2 if i%2 ==0 else i for i in l] # Divide every even by 2\n",
        "print(l2)"
      ],
      "id": "x3DOaJFbINBP"
    },
    {
      "cell_type": "code",
      "execution_count": null,
      "metadata": {
        "id": "49Ur5YRBINBR"
      },
      "outputs": [],
      "source": [
        "#A-2\n",
        "l = [i if j == 0 else -i for i in range(1,10) for j in range(2)] # Add alternative positive/negative values\n",
        "print(l)"
      ],
      "id": "49Ur5YRBINBR"
    },
    {
      "cell_type": "code",
      "execution_count": null,
      "metadata": {
        "id": "sXueuLS7INBS"
      },
      "outputs": [],
      "source": [
        "#A-3\n",
        "\n",
        "st = '''Vjg dguv rtqitcou ctg ytkvvgp uq vjcv eqorwvkpi ocejkpgu ecp rgthqto vjgo\n",
        "swkemn{0 Cnuq. vjg dguv rtqitcou ctg ytkvvgp uq vjcv jwocp dgkpiu ecp wpfgtuvcpf\n",
        "vjgo engctn{0 C iqqf guuc{kuv cpf c iqqf rtqitcoogt jcxg c nqv kp eqooqp0'''\n",
        "\n",
        "l3 = st.split() # split the sentence into a list of words\n",
        "print(l3)"
      ],
      "id": "sXueuLS7INBS"
    },
    {
      "cell_type": "code",
      "execution_count": null,
      "metadata": {
        "id": "LUoMOEWkINBT"
      },
      "outputs": [],
      "source": [
        "#A-4\n",
        "\n",
        "l4 = [i.strip() for i in l3] # to remove newline characters (if any)\n",
        "print(l3)"
      ],
      "id": "LUoMOEWkINBT"
    },
    {
      "cell_type": "code",
      "execution_count": null,
      "metadata": {
        "id": "TjVJJS30INBU"
      },
      "outputs": [],
      "source": [
        "#A-5\n",
        "    # Breakdown the word into list of letters.\n",
        "    # Convert each of the above letters into integer, using ord() function.\n",
        "    # Update the integer values by -2 for all the above integers.\n",
        "    # Convert each updated integer value into letter, using chr() function.\n",
        "    # Join the updated letters in the order to create new word.\n",
        "l5 = list(map(lambda word: \"\".join([chr(ord(cr)-2) for cr in list(word) if cr != \" \"]), l4))\n",
        "print(l5)"
      ],
      "id": "TjVJJS30INBU"
    },
    {
      "cell_type": "code",
      "execution_count": null,
      "metadata": {
        "id": "2IgnoAXpINBV"
      },
      "outputs": [],
      "source": [
        "#A-6\n",
        "\n",
        "s6 = \" \".join(l5) # to Join the list of new words into one string of words\n",
        "print(s6)"
      ],
      "id": "2IgnoAXpINBV"
    },
    {
      "cell_type": "code",
      "execution_count": null,
      "metadata": {
        "id": "vpUTzWB9INBV"
      },
      "outputs": [],
      "source": [
        "#A-7\n",
        "    # Ask the user to enter a number from the following choices: 10, 20, 30, 40, 50, 60, 70, 80, 90, 100\n",
        "    # Returns the roman numerals and the word form for the entered number.\n",
        "    \n",
        "print({\"10\" : \"X Ten\", \"20\" : \"XX Twenty\", \"30\" : \"XXX Thirty\", \"40\" : \"XL Forty\", \"50\" : \"L Fifty\", \"60\" : \"LX Sixty\", \"70\" : \"LXX Seventy\",\n",
        "    \"80\" : \"LXXX Eighty\", \"90\" : \"XC Ninety\", \"100\" : \"C One Hundred\"}.get(input(\"Enter a number from the following choices: 10, 20, 30, 40, 50, 60, 70, 80, 90, 100: \")))"
      ],
      "id": "vpUTzWB9INBV"
    },
    {
      "cell_type": "markdown",
      "metadata": {
        "id": "bWwNOuD7INBW"
      },
      "source": [
        "# Problem #B"
      ],
      "id": "bWwNOuD7INBW"
    },
    {
      "cell_type": "code",
      "execution_count": null,
      "metadata": {
        "id": "X4psN8b9INBX",
        "outputId": "e3df7a3d-5c9e-466e-e18d-b342a63f4c63"
      },
      "outputs": [
        {
          "name": "stdout",
          "output_type": "stream",
          "text": [
            "[[6 6 6 4 0 9 7 9 2]\n",
            " [3 9 7 3 9 0 1 3 2]\n",
            " [2 3 0 7 8 6 6 9 0]\n",
            " [4 7 7 8 7 3 3 1 0]\n",
            " [1 2 5 8 9 3 7 2 3]\n",
            " [0 7 1 6 1 5 6 3 6]\n",
            " [7 8 5 5 1 9 2 2 5]\n",
            " [5 1 7 4 2 4 9 8 4]]\n"
          ]
        }
      ],
      "source": [
        "#B-1 \n",
        "import numpy as np\n",
        "np.random.seed(211)\n",
        "S = np.random.randint(0,10,(8,9)) #to create a random integer numpy nd-array of size 8x9\n",
        "print(S)"
      ],
      "id": "X4psN8b9INBX"
    },
    {
      "cell_type": "code",
      "execution_count": null,
      "metadata": {
        "id": "aavxw--qINBY"
      },
      "outputs": [],
      "source": [
        "#B-2\n",
        "    # to print the dimensions, shape and size of S\n",
        "print(f'Number of dimensions: {S.ndim}')\n",
        "print(f'Size: {S.size}')\n",
        "print(f'Shape: {S.shape[0]}x{S.shape[1]}')"
      ],
      "id": "aavxw--qINBY"
    },
    {
      "cell_type": "code",
      "execution_count": null,
      "metadata": {
        "id": "vmjwEqFNINBZ"
      },
      "outputs": [],
      "source": [
        "#B-3\n",
        "print(S[-2] ** 2) # Print squares of all the elements of the last but one row (index -2 ) of S"
      ],
      "id": "vmjwEqFNINBZ"
    },
    {
      "cell_type": "code",
      "execution_count": null,
      "metadata": {
        "id": "rw-9rAsOINBZ"
      },
      "outputs": [],
      "source": [
        "#B-4\n",
        "print(S[:,-2]/10) # Print 1/10 th of all the elements of the second column from the end (index -2 ) of S"
      ],
      "id": "rw-9rAsOINBZ"
    },
    {
      "cell_type": "code",
      "execution_count": null,
      "metadata": {
        "id": "uFPCZ2MxINBa"
      },
      "outputs": [],
      "source": [
        "#B-5\n",
        "print(S[1::2]) # Print alternate rows starting from row indexed 1, and all the columns of S"
      ],
      "id": "uFPCZ2MxINBa"
    },
    {
      "cell_type": "code",
      "execution_count": null,
      "metadata": {
        "id": "JHC-FH2rINBa"
      },
      "outputs": [],
      "source": [
        "#B-6\n",
        "print(S[:,2::2]) # Print all the rows, and alternate columns starting from column indexed 2 of S."
      ],
      "id": "JHC-FH2rINBa"
    },
    {
      "cell_type": "code",
      "execution_count": null,
      "metadata": {
        "id": "6vvZSHPmINBa"
      },
      "outputs": [],
      "source": [
        "#B-7\n",
        "print(S[::-1]) # Print S with all rows reversed"
      ],
      "id": "6vvZSHPmINBa"
    },
    {
      "cell_type": "code",
      "execution_count": null,
      "metadata": {
        "id": "Nnpl3yVHINBb"
      },
      "outputs": [],
      "source": [
        "#B-8\n",
        "print(S[:,::-1]) # Print S with all columns reversed."
      ],
      "id": "Nnpl3yVHINBb"
    },
    {
      "cell_type": "code",
      "execution_count": null,
      "metadata": {
        "id": "DISijdiDINBb"
      },
      "outputs": [],
      "source": [
        "#B-9\n",
        "    # Print a slice of S containing rows indexed [2,4,5] in order, and columns indexed [3,6,1] in order.\n",
        "print(S[[2,4,5]][:,[3,6,1]]) "
      ],
      "id": "DISijdiDINBb"
    },
    {
      "cell_type": "code",
      "execution_count": null,
      "metadata": {
        "id": "uyZXwNwdINBb"
      },
      "outputs": [],
      "source": [
        "#B-10\n",
        "    # Create a copy of S, say P. Subtract −9 from all the middle column elements of P.\n",
        "    # Insert a newrow of all ones in the middle P, such that the new dimesions of P become 9x9.\n",
        "    # Print both S and P.\n",
        "P = S.copy()\n",
        "P[:, S.shape[1]//2] -= 9\n",
        "P = np.vstack((P[:P.shape[0]//2], np.ones(P.shape[1], dtype = \"int\"), P[P.shape[0]//2:]))\n",
        "print(S, S.shape)\n",
        "print(P, P.shape)"
      ],
      "id": "uyZXwNwdINBb"
    },
    {
      "cell_type": "markdown",
      "metadata": {
        "id": "nQIwWIJGINBc"
      },
      "source": [
        "# Problem #D"
      ],
      "id": "nQIwWIJGINBc"
    },
    {
      "cell_type": "code",
      "execution_count": null,
      "metadata": {
        "id": "mRGU9ZyLINBc",
        "outputId": "f55d6553-9ba1-4cd9-e5a7-9880ada2d1fe"
      },
      "outputs": [
        {
          "name": "stdout",
          "output_type": "stream",
          "text": [
            "[[16 80 14 52 85 26 86 40]\n",
            " [24 57 12 29 35 39 25 33]\n",
            " [24 29 83 26 52 27 40 77]\n",
            " [28 13 82 53 39 53 25 80]\n",
            " [56 37 87 54 43 10 59 47]]\n"
          ]
        }
      ],
      "source": [
        "np.random.seed(211)\n",
        "D = np.random.randint(10,90,(5,8))\n",
        "print(D)"
      ],
      "id": "mRGU9ZyLINBc"
    },
    {
      "cell_type": "code",
      "execution_count": null,
      "metadata": {
        "id": "isENNseBINBd",
        "outputId": "65170d45-ee88-4523-b5be-0a784c60a45f"
      },
      "outputs": [
        {
          "name": "stdout",
          "output_type": "stream",
          "text": [
            "[[11 75  9 47 80 21 81 35]\n",
            " [19 52  7 24 30 34 20 28]\n",
            " [19 24 78 21 47 22 35 72]\n",
            " [23  8 77 48 34 48 20 75]\n",
            " [51 32 82 49 38  5 54 42]]\n"
          ]
        }
      ],
      "source": [
        "D -= 5\n",
        "print(D)"
      ],
      "id": "isENNseBINBd"
    },
    {
      "cell_type": "code",
      "execution_count": null,
      "metadata": {
        "id": "UV4-RhHMINBd",
        "outputId": "bda8f265-85d3-4cd1-f7b5-a7096f76e890"
      },
      "outputs": [
        {
          "name": "stdout",
          "output_type": "stream",
          "text": [
            "[[11 75  9 47 80 21 81 35]\n",
            " [19 52  7 24 30 34 20 28]\n",
            " [14 19 73 16 42 17 30 67]\n",
            " [23  8 77 48 34 48 20 75]\n",
            " [51 32 82 49 38  5 54 42]]\n"
          ]
        }
      ],
      "source": [
        "D[2] = D[2]-5\n",
        "print(D)"
      ],
      "id": "UV4-RhHMINBd"
    },
    {
      "cell_type": "code",
      "execution_count": null,
      "metadata": {
        "id": "qhfk3RR9INBd",
        "outputId": "f76a57f5-2828-4f05-efc2-8709b409832a"
      },
      "outputs": [
        {
          "name": "stdout",
          "output_type": "stream",
          "text": [
            "[[11 75  9 47 75 21 81 35]\n",
            " [19 52  7 24 25 34 20 28]\n",
            " [14 19 73 16 37 17 30 67]\n",
            " [23  8 77 48 29 48 20 75]\n",
            " [51 32 82 49 33  5 54 42]]\n"
          ]
        }
      ],
      "source": [
        "D[:,4] = D[:,4]-5\n",
        "print(D)"
      ],
      "id": "qhfk3RR9INBd"
    },
    {
      "cell_type": "code",
      "execution_count": null,
      "metadata": {
        "id": "5LS-5wd3INBe",
        "outputId": "9de30384-16f6-4ce5-fc75-5fb224f56698"
      },
      "outputs": [
        {
          "name": "stdout",
          "output_type": "stream",
          "text": [
            "[[11 75  9 47 75 21 81 35]\n",
            " [ 1  5  0  2  2  3  2  2]\n",
            " [ 1  1  7  1  3  1  3  6]\n",
            " [23  8 77 48 29 48 20 75]\n",
            " [51 32 82 49 33  5 54 42]]\n"
          ]
        }
      ],
      "source": [
        "D[1:3] = D[1:3]/10\n",
        "print(D)"
      ],
      "id": "5LS-5wd3INBe"
    },
    {
      "cell_type": "code",
      "execution_count": null,
      "metadata": {
        "id": "GkcuSxJYINBe",
        "outputId": "cc3b2105-6bae-4a61-ca8c-2ce220d79f90"
      },
      "outputs": [
        {
          "name": "stdout",
          "output_type": "stream",
          "text": [
            "[[11 75  9 47 75 21 81 35]\n",
            " [ 1  5  0  2  2  3  2  2]\n",
            " [ 1  1  7  1  3  1  3  6]\n",
            " [23  8 77 48 29 48 20 75]\n",
            " [51 32 82 49 33  5 54 42]]\n",
            "[[  0 100   0   0 100   0 100   0]\n",
            " [  0   0   0   0   0   0   0   0]\n",
            " [  0   0   0   0   0   0   0   0]\n",
            " [  0   0 100   0   0   0   0 100]\n",
            " [100   0 100   0   0   0 100   0]]\n"
          ]
        }
      ],
      "source": [
        "D1 = D.copy()\n",
        "D1[(D1 < 50)] = 0\n",
        "D1[(D1 >= 50)] = 100\n",
        "print(D)\n",
        "print(D1)"
      ],
      "id": "GkcuSxJYINBe"
    },
    {
      "cell_type": "code",
      "execution_count": null,
      "metadata": {
        "id": "qpqOvuESINBe",
        "outputId": "81e739a8-1f4c-4910-a1f6-46af88ec8ab9"
      },
      "outputs": [
        {
          "ename": "ValueError",
          "evalue": "array split does not result in an equal division",
          "output_type": "error",
          "traceback": [
            "\u001b[1;31m---------------------------------------------------------------------------\u001b[0m",
            "\u001b[1;31mTypeError\u001b[0m                                 Traceback (most recent call last)",
            "\u001b[1;32m~\\anaconda3\\lib\\site-packages\\numpy\\lib\\shape_base.py\u001b[0m in \u001b[0;36msplit\u001b[1;34m(ary, indices_or_sections, axis)\u001b[0m\n\u001b[0;32m    864\u001b[0m     \u001b[1;32mtry\u001b[0m\u001b[1;33m:\u001b[0m\u001b[1;33m\u001b[0m\u001b[1;33m\u001b[0m\u001b[0m\n\u001b[1;32m--> 865\u001b[1;33m         \u001b[0mlen\u001b[0m\u001b[1;33m(\u001b[0m\u001b[0mindices_or_sections\u001b[0m\u001b[1;33m)\u001b[0m\u001b[1;33m\u001b[0m\u001b[1;33m\u001b[0m\u001b[0m\n\u001b[0m\u001b[0;32m    866\u001b[0m     \u001b[1;32mexcept\u001b[0m \u001b[0mTypeError\u001b[0m\u001b[1;33m:\u001b[0m\u001b[1;33m\u001b[0m\u001b[1;33m\u001b[0m\u001b[0m\n",
            "\u001b[1;31mTypeError\u001b[0m: object of type 'int' has no len()",
            "\nDuring handling of the above exception, another exception occurred:\n",
            "\u001b[1;31mValueError\u001b[0m                                Traceback (most recent call last)",
            "\u001b[1;32m<ipython-input-54-1e52e36bd774>\u001b[0m in \u001b[0;36m<module>\u001b[1;34m\u001b[0m\n\u001b[1;32m----> 1\u001b[1;33m \u001b[0mD2\u001b[0m\u001b[1;33m,\u001b[0m \u001b[0mD3\u001b[0m\u001b[1;33m=\u001b[0m \u001b[0mnp\u001b[0m\u001b[1;33m.\u001b[0m\u001b[0msplit\u001b[0m\u001b[1;33m(\u001b[0m\u001b[0mD1\u001b[0m\u001b[1;33m,\u001b[0m \u001b[1;36m2\u001b[0m\u001b[1;33m)\u001b[0m\u001b[1;33m\u001b[0m\u001b[1;33m\u001b[0m\u001b[0m\n\u001b[0m\u001b[0;32m      2\u001b[0m \u001b[0mprint\u001b[0m\u001b[1;33m(\u001b[0m\u001b[0mD2\u001b[0m\u001b[1;33m,\u001b[0m \u001b[0mnp\u001b[0m\u001b[1;33m.\u001b[0m\u001b[0mshape\u001b[0m\u001b[1;33m(\u001b[0m\u001b[0mD2\u001b[0m\u001b[1;33m)\u001b[0m\u001b[1;33m)\u001b[0m\u001b[1;33m\u001b[0m\u001b[1;33m\u001b[0m\u001b[0m\n\u001b[0;32m      3\u001b[0m \u001b[1;33m\u001b[0m\u001b[0m\n\u001b[0;32m      4\u001b[0m \u001b[0mprint\u001b[0m\u001b[1;33m(\u001b[0m\u001b[0mD3\u001b[0m\u001b[1;33m,\u001b[0m \u001b[0mnp\u001b[0m\u001b[1;33m.\u001b[0m\u001b[0mshape\u001b[0m\u001b[1;33m(\u001b[0m\u001b[0mD3\u001b[0m\u001b[1;33m)\u001b[0m\u001b[1;33m)\u001b[0m\u001b[1;33m\u001b[0m\u001b[1;33m\u001b[0m\u001b[0m\n",
            "\u001b[1;32m<__array_function__ internals>\u001b[0m in \u001b[0;36msplit\u001b[1;34m(*args, **kwargs)\u001b[0m\n",
            "\u001b[1;32m~\\anaconda3\\lib\\site-packages\\numpy\\lib\\shape_base.py\u001b[0m in \u001b[0;36msplit\u001b[1;34m(ary, indices_or_sections, axis)\u001b[0m\n\u001b[0;32m    868\u001b[0m         \u001b[0mN\u001b[0m \u001b[1;33m=\u001b[0m \u001b[0mary\u001b[0m\u001b[1;33m.\u001b[0m\u001b[0mshape\u001b[0m\u001b[1;33m[\u001b[0m\u001b[0maxis\u001b[0m\u001b[1;33m]\u001b[0m\u001b[1;33m\u001b[0m\u001b[1;33m\u001b[0m\u001b[0m\n\u001b[0;32m    869\u001b[0m         \u001b[1;32mif\u001b[0m \u001b[0mN\u001b[0m \u001b[1;33m%\u001b[0m \u001b[0msections\u001b[0m\u001b[1;33m:\u001b[0m\u001b[1;33m\u001b[0m\u001b[1;33m\u001b[0m\u001b[0m\n\u001b[1;32m--> 870\u001b[1;33m             raise ValueError(\n\u001b[0m\u001b[0;32m    871\u001b[0m                 'array split does not result in an equal division')\n\u001b[0;32m    872\u001b[0m     \u001b[1;32mreturn\u001b[0m \u001b[0marray_split\u001b[0m\u001b[1;33m(\u001b[0m\u001b[0mary\u001b[0m\u001b[1;33m,\u001b[0m \u001b[0mindices_or_sections\u001b[0m\u001b[1;33m,\u001b[0m \u001b[0maxis\u001b[0m\u001b[1;33m)\u001b[0m\u001b[1;33m\u001b[0m\u001b[1;33m\u001b[0m\u001b[0m\n",
            "\u001b[1;31mValueError\u001b[0m: array split does not result in an equal division"
          ]
        }
      ],
      "source": [
        "D2, D3= np.split(D1, 2)\n",
        "print(D2, np.shape(D2))\n",
        "\n",
        "print(D3, np.shape(D3))"
      ],
      "id": "qpqOvuESINBe"
    },
    {
      "cell_type": "code",
      "execution_count": null,
      "metadata": {
        "id": "RjP6ZOmdINBf",
        "outputId": "b5cba8dc-ddf1-4966-c865-6113aa1caf93"
      },
      "outputs": [
        {
          "name": "stdout",
          "output_type": "stream",
          "text": [
            "[ 3  6  9 12]\n"
          ]
        }
      ],
      "source": [
        "array1 =np.array([1,2,3,4])\n",
        "print((lambda x: x * 3 )(array1))\n"
      ],
      "id": "RjP6ZOmdINBf"
    },
    {
      "cell_type": "code",
      "execution_count": null,
      "metadata": {
        "id": "f5JpfO0TINBf"
      },
      "outputs": [],
      "source": [
        ""
      ],
      "id": "f5JpfO0TINBf"
    }
  ],
  "metadata": {
    "hide_input": false,
    "kernelspec": {
      "display_name": "Python 3",
      "language": "python",
      "name": "python3"
    },
    "language_info": {
      "codemirror_mode": {
        "name": "ipython",
        "version": 3
      },
      "file_extension": ".py",
      "mimetype": "text/x-python",
      "name": "python",
      "nbconvert_exporter": "python",
      "pygments_lexer": "ipython3",
      "version": "3.8.3"
    },
    "toc": {
      "base_numbering": 1,
      "nav_menu": {},
      "number_sections": true,
      "sideBar": true,
      "skip_h1_title": false,
      "title_cell": "Table of Contents",
      "title_sidebar": "Contents",
      "toc_cell": true,
      "toc_position": {},
      "toc_section_display": true,
      "toc_window_display": false
    },
    "varInspector": {
      "cols": {
        "lenName": 16,
        "lenType": 16,
        "lenVar": 40
      },
      "kernels_config": {
        "python": {
          "delete_cmd_postfix": "",
          "delete_cmd_prefix": "del ",
          "library": "var_list.py",
          "varRefreshCmd": "print(var_dic_list())"
        },
        "r": {
          "delete_cmd_postfix": ") ",
          "delete_cmd_prefix": "rm(",
          "library": "var_list.r",
          "varRefreshCmd": "cat(var_dic_list()) "
        }
      },
      "types_to_exclude": [
        "module",
        "function",
        "builtin_function_or_method",
        "instance",
        "_Feature"
      ],
      "window_display": false
    },
    "colab": {
      "name": "HW1-Sec24-Group2.ipynb",
      "provenance": []
    }
  },
  "nbformat": 4,
  "nbformat_minor": 5
}