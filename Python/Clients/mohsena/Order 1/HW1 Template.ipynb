{
 "cells": [
  {
   "cell_type": "markdown",
   "id": "blocked-nightmare",
   "metadata": {
    "toc": true
   },
   "source": [
    "<h1>Table of Contents<span class=\"tocSkip\"></span></h1>\n",
    "<div class=\"toc\"><ul class=\"toc-item\"><li><span><a href=\"#Name-&amp;-ID\" data-toc-modified-id=\"Name-&amp;-ID-1\"><span class=\"toc-item-num\">1&nbsp;&nbsp;</span>Name &amp; ID</a></span></li><li><span><a href=\"#Problem-#-A\" data-toc-modified-id=\"Problem-#-A-2\"><span class=\"toc-item-num\">2&nbsp;&nbsp;</span>Problem # A</a></span><ul class=\"toc-item\"><li><span><a href=\"#A-1\" data-toc-modified-id=\"A-1-2.1\"><span class=\"toc-item-num\">2.1&nbsp;&nbsp;</span>A-1</a></span></li><li><span><a href=\"#A-2\" data-toc-modified-id=\"A-2-2.2\"><span class=\"toc-item-num\">2.2&nbsp;&nbsp;</span>A-2</a></span></li><li><span><a href=\"#A-3\" data-toc-modified-id=\"A-3-2.3\"><span class=\"toc-item-num\">2.3&nbsp;&nbsp;</span>A-3</a></span></li><li><span><a href=\"#A-4\" data-toc-modified-id=\"A-4-2.4\"><span class=\"toc-item-num\">2.4&nbsp;&nbsp;</span>A-4</a></span></li><li><span><a href=\"#A-5\" data-toc-modified-id=\"A-5-2.5\"><span class=\"toc-item-num\">2.5&nbsp;&nbsp;</span>A-5</a></span></li><li><span><a href=\"#A-6\" data-toc-modified-id=\"A-6-2.6\"><span class=\"toc-item-num\">2.6&nbsp;&nbsp;</span>A-6</a></span></li><li><span><a href=\"#A-7\" data-toc-modified-id=\"A-7-2.7\"><span class=\"toc-item-num\">2.7&nbsp;&nbsp;</span>A-7</a></span></li><li><span><a href=\"#A-8\" data-toc-modified-id=\"A-8-2.8\"><span class=\"toc-item-num\">2.8&nbsp;&nbsp;</span>A-8</a></span></li><li><span><a href=\"#A-9\" data-toc-modified-id=\"A-9-2.9\"><span class=\"toc-item-num\">2.9&nbsp;&nbsp;</span>A-9</a></span></li><li><span><a href=\"#A-10\" data-toc-modified-id=\"A-10-2.10\"><span class=\"toc-item-num\">2.10&nbsp;&nbsp;</span>A-10</a></span></li></ul></li><li><span><a href=\"#Problem-#-B\" data-toc-modified-id=\"Problem-#-B-3\"><span class=\"toc-item-num\">3&nbsp;&nbsp;</span>Problem # B</a></span><ul class=\"toc-item\"><li><span><a href=\"#B-1\" data-toc-modified-id=\"B-1-3.1\"><span class=\"toc-item-num\">3.1&nbsp;&nbsp;</span>B-1</a></span></li><li><span><a href=\"#B-2\" data-toc-modified-id=\"B-2-3.2\"><span class=\"toc-item-num\">3.2&nbsp;&nbsp;</span>B-2</a></span></li><li><span><a href=\"#B-3\" data-toc-modified-id=\"B-3-3.3\"><span class=\"toc-item-num\">3.3&nbsp;&nbsp;</span>B-3</a></span></li><li><span><a href=\"#B-4\" data-toc-modified-id=\"B-4-3.4\"><span class=\"toc-item-num\">3.4&nbsp;&nbsp;</span>B-4</a></span></li><li><span><a href=\"#B-5\" data-toc-modified-id=\"B-5-3.5\"><span class=\"toc-item-num\">3.5&nbsp;&nbsp;</span>B-5</a></span></li><li><span><a href=\"#B-6\" data-toc-modified-id=\"B-6-3.6\"><span class=\"toc-item-num\">3.6&nbsp;&nbsp;</span>B-6</a></span></li><li><span><a href=\"#B-7\" data-toc-modified-id=\"B-7-3.7\"><span class=\"toc-item-num\">3.7&nbsp;&nbsp;</span>B-7</a></span></li><li><span><a href=\"#B-8\" data-toc-modified-id=\"B-8-3.8\"><span class=\"toc-item-num\">3.8&nbsp;&nbsp;</span>B-8</a></span></li><li><span><a href=\"#B-9\" data-toc-modified-id=\"B-9-3.9\"><span class=\"toc-item-num\">3.9&nbsp;&nbsp;</span>B-9</a></span></li><li><span><a href=\"#B-10\" data-toc-modified-id=\"B-10-3.10\"><span class=\"toc-item-num\">3.10&nbsp;&nbsp;</span>B-10</a></span></li></ul></li></ul></div>"
   ]
  },
  {
   "cell_type": "markdown",
   "id": "desirable-chrome",
   "metadata": {},
   "source": [
    "# Name & ID"
   ]
  },
  {
   "cell_type": "code",
   "execution_count": null,
   "id": "f2f7adb1",
   "metadata": {},
   "outputs": [],
   "source": [
    "Name= 'First_Name  Last_Name'    #write your name"
   ]
  },
  {
   "cell_type": "code",
   "execution_count": null,
   "id": "06518589",
   "metadata": {},
   "outputs": [],
   "source": [
    "ID= 202012345   #write your student ID"
   ]
  },
  {
   "cell_type": "code",
   "execution_count": null,
   "id": "0811c8bf",
   "metadata": {
    "deletable": false,
    "editable": false
   },
   "outputs": [],
   "source": [
    "# Execute this cell \n",
    "try:\n",
    "    if (Name== 'First_Name  Last_Name')  | (ID== 202012345):\n",
    "        raise ValueError('''\n",
    "    **************************MISSING INFO*****************************\n",
    "    Enter your name & student ID in the top cells (& execute the cells)\n",
    "    *******************************************************************''') \n",
    "except:\n",
    "    raise ValueError('''\n",
    "    **************************MISSING INFO*****************************\n",
    "    Enter your name & student ID in the top cells (& execute the cells)\n",
    "    *******************************************************************''')\n",
    "else:\n",
    "    print('All set, you can proceed!')"
   ]
  },
  {
   "cell_type": "markdown",
   "id": "complete-allah",
   "metadata": {},
   "source": [
    "# Problem # A"
   ]
  },
  {
   "cell_type": "markdown",
   "id": "b01842ce",
   "metadata": {},
   "source": [
    "## A-1"
   ]
  },
  {
   "cell_type": "code",
   "execution_count": null,
   "id": "excess-reynolds",
   "metadata": {},
   "outputs": [],
   "source": [
    "#Answer for A-1\n",
    "\n",
    "\"\"\"\n",
    "The len() function is used to get the length or number of items in an given object. Object should be sequence such as bytes, tuple, list, or range or \n",
    "object should be a  collection (such as a dictionary, set, or frozen set).\n",
    "\"\"\"\n",
    "# print(len(l1)) ==> 5\n",
    "# print(len(l2)) ==> 10"
   ]
  },
  {
   "cell_type": "markdown",
   "id": "f4bc4200",
   "metadata": {},
   "source": [
    "## A-2"
   ]
  },
  {
   "cell_type": "code",
   "execution_count": null,
   "id": "suited-thursday",
   "metadata": {},
   "outputs": [],
   "source": [
    "#Answer for A-2\n",
    "\"\"\"\n",
    "The purpose of this function is to get the index as well as the value of that index of a iterable object or an oject that supports iterable.\n",
    "For example It is useful, when you have a list over which you want to iterate, as well as keep track of index\n",
    "\"\"\"\n",
    "\n",
    "'''\n",
    "print(list(enumerate(l1))) will print the list of length 5 that contains 5 tuples. Each tuple has two element. First elemnt is the index and second is the relevant item of l1.\n",
    "print(dict(enumerate(l1))) will print the dictionary of length 5. index of the list are taken as the key and the relevant items are taken as the values\n",
    "Let l1 = ['Apple', 'Banana', 'Orange', 'Watermelon', 'Plum']\n",
    "'''\n",
    "# print(list(enumerate(l1))) => [(0, 'Apple'), (1, 'Banana'), (2, 'Orange'), (3, 'Watermelon'), (4, 'Plum')]\n",
    "# print(dict(enumerate(la))) => {0: 'Apple', 1: 'Banana', 2: 'Orange', 3: 'Watermelon', 4: 'Plum'}"
   ]
  },
  {
   "cell_type": "markdown",
   "id": "feb3615a",
   "metadata": {},
   "source": [
    "## A-3"
   ]
  },
  {
   "cell_type": "code",
   "execution_count": 118,
   "id": "organic-demand",
   "metadata": {},
   "outputs": [
    {
     "name": "stdout",
     "output_type": "stream",
     "text": [
      "[1, -1, 2, -2, 3, -3, 4, -4, 5, -5, 6, -6, 7, -7, 8, -8, 9, -9]\n"
     ]
    }
   ],
   "source": [
    "#Answer for A-3\n",
    "l1 = [i if not j else -1 * i for i in range(1,10) for j in range(2)]  # first loop go for 9 times. each of the iteration it agin go inner loop and produce two outputs\n",
    "print(l1)"
   ]
  },
  {
   "cell_type": "markdown",
   "id": "5178cb9f",
   "metadata": {},
   "source": [
    "## A-4"
   ]
  },
  {
   "cell_type": "code",
   "execution_count": null,
   "id": "beginning-provincial",
   "metadata": {},
   "outputs": [],
   "source": [
    "#Answer for A-4\n",
    "\n",
    "# str.replace()\n",
    "'''\n",
    "This function is return  a copy of the string with all occurrences of substring first argument replaced by second \n",
    "argument given to the function\n",
    "\n",
    "text = \"We are reviewing python programming topics in ise 291\"\n",
    "new_text = text.replace('ise','ISE')\n",
    "print(new_text) ==> We are reviewing python programming topics in ISE 291\n",
    "'''\n",
    "# str.join()\n",
    "'''\n",
    "This function returns a concatanations of the strings in the argument.In other words it returns a new string by joining all the elements \n",
    "of an iterable (list, string, tuple), separated by a string separator Argument should be string otherwise it gives a TypeError.\n",
    "\n",
    "text = \",\"\n",
    "new_text = text.join(\"We are reviewing python programming topics in ise 291\")\n",
    "new_text ==> W,e, ,a,r,e, ,r,e,v,i,e,w,i,n,g, ,p,y,t,h,o,n, ,p,r,o,g,r,a,m,m,i,n,g, ,t,o,p,i,c,s, ,i,n, ,i,s,e, ,2,9,1\n",
    "'''\n",
    "\n",
    "# str.split()\n",
    "'''\n",
    "This function will break the strings at the specified seperator(by default seperator = ' ') in to list of strings\n",
    "\n",
    "text = \"We are reviewing python programming topics in ise 291\"\n",
    "print(text.split())\n",
    "\n",
    "['We', 'are', 'reviewing', 'python', 'programming', 'topics', 'in', 'ise', '291']\n",
    "\n",
    "text = \"Apple,Orange,Mango,Grapes\"\n",
    "print(text.split())\n",
    "['Apple', 'Orange', 'Mango', 'Grapes']\n",
    "'''\n",
    "\n",
    "# Which of the above functions transforms a string into a list of strings?\n",
    "'''\n",
    "str.split()\n",
    "'''\n",
    "\n",
    "# Which of the above functionstransforms a list of strings into one string?\n",
    "'''\n",
    "str.join()\n",
    "'''"
   ]
  },
  {
   "cell_type": "markdown",
   "id": "e116f306",
   "metadata": {},
   "source": [
    "## A-5"
   ]
  },
  {
   "cell_type": "code",
   "execution_count": 119,
   "id": "reasonable-protection",
   "metadata": {},
   "outputs": [
    {
     "name": "stdout",
     "output_type": "stream",
     "text": [
      "['Rfc', '`cqr', 'npmep_kq', '_pc', 'upgrrcl', 'qm', 'rf_r', 'amknsrgle', 'k_afglcq', 'a_l', 'ncpdmpk', 'rfck\\n', 'osgaijw?jqm*', 'rfc', '`cqr', 'npmep_kq', '_pc', 'upgrrcl', 'qm', 'rf_r', 'fsk_l', '`cgleq', 'a_l', 'slbcpqr_lb\\n', 'rfck', 'ajc_pjw,', '?', 'emmb', 'cqq_wgqr', '_lb', '_', 'emmb', 'npmep_kkcp', 'f_tc', '_', 'jmr', 'gl', 'amkkml,']\n"
     ]
    }
   ],
   "source": [
    "#Answer for A-5\n",
    "coded_string = \"Rfc `cqr npmep_kq _pc upgrrcl qm rf_r amknsrgle k_afglcq a_l ncpdmpk rfck\\n osgaijw?jqm* rfc `cqr npmep_kq _pc upgrrcl qm rf_r fsk_l `cgleq a_l slbcpqr_lb\\n rfck ajc_pjw, ? emmb cqq_wgqr _lb _ emmb npmep_kkcp f_tc _ jmr gl amkkml,\"\n",
    "word_list = coded_string.split(' ') # split the wrords by space and geet the word list\n",
    "print(word_list)"
   ]
  },
  {
   "cell_type": "markdown",
   "id": "cb8a1683",
   "metadata": {},
   "source": [
    "## A-6"
   ]
  },
  {
   "cell_type": "code",
   "execution_count": 120,
   "id": "grand-finger",
   "metadata": {},
   "outputs": [
    {
     "name": "stdout",
     "output_type": "stream",
     "text": [
      "['Rfc', '`cqr', 'npmep_kq', '_pc', 'upgrrcl', 'qm', 'rf_r', 'amknsrgle', 'k_afglcq', 'a_l', 'ncpdmpk', 'rfck', 'osgaijw?jqm*', 'rfc', '`cqr', 'npmep_kq', '_pc', 'upgrrcl', 'qm', 'rf_r', 'fsk_l', '`cgleq', 'a_l', 'slbcpqr_lb', 'rfck', 'ajc_pjw,', '?', 'emmb', 'cqq_wgqr', '_lb', '_', 'emmb', 'npmep_kkcp', 'f_tc', '_', 'jmr', 'gl', 'amkkml,']\n"
     ]
    }
   ],
   "source": [
    "#Answer for A-6\n",
    "new_list = [s.strip() for s in word_list]   # strip() to remove \\n character\n",
    "print(new_list)"
   ]
  },
  {
   "cell_type": "markdown",
   "id": "6166d701",
   "metadata": {},
   "source": [
    "## A-7"
   ]
  },
  {
   "cell_type": "code",
   "execution_count": 121,
   "id": "accepting-engineering",
   "metadata": {},
   "outputs": [],
   "source": [
    "#Answer for A-7\n",
    "index = 0   \n",
    "copy_list = []                                                      \n",
    "\n",
    "for word in new_list:                                           # take each word      \n",
    "    characters = list(word)                                     # Break the word into list of characters\n",
    "    characters = [chr(ord(c) + 2) for c in characters]          # get the new computed characters\n",
    "    copy_list.append(''.join(characters))                       # join the characters and add them into new list\n",
    "\n",
    "new_list = copy_list                                            # update the new_list"
   ]
  },
  {
   "cell_type": "markdown",
   "id": "608d589e",
   "metadata": {},
   "source": [
    "## A-8"
   ]
  },
  {
   "cell_type": "code",
   "execution_count": 123,
   "id": "35ae531e",
   "metadata": {},
   "outputs": [
    {
     "name": "stdout",
     "output_type": "stream",
     "text": [
      "The best programs are written so that computing machines can perform them quicklyAlso, the best programs are written so that human beings can understand them clearly. A good essayist and a good programmer have a lot in common.\n"
     ]
    }
   ],
   "source": [
    "#Answer for A-8\n",
    "new_sentence = ' '.join(new_list)   # join each word by ' ' seperator\n",
    "print(new_sentence)"
   ]
  },
  {
   "cell_type": "markdown",
   "id": "e4fc2189",
   "metadata": {},
   "source": [
    "## A-9"
   ]
  },
  {
   "cell_type": "code",
   "execution_count": 124,
   "id": "62d53a94",
   "metadata": {},
   "outputs": [
    {
     "name": "stdout",
     "output_type": "stream",
     "text": [
      "{10: 'X', 20: 'XX', 30: 'XXX', 40: 'XL', 50: 'L', 60: 'LX', 70: 'LXX', 80: 'LXXX', 90: 'XC', 100: 'C'}\n"
     ]
    }
   ],
   "source": [
    "#Answer for A-9\n",
    "'''\n",
    "Dictionary is a data type structure that keep value as key and value pairs. Each value has a unique key. Key can be used to get the value\n",
    "'''\n",
    "#  What are the possible valid data types for the keys\n",
    "'''\n",
    "integer, float, string, or Boolean\n",
    "'''\n",
    "# Can a dictionary have mixed data types for the keys (for example, one key is string, another key is integer,etc)? \n",
    "'''\n",
    "yes\n",
    "'''\n",
    "numer_dic = {}  # initialize the dictionary\n",
    "roman = ['X',\"XX\", \"XXX\", \"XL\", \"L\", \"LX\", \"LXX\", \"LXXX\", \"XC\", \"C\"]    # given list\n",
    "for i in range(0,10):   # Loop 10 times\n",
    "    numer_dic[i * 10 + 10] = roman[i] # update the key value as 10,20 in each iteration and update relevant idex value from list\n",
    "\n",
    "print(numer_dic)"
   ]
  },
  {
   "cell_type": "markdown",
   "id": "63266855",
   "metadata": {},
   "source": [
    "## A-10"
   ]
  },
  {
   "cell_type": "code",
   "execution_count": 126,
   "id": "1eaabef6",
   "metadata": {},
   "outputs": [
    {
     "name": "stdout",
     "output_type": "stream",
     "text": [
      "[4, 4, 9, 9, 16, 16, 25, 25, 36, 36, 49, 49, 64, 64, 81, 81, 100, 100]\n"
     ]
    }
   ],
   "source": [
    "#Answer for A-10\n",
    "def func(x):\n",
    "    return (lambda y: y**2 + 2*y + 1 if x >= 0 else y**2 -2*y +1)(x)            # create the lambda function with given x value\n",
    "\n",
    "list1 = [i if not j else -1 * i for i in range(1,10) for j in range(2)]     # create the list1\n",
    "\n",
    "\n",
    "results = list(map(func,list1))             # using map function implicitly iterate through the list\n",
    "print(results)"
   ]
  },
  {
   "cell_type": "markdown",
   "id": "dominant-complement",
   "metadata": {},
   "source": [
    "# Problem # B"
   ]
  },
  {
   "cell_type": "markdown",
   "id": "20eadee9",
   "metadata": {},
   "source": [
    "## B-1"
   ]
  },
  {
   "cell_type": "code",
   "execution_count": null,
   "id": "herbal-faculty",
   "metadata": {},
   "outputs": [],
   "source": [
    "#Answer for B-1\n",
    "\n",
    "# How to convert an existing list into a numpy array\n",
    "'''\n",
    "Using array() method in the numpy package we can turn list into a numpy array\n",
    "np.array(list)\n",
    "'''\n",
    "\n",
    "# How to convert an existing numpy array intoa list\n",
    "'''\n",
    "Numpy array has the method call tolist(). This can be used to convert array into a list\n",
    "arr = np.array([[1, 2, 3], [4, 5, 6]])\n",
    "arr.tolist() ==> [[1, 2, 3], [4, 5, 6]]\n",
    "'''"
   ]
  },
  {
   "cell_type": "markdown",
   "id": "792a9da7",
   "metadata": {},
   "source": [
    "## B-2"
   ]
  },
  {
   "cell_type": "code",
   "execution_count": 127,
   "id": "standard-hollow",
   "metadata": {},
   "outputs": [
    {
     "name": "stdout",
     "output_type": "stream",
     "text": [
      "S ndim: 2\n",
      "S shape: (10, 7)\n",
      "S size: 70\n"
     ]
    }
   ],
   "source": [
    "#Answer for B-2\n",
    "import numpy as np\n",
    "\n",
    "np.random.seed(212)                 # Set the random generator seed to be 212\n",
    "\n",
    "S = np.random.randint(1,21,(10,7))  # Create a random integer numpy nd-array of size 10x7\n",
    "\n",
    "print(f\"S ndim: {S.ndim}\")\n",
    "print(f\"S shape: {S.shape}\")\n",
    "print(f\"S size: {S.size}\") "
   ]
  },
  {
   "cell_type": "markdown",
   "id": "280f238b",
   "metadata": {},
   "source": [
    "## B-3"
   ]
  },
  {
   "cell_type": "code",
   "execution_count": 128,
   "id": "tough-wrestling",
   "metadata": {},
   "outputs": [
    {
     "data": {
      "text/plain": [
       "'\\nS[:,0]   = gives the first column of each row as a one dimensional array\\nS[:,[0]] = gives the first couumn value as a array in 2d\\n'"
      ]
     },
     "execution_count": 128,
     "metadata": {},
     "output_type": "execute_result"
    }
   ],
   "source": [
    "#Answer for B-3\n",
    "\n",
    "# What is the difference between S[:,0] and S[:,[0]]?\n",
    "'''\n",
    "S[:,0]   = gives the first column of each row as a one dimensional array\n",
    "S[:,[0]] = gives the first couumn value as a array in 2d\n",
    "'''"
   ]
  },
  {
   "cell_type": "markdown",
   "id": "73e6ccfb",
   "metadata": {},
   "source": [
    "## B-4"
   ]
  },
  {
   "cell_type": "code",
   "execution_count": 129,
   "id": "directed-microwave",
   "metadata": {},
   "outputs": [
    {
     "data": {
      "text/plain": [
       "'\\nWhat is the difference between S[0,:] and S[0]\\nS[0,:] gives the every element of first row\\ns[0]    Also gives the first row\\n'"
      ]
     },
     "execution_count": 129,
     "metadata": {},
     "output_type": "execute_result"
    }
   ],
   "source": [
    "#Answer for B-4\n",
    "'''\n",
    "What is the difference between S[0,:] and S[0]\n",
    "S[0,:] gives the every element of first row\n",
    "s[0]    Also gives the first row\n",
    "'''"
   ]
  },
  {
   "cell_type": "markdown",
   "id": "f948f3cc",
   "metadata": {},
   "source": [
    "## B-5"
   ]
  },
  {
   "cell_type": "code",
   "execution_count": 130,
   "id": "forbidden-armor",
   "metadata": {},
   "outputs": [
    {
     "name": "stdout",
     "output_type": "stream",
     "text": [
      "[  4  36  49  64 169 169 289 361 400 400]\n"
     ]
    }
   ],
   "source": [
    "#Answer for B-5\n",
    "arr = np.square(S[:,-2])   # S[:,-2] gives the every rows and -2 gives each of the 2 index value of the rows \n",
    "arr.sort()                  # sort the array\n",
    "print(arr)"
   ]
  },
  {
   "cell_type": "markdown",
   "id": "bad657e7",
   "metadata": {},
   "source": [
    "## B-6"
   ]
  },
  {
   "cell_type": "code",
   "execution_count": 131,
   "id": "recreational-bahamas",
   "metadata": {},
   "outputs": [
    {
     "name": "stdout",
     "output_type": "stream",
     "text": [
      "[[16 17 16 14 17 13  2]\n",
      " [11 18  4 13  1  6  1]\n",
      " [17 17  4  7 18 20 17]\n",
      " [ 2  1  6 11 15  8 19]\n",
      " [20  3 12 11  8  7  2]\n",
      " [16 14  2 11  3  2 10]\n",
      " [20 20  1  2 19 20 12]\n",
      " [12  9  1 19 17 19  7]\n",
      " [ 7  7  3  2  6 17  2]]\n"
     ]
    }
   ],
   "source": [
    "#Answer for B-6\n",
    "print(S[1:])        "
   ]
  },
  {
   "cell_type": "markdown",
   "id": "107cf1a7",
   "metadata": {},
   "source": [
    "## B-7"
   ]
  },
  {
   "cell_type": "code",
   "execution_count": 132,
   "id": "southern-artwork",
   "metadata": {},
   "outputs": [
    {
     "name": "stdout",
     "output_type": "stream",
     "text": [
      "[[ 7  7  3  2  6 17  2]\n",
      " [12  9  1 19 17 19  7]\n",
      " [20 20  1  2 19 20 12]\n",
      " [16 14  2 11  3  2 10]\n",
      " [20  3 12 11  8  7  2]\n",
      " [ 2  1  6 11 15  8 19]\n",
      " [17 17  4  7 18 20 17]\n",
      " [11 18  4 13  1  6  1]\n",
      " [16 17 16 14 17 13  2]\n",
      " [ 3  5 10 15  2 13 20]]\n"
     ]
    }
   ],
   "source": [
    "#Answer for B-7\n",
    "print(S[::-1])      # Slice the all the rows and reversed to get the reversed columns "
   ]
  },
  {
   "cell_type": "markdown",
   "id": "23e95ebe",
   "metadata": {},
   "source": [
    "## B-8"
   ]
  },
  {
   "cell_type": "code",
   "execution_count": 133,
   "id": "ecological-subscriber",
   "metadata": {},
   "outputs": [
    {
     "name": "stdout",
     "output_type": "stream",
     "text": [
      "[13 19  3]\n"
     ]
    }
   ],
   "source": [
    "#Answer for B-8\n",
    "print(S[[2,4,5],[3,6,1]])   # Slices and get first 2,4,5 rows and each coresspondig row's 3,6 and 1 column\n"
   ]
  },
  {
   "cell_type": "markdown",
   "id": "8fb80a9b",
   "metadata": {},
   "source": [
    "## B-9"
   ]
  },
  {
   "cell_type": "code",
   "execution_count": 134,
   "id": "great-release",
   "metadata": {},
   "outputs": [
    {
     "name": "stdout",
     "output_type": "stream",
     "text": [
      "[10 15 13 20 16 17 16 14 17 13 11 18 13 17 17 18 20 17 11 15 19 20 12 11\n",
      " 16 14 11 10 20 20 19 20 12 12 19 17 19 17]\n"
     ]
    }
   ],
   "source": [
    "#Answer for B-9\n",
    "mask = S >= 10      # Generate the mask array for given condition\n",
    "print(S[mask])      # Apply the mask into S and get the values"
   ]
  },
  {
   "cell_type": "markdown",
   "id": "9f8e0dc1",
   "metadata": {},
   "source": [
    "## B-10"
   ]
  },
  {
   "cell_type": "code",
   "execution_count": 135,
   "id": "naked-danger",
   "metadata": {},
   "outputs": [
    {
     "name": "stdout",
     "output_type": "stream",
     "text": [
      "S = [[ 3  5 10 15  2 13 20]\n",
      " [16 17 16 14 17 13  2]\n",
      " [11 18  4 13  1  6  1]\n",
      " [17 17  4  7 18 20 17]\n",
      " [ 2  1  6 11 15  8 19]\n",
      " [20  3 12 11  8  7  2]\n",
      " [16 14  2 11  3  2 10]\n",
      " [20 20  1  2 19 20 12]\n",
      " [12  9  1 19 17 19  7]\n",
      " [ 7  7  3  2  6 17  2]]\n",
      "**********\n",
      "P = [[ 3  5 10 10  2 13 20]\n",
      " [16 17 16  9 17 13  2]\n",
      " [11 18  4  8  1  6  1]\n",
      " [17 17  4  2 18 20 17]\n",
      " [ 2  1  6  6 15  8 19]\n",
      " [ 1  1  1  1  1  1  1]\n",
      " [20  3 12  6  8  7  2]\n",
      " [16 14  2  6  3  2 10]\n",
      " [20 20  1 -3 19 20 12]\n",
      " [12  9  1 14 17 19  7]\n",
      " [ 7  7  3 -3  6 17  2]]\n"
     ]
    }
   ],
   "source": [
    "#Answer for B-10\n",
    "P = S.copy() # make a copy of S\n",
    "P[:,3] -= 5  # Using slice and get the reference of the middle coumn of each row and update the value\n",
    "\n",
    "ones = np.ones((1,7),dtype='int')   # create a row with all ones\n",
    "\n",
    "P = np.vstack((P[0:5],ones,P[5:]))    # Stack the array verticaly. Fist get the first 5 rows then stack with ones and then get the last 5 rows \n",
    "                                    # the P and vstack\n",
    "print(f\"S = {S}\")\n",
    "print(\"*\"*10)\n",
    "print(f\"P = {P}\")\n",
    " "
   ]
  }
 ],
 "metadata": {
  "hide_input": false,
  "kernelspec": {
   "display_name": "Python 3 (ipykernel)",
   "language": "python",
   "name": "python3"
  },
  "language_info": {
   "codemirror_mode": {
    "name": "ipython",
    "version": 3
   },
   "file_extension": ".py",
   "mimetype": "text/x-python",
   "name": "python",
   "nbconvert_exporter": "python",
   "pygments_lexer": "ipython3",
   "version": "3.9.7"
  },
  "toc": {
   "base_numbering": 1,
   "nav_menu": {},
   "number_sections": true,
   "sideBar": true,
   "skip_h1_title": false,
   "title_cell": "Table of Contents",
   "title_sidebar": "Contents",
   "toc_cell": true,
   "toc_position": {},
   "toc_section_display": true,
   "toc_window_display": false
  },
  "varInspector": {
   "cols": {
    "lenName": 16,
    "lenType": 16,
    "lenVar": 40
   },
   "kernels_config": {
    "python": {
     "delete_cmd_postfix": "",
     "delete_cmd_prefix": "del ",
     "library": "var_list.py",
     "varRefreshCmd": "print(var_dic_list())"
    },
    "r": {
     "delete_cmd_postfix": ") ",
     "delete_cmd_prefix": "rm(",
     "library": "var_list.r",
     "varRefreshCmd": "cat(var_dic_list()) "
    }
   },
   "types_to_exclude": [
    "module",
    "function",
    "builtin_function_or_method",
    "instance",
    "_Feature"
   ],
   "window_display": false
  }
 },
 "nbformat": 4,
 "nbformat_minor": 5
}
