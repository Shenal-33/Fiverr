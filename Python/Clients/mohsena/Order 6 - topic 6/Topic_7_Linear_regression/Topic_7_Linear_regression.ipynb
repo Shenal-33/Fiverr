{
 "cells": [
  {
   "cell_type": "markdown",
   "metadata": {
    "slideshow": {
     "slide_type": "slide"
    }
   },
   "source": [
    " <img src=\"img/Slide13.png\" width=1200 height=800 />"
   ]
  },
  {
   "cell_type": "markdown",
   "metadata": {
    "slideshow": {
     "slide_type": "slide"
    }
   },
   "source": [
    " <img src=\"img/Slide14.png\" width=1200 height=800 />"
   ]
  },
  {
   "cell_type": "markdown",
   "metadata": {
    "slideshow": {
     "slide_type": "slide"
    },
    "toc": true
   },
   "source": [
    "<h1>Table of Contents<span class=\"tocSkip\"></span></h1>\n",
    "<div class=\"toc\"><ul class=\"toc-item\"><li><span><a href=\"#Regression\" data-toc-modified-id=\"Regression-1\"><span class=\"toc-item-num\">1&nbsp;&nbsp;</span>Regression</a></span><ul class=\"toc-item\"><li><span><a href=\"#Learning-Outcomes\" data-toc-modified-id=\"Learning-Outcomes-1.1\"><span class=\"toc-item-num\">1.1&nbsp;&nbsp;</span>Learning Outcomes</a></span><ul class=\"toc-item\"><li><span><a href=\"#What-is-the-difference-between-correlation-and-regression?\" data-toc-modified-id=\"What-is-the-difference-between-correlation-and-regression?-1.1.1\"><span class=\"toc-item-num\">1.1.1&nbsp;&nbsp;</span>What is the difference between correlation and regression?</a></span></li></ul></li><li><span><a href=\"#Regression-vs-Correlation\" data-toc-modified-id=\"Regression-vs-Correlation-1.2\"><span class=\"toc-item-num\">1.2&nbsp;&nbsp;</span>Regression vs Correlation</a></span></li></ul></li><li><span><a href=\"#Linear-Regression\" data-toc-modified-id=\"Linear-Regression-2\"><span class=\"toc-item-num\">2&nbsp;&nbsp;</span>Linear Regression</a></span><ul class=\"toc-item\"><li><span><a href=\"#Linear-Regression-Overview\" data-toc-modified-id=\"Linear-Regression-Overview-2.1\"><span class=\"toc-item-num\">2.1&nbsp;&nbsp;</span>Linear Regression Overview</a></span></li></ul></li><li><span><a href=\"#Single-Input-Single-Output-(SISO)-Linear-regression\" data-toc-modified-id=\"Single-Input-Single-Output-(SISO)-Linear-regression-3\"><span class=\"toc-item-num\">3&nbsp;&nbsp;</span>Single Input Single Output (SISO) Linear regression</a></span><ul class=\"toc-item\"><li><span><a href=\"#Solution-Method-for-SISO-Linear-Regression\" data-toc-modified-id=\"Solution-Method-for-SISO-Linear-Regression-3.1\"><span class=\"toc-item-num\">3.1&nbsp;&nbsp;</span>Solution Method for SISO Linear Regression</a></span><ul class=\"toc-item\"><li><span><a href=\"#Example:-SISO-Linear-Regression\" data-toc-modified-id=\"Example:-SISO-Linear-Regression-3.1.1\"><span class=\"toc-item-num\">3.1.1&nbsp;&nbsp;</span>Example: SISO Linear Regression</a></span></li><li><span><a href=\"#Gradient-Descent-for-Linear-Regression\" data-toc-modified-id=\"Gradient-Descent-for-Linear-Regression-3.1.2\"><span class=\"toc-item-num\">3.1.2&nbsp;&nbsp;</span>Gradient Descent for Linear Regression</a></span></li><li><span><a href=\"#Example-2:-SISO-Linear-Regression\" data-toc-modified-id=\"Example-2:-SISO-Linear-Regression-3.1.3\"><span class=\"toc-item-num\">3.1.3&nbsp;&nbsp;</span>Example-2: SISO Linear Regression</a></span><ul class=\"toc-item\"><li><span><a href=\"#How-to-find-the-value-$\\beta_1$-and-$\\beta_0$?\" data-toc-modified-id=\"How-to-find-the-value-$\\beta_1$-and-$\\beta_0$?-3.1.3.1\"><span class=\"toc-item-num\">3.1.3.1&nbsp;&nbsp;</span>How to find the value $\\beta_1$ and $\\beta_0$?</a></span></li></ul></li></ul></li><li><span><a href=\"#How-does-the-error-function-looks-for-our-data?\" data-toc-modified-id=\"How-does-the-error-function-looks-for-our-data?-3.2\"><span class=\"toc-item-num\">3.2&nbsp;&nbsp;</span>How does the error function looks for our data?</a></span></li><li><span><a href=\"#What-are-the-best-values-for-$\\beta_1$-and-$\\beta_0$?\" data-toc-modified-id=\"What-are-the-best-values-for-$\\beta_1$-and-$\\beta_0$?-3.3\"><span class=\"toc-item-num\">3.3&nbsp;&nbsp;</span>What are the best values for $\\beta_1$ and $\\beta_0$?</a></span></li><li><span><a href=\"#Where-do-the-best-values-for-$\\beta_1$-and-$\\beta_0$-fall-in-the-error-function?\" data-toc-modified-id=\"Where-do-the-best-values-for-$\\beta_1$-and-$\\beta_0$-fall-in-the-error-function?-3.4\"><span class=\"toc-item-num\">3.4&nbsp;&nbsp;</span>Where do the best values for $\\beta_1$ and $\\beta_0$ fall in the error function?</a></span><ul class=\"toc-item\"><li><span><a href=\"#Gradient-descent-algorithm\" data-toc-modified-id=\"Gradient-descent-algorithm-3.4.1\"><span class=\"toc-item-num\">3.4.1&nbsp;&nbsp;</span>Gradient descent algorithm</a></span></li></ul></li></ul></li><li><span><a href=\"#Multiple-Input-Single-Output-(MISO)-Linear-Regression\" data-toc-modified-id=\"Multiple-Input-Single-Output-(MISO)-Linear-Regression-4\"><span class=\"toc-item-num\">4&nbsp;&nbsp;</span>Multiple Input Single Output (MISO) Linear Regression</a></span><ul class=\"toc-item\"><li><span><a href=\"#Gradient-Descent-for-MISO-Linear-Regression\" data-toc-modified-id=\"Gradient-Descent-for-MISO-Linear-Regression-4.1\"><span class=\"toc-item-num\">4.1&nbsp;&nbsp;</span>Gradient Descent for MISO Linear Regression</a></span></li><li><span><a href=\"#Closed-Form-Solution-for-MISO-Linear-Regression\" data-toc-modified-id=\"Closed-Form-Solution-for-MISO-Linear-Regression-4.2\"><span class=\"toc-item-num\">4.2&nbsp;&nbsp;</span>Closed Form Solution for MISO Linear Regression</a></span><ul class=\"toc-item\"><li><span><a href=\"#Example-MISO-Linear-Regression\" data-toc-modified-id=\"Example-MISO-Linear-Regression-4.2.1\"><span class=\"toc-item-num\">4.2.1&nbsp;&nbsp;</span>Example MISO Linear Regression</a></span></li></ul></li><li><span><a href=\"#Penalized-Linear-Regression-(PLR)\" data-toc-modified-id=\"Penalized-Linear-Regression-(PLR)-4.3\"><span class=\"toc-item-num\">4.3&nbsp;&nbsp;</span>Penalized Linear Regression (PLR)</a></span><ul class=\"toc-item\"><li><span><a href=\"#Solution-of-the-Penalized-Linear-Regression\" data-toc-modified-id=\"Solution-of-the-Penalized-Linear-Regression-4.3.1\"><span class=\"toc-item-num\">4.3.1&nbsp;&nbsp;</span>Solution of the Penalized Linear Regression</a></span></li><li><span><a href=\"#Example-Penalized-Regressions\" data-toc-modified-id=\"Example-Penalized-Regressions-4.3.2\"><span class=\"toc-item-num\">4.3.2&nbsp;&nbsp;</span>Example Penalized Regressions</a></span></li><li><span><a href=\"#Lasso-vs-Ridge:-Summary\" data-toc-modified-id=\"Lasso-vs-Ridge:-Summary-4.3.3\"><span class=\"toc-item-num\">4.3.3&nbsp;&nbsp;</span>Lasso vs Ridge: Summary</a></span></li></ul></li></ul></li><li><span><a href=\"#Cross-validation-for-Parameter-Selection\" data-toc-modified-id=\"Cross-validation-for-Parameter-Selection-5\"><span class=\"toc-item-num\">5&nbsp;&nbsp;</span>Cross-validation for Parameter Selection</a></span></li><li><span><a href=\"#Case-Study\" data-toc-modified-id=\"Case-Study-6\"><span class=\"toc-item-num\">6&nbsp;&nbsp;</span>Case Study</a></span><ul class=\"toc-item\"><li><span><a href=\"#Case-Study---1\" data-toc-modified-id=\"Case-Study---1-6.1\"><span class=\"toc-item-num\">6.1&nbsp;&nbsp;</span>Case Study - 1</a></span></li></ul></li><li><span><a href=\"#Concluding-Remarks\" data-toc-modified-id=\"Concluding-Remarks-7\"><span class=\"toc-item-num\">7&nbsp;&nbsp;</span>Concluding Remarks</a></span><ul class=\"toc-item\"><li><span><a href=\"#Handling-Big-Data\" data-toc-modified-id=\"Handling-Big-Data-7.1\"><span class=\"toc-item-num\">7.1&nbsp;&nbsp;</span>Handling Big-Data</a></span></li><li><span><a href=\"#Concluding-Remarks\" data-toc-modified-id=\"Concluding-Remarks-7.2\"><span class=\"toc-item-num\">7.2&nbsp;&nbsp;</span>Concluding Remarks</a></span></li></ul></li><li><span><a href=\"#References\" data-toc-modified-id=\"References-8\"><span class=\"toc-item-num\">8&nbsp;&nbsp;</span>References</a></span><ul class=\"toc-item\"><li><span><a href=\"#Theory:\" data-toc-modified-id=\"Theory:-8.1\"><span class=\"toc-item-num\">8.1&nbsp;&nbsp;</span>Theory:</a></span></li><li><span><a href=\"#Data-Sets:\" data-toc-modified-id=\"Data-Sets:-8.2\"><span class=\"toc-item-num\">8.2&nbsp;&nbsp;</span>Data Sets:</a></span></li></ul></li></ul></div>"
   ]
  },
  {
   "cell_type": "markdown",
   "metadata": {
    "slideshow": {
     "slide_type": "slide"
    }
   },
   "source": [
    "# Regression\n",
    "\n",
    "> 📌  A process for modeling the **relationship** between variables of interest. \n",
    "\n",
    "Example: If you know the relationship between education and income (the more someone is educated, the more money they make), we could predict someone's income based on their education. \n",
    "_Simply speaking, learning such a_ **relationship** _is regression._\n"
   ]
  },
  {
   "cell_type": "markdown",
   "metadata": {
    "slideshow": {
     "slide_type": "slide"
    }
   },
   "source": [
    "## Learning Outcomes\n",
    "1. Implement linear and penalized regression methods __(CLO-2)__\n",
    "2. Execute gradient descent algorithm for regression problem __(CLO-2)__ \n",
    "3. Process real data before applying regression __(CLO-1)__ \n",
    "4. Apply cross-validation and hyper-parameter selection __(CLO-4)__   "
   ]
  },
  {
   "cell_type": "markdown",
   "metadata": {
    "slideshow": {
     "slide_type": "slide"
    }
   },
   "source": [
    "### What is the difference between correlation and regression?"
   ]
  },
  {
   "cell_type": "markdown",
   "metadata": {
    "slideshow": {
     "slide_type": "fragment"
    }
   },
   "source": [
    "**Question-A:** Consider the following data for 10 students who took exam last semester. Column-1 represents the student ID, Column-2 represents the attitude of the students before taking the exam, and Column-3 represents the score obtained in the exam.\n",
    "\n",
    "|  STU-ID   |     Attitude    |     Score    |\n",
    "|:---------:|:---------------:|:------------:|\n",
    "|      1    |        65       |      129     |\n",
    "|      2    |        67       |      126     |\n",
    "|      3    |        68       |      143     |\n",
    "|      4    |        70       |      156     |\n",
    "|      5    |        71       |      161     |\n",
    "|      6    |        72       |      158     |\n",
    "|      7    |        72       |      168     |\n",
    "|      8    |        73       |      166     |\n",
    "|      9    |        73       |      182     |\n",
    "|     10    |        75       |      201     |\n",
    "\n",
    "1. Calculate the correlation between *Attitude* and *Score* using python.\n",
    "2. If attitude decrease, then score will increase. True or False. Explain your answer based on Part-1.\n",
    "3. If attitude of a new student is 74 units, then can you estimated his score before the exam using correlation?"
   ]
  },
  {
   "cell_type": "code",
   "execution_count": 1,
   "metadata": {
    "slideshow": {
     "slide_type": "slide"
    }
   },
   "outputs": [
    {
     "data": {
      "text/html": [
       "<div>\n",
       "<style scoped>\n",
       "    .dataframe tbody tr th:only-of-type {\n",
       "        vertical-align: middle;\n",
       "    }\n",
       "\n",
       "    .dataframe tbody tr th {\n",
       "        vertical-align: top;\n",
       "    }\n",
       "\n",
       "    .dataframe thead th {\n",
       "        text-align: right;\n",
       "    }\n",
       "</style>\n",
       "<table border=\"1\" class=\"dataframe\">\n",
       "  <thead>\n",
       "    <tr style=\"text-align: right;\">\n",
       "      <th></th>\n",
       "      <th>Attitude</th>\n",
       "      <th>Score</th>\n",
       "    </tr>\n",
       "  </thead>\n",
       "  <tbody>\n",
       "    <tr>\n",
       "      <th>Attitude</th>\n",
       "      <td>1.00000</td>\n",
       "      <td>0.94179</td>\n",
       "    </tr>\n",
       "    <tr>\n",
       "      <th>Score</th>\n",
       "      <td>0.94179</td>\n",
       "      <td>1.00000</td>\n",
       "    </tr>\n",
       "  </tbody>\n",
       "</table>\n",
       "</div>"
      ],
      "text/plain": [
       "          Attitude    Score\n",
       "Attitude   1.00000  0.94179\n",
       "Score      0.94179  1.00000"
      ]
     },
     "metadata": {},
     "output_type": "display_data"
    },
    {
     "name": "stdout",
     "output_type": "stream",
     "text": [
      "The correlation between Attitude and Score is 0.9417903723646914\n"
     ]
    }
   ],
   "source": [
    "# 1. Calculate the correlation between *Attitude* and *Score* using python.\n",
    "\n",
    "import pandas as pd\n",
    "# import matplotlib.pyplot as plt\n",
    "# import numpy as np\n",
    "\n",
    "\n",
    "df = pd.read_csv('data/Regression-1.csv', delimiter =',')\n",
    "corr = df.drop(['STU-ID'], axis=1).corr()\n",
    "\n",
    "#corr =  df.loc[:,['Attitude','Score']].corr()\n",
    "#corr = df.iloc[:,[1,2]].corr()\n",
    "\n",
    "\n",
    "display(corr)\n",
    "print(f\"The correlation between Attitude and Score is {corr.loc['Attitude','Score']}\")\n",
    "\n",
    "\n",
    "# # Following code can be used to compute the correlation too\n",
    "# x = df['Attitude']\n",
    "# y = df['Score']\n",
    "# r = np.corrcoef(x, y)[0,1]\n",
    "# print(f'The correlation between Attitude and Score is {r}')"
   ]
  },
  {
   "cell_type": "markdown",
   "metadata": {
    "slideshow": {
     "slide_type": "slide"
    }
   },
   "source": [
    "2. If attitude decrease, then score will increase. True or False. Explain your answer based on Part-1.  \n",
    "False, since the direction of relationship is positive.\n",
    "\n",
    "3. If attitude of a new student is 74 units, then can you estimated his score before the exam using correlation?  \n",
    "No, the correlation shows the strength and direction of the relationship. However, it cannot depict the actual relation."
   ]
  },
  {
   "cell_type": "markdown",
   "metadata": {
    "slideshow": {
     "slide_type": "slide"
    }
   },
   "source": [
    "## Regression vs Correlation\n",
    "\n",
    "Correlation:\n",
    "> 1. Correlation may indicate whether two variables are related or not.\n",
    "> 2. However, correlation will not provide information of how one variable is related to another.\n",
    "\n",
    "Regression:\n",
    "> 1. Regression may identify how one or more variables are related to an output variable.\n",
    "> 2. Specifically, it will provide details of how input variables affects the output variable.\n",
    "> 3. Beyond estimating a relationship, regression is a way of **predicting** an output variable from one or more input variables."
   ]
  },
  {
   "cell_type": "markdown",
   "metadata": {
    "slideshow": {
     "slide_type": "slide"
    }
   },
   "source": [
    "# Linear Regression\n",
    "> 📌 The most common form of regression used in data analysis.  \n",
    "> 📌 It assumes the **relationship** of the input variables and the output variables is **linear** (can be expressed as a line or hyperplane)."
   ]
  },
  {
   "cell_type": "markdown",
   "metadata": {
    "slideshow": {
     "slide_type": "slide"
    }
   },
   "source": [
    "## Linear Regression Overview\n",
    "\n",
    "<img src=\"img/Reg_1.png\" width=610 height=610 />"
   ]
  },
  {
   "cell_type": "markdown",
   "metadata": {
    "slideshow": {
     "slide_type": "slide"
    }
   },
   "source": [
    "# Single Input Single Output (SISO) Linear regression\n",
    "> 📌 How one input variable is related to one output variable?  \n",
    "\n",
    "We will start with **Single Input Single Output (SISO)** linear regression.\n",
    "\n",
    "**Notations**:\n",
    "Let $x$ be the input variables, and let $y$ be the output variable. The linear regression model can be stated as:\n",
    "\n",
    "**Model**:\n",
    "$$\n",
    " y = \\beta_0 + \\beta_1 x,\n",
    "$$\n",
    "\n",
    "where $\\beta_1$ represents the slope of the $x$, and $\\beta_0$ is the intercept for the equation.\n",
    "\n",
    "**Goal**:\n",
    "Linear regression estimates the best values of $\\beta_0$ and $\\beta_1$. So, when a new or previously unobserved data point $x$ comes with unknown value of $y$, using the value of $x$, and estimated $\\beta_0$ and $\\beta_1$ values, one can find estimated value of $y$, say $\\hat{y}$. The goal of linear regression is to have $\\hat{y}$ as close as possible to $y$.\n"
   ]
  },
  {
   "cell_type": "markdown",
   "metadata": {
    "slideshow": {
     "slide_type": "slide"
    }
   },
   "source": [
    "## Solution Method for SISO Linear Regression\n",
    "\n",
    "\n",
    "From statistical analysis, it has been shown that the coefficients can be estimated as follows:\n",
    "\n",
    "$$ \\beta_1 = r \\frac{sd_y}{sd_x} $$ and $$ \\beta_0 = \\overline{y} - \\beta_1 \\overline{x} $$\n",
    "\n",
    "where $r$ is the Pearson's correlation coefficient, $sd_x$ and $sd_y$ represent the standard deviation of $x$ and $y$ variables respectively, $\\overline{x}$ and $\\overline{y}$ represent the means of $x$ and $y$ variables respectively."
   ]
  },
  {
   "cell_type": "markdown",
   "metadata": {
    "slideshow": {
     "slide_type": "slide"
    }
   },
   "source": [
    "### Example: SISO Linear Regression\n",
    "**Question-B:** Consider the following data from __Question-A__:\n",
    "\n",
    "|  STU-ID   |     Attitude    |     Score    |\n",
    "|:---------:|:---------------:|:------------:|\n",
    "|      1    |        65       |      129     |\n",
    "|      2    |        67       |      126     |\n",
    "|      3    |        68       |      143     |\n",
    "|      4    |        70       |      156     |\n",
    "|      5    |        71       |      161     |\n",
    "|      6    |        72       |      158     |\n",
    "|      7    |        72       |      168     |\n",
    "|      8    |        73       |      166     |\n",
    "|      9    |        73       |      182     |\n",
    "|     10    |        75       |      201     |\n",
    "\n",
    "1. Visualize the relationship between *Attitude* and *Score* (plot *Attitude* on x-axis, and *Score* on y-axis). \n",
    "2. Is the relationship linear, comment.  \n",
    "3. Identify the linear relationship between *Attitude* and *Score* of the students using the formula. Then verify the result using python.\n",
    "4. If a new participant with positive attitude of 78 is taking the exam, then what is the estimated score of the participant.\n",
    "5. If new participants with positive attitude of 78, 74, 68 and 69 are taking the exam, then what are the estimated scores for the participants.\n",
    "6. The estimated score and predicted score of student with attitude of 68 are different. Is there some error in the approach?"
   ]
  },
  {
   "cell_type": "code",
   "execution_count": 2,
   "metadata": {
    "slideshow": {
     "slide_type": "slide"
    }
   },
   "outputs": [
    {
     "data": {
      "text/plain": [
       "<Figure size 432x288 with 0 Axes>"
      ]
     },
     "metadata": {},
     "output_type": "display_data"
    },
    {
     "data": {
      "image/png": "[encoded data removed]",
      "text/plain": [
       "<Figure size 360x360 with 1 Axes>"
      ]
     },
     "metadata": {
      "needs_background": "light"
     },
     "output_type": "display_data"
    }
   ],
   "source": [
    "# 1. Visualize the relationship between Attitude and Score (plot Attitude on x-axis, and Score on y-axis).\n",
    "%matplotlib inline\n",
    "# %matplotlib notebook\n",
    "# %matplotlib qt\n",
    "\n",
    "import pandas as pd\n",
    "import matplotlib.pyplot as plt\n",
    "import seaborn as sns\n",
    "\n",
    "df = pd.read_csv('data/Regression-1.csv', delimiter =',')\n",
    "plt.figure()\n",
    "sns.relplot(x='Attitude', y='Score',\n",
    "            color = 'purple', marker = 'D',\n",
    "            kind='scatter',\n",
    "            data=df)\n",
    "plt.xlabel('Attitude')\n",
    "plt.ylabel('Score')\n",
    "plt.show()"
   ]
  },
  {
   "cell_type": "markdown",
   "metadata": {
    "slideshow": {
     "slide_type": "fragment"
    }
   },
   "source": [
    "2: Is the relationship linear, comment.  \n",
    "From the plot, it can be seen that the relationship could be linear.\n"
   ]
  },
  {
   "cell_type": "markdown",
   "metadata": {
    "slideshow": {
     "slide_type": "slide"
    }
   },
   "source": [
    "3. Identify the linear relationship between *Attitude* and *Score* of the students using the formula. Then verify the result using python.\n",
    "\n",
    "To identify the relationship, we need to identifying the betas\n",
    "\n",
    "Using the formula:  \n",
    "\n",
    "Pearson’s correlation coefficient r = 0.94. \n",
    "Mean of Attitude = 70.6, mean of Score = 159.  \n",
    "S.D. of Attitude = 2.94, S.D. of Score = 21.64. \n",
    "\n",
    "Thus,  \n",
    "$$\\beta_1=0.94 \\times \\frac{21.64}{2.94}=6.93$$  \n",
    "$$\\beta_0=159−(6.93 \\times  70.6)=−330.25$$  "
   ]
  },
  {
   "cell_type": "code",
   "execution_count": 3,
   "metadata": {
    "slideshow": {
     "slide_type": "slide"
    }
   },
   "outputs": [
    {
     "name": "stdout",
     "output_type": "stream",
     "text": [
      "Beta1, the slope is [6.93]; and Beta0, the intercept is -330.46\n"
     ]
    }
   ],
   "source": [
    "# Then verify the result using python.\n",
    "import numpy as np\n",
    "from sklearn.linear_model import LinearRegression\n",
    "\n",
    "# Create linear regression object\n",
    "reg = LinearRegression(fit_intercept=True)\n",
    "\n",
    "# Train the model using the training sets\n",
    "reg.fit(df[['Attitude']], df['Score'])  #single column\n",
    "# reg.fit(df['Attitude'].values.reshape(-1,1), df['Score'])  #single column\n",
    "\n",
    "# The betas are\n",
    "print(f'Beta1, the slope is {np.round(reg.coef_,2)}; and Beta0, the intercept is {np.round(reg.intercept_,2)}')\n",
    "\n",
    "\n",
    "## The following code computes betas using the formula and python, \n",
    "## but without using the skliear library\n",
    "\n",
    "# import numpy as np\n",
    "# x=df['Attitude'].values\n",
    "# y=df['Score'].values\n",
    "# r = np.corrcoef(x, y)[0,1]\n",
    "# sdx = np.std(x)\n",
    "# sdy = np.std(y)\n",
    "# beta1 = r * (sdy / sdx)\n",
    "# beta0 = np.mean(y) - beta1*np.mean(x)\n",
    "# print(r,np.mean(x),np.mean(y),sdx,sdy,beta1,beta0)"
   ]
  },
  {
   "cell_type": "markdown",
   "metadata": {
    "slideshow": {
     "slide_type": "slide"
    }
   },
   "source": [
    "4. If a new participant with positive attitude of 78 is taking the exam, then what is the estimated score of the participant.  \n",
    "\n",
    "From Part-3 we know:  \n",
    "$$\\beta_1=6.93$$  \n",
    "$$\\beta_0=-330.46$$ \n",
    "Thus, the new participant's estimated score will be  \n",
    "$$\\hat{y} =-330.46 + (6.93 \\times 78) = 210.08$$"
   ]
  },
  {
   "cell_type": "code",
   "execution_count": 4,
   "metadata": {
    "slideshow": {
     "slide_type": "slide"
    }
   },
   "outputs": [
    {
     "name": "stdout",
     "output_type": "stream",
     "text": [
      "The estimated score for the student with attiude of 78 is [210.3].\n"
     ]
    }
   ],
   "source": [
    "x_new = 78\n",
    "y_new = reg.predict(np.array(x_new).reshape(1, -1)) #single value or single record \n",
    "print(f'The estimated score for the student with attiude of {x_new} is {np.round(y_new,2)}.')"
   ]
  },
  {
   "cell_type": "code",
   "execution_count": 5,
   "metadata": {
    "slideshow": {
     "slide_type": "slide"
    }
   },
   "outputs": [
    {
     "name": "stdout",
     "output_type": "stream",
     "text": [
      "The estimated scores for the students with attiudes of [78, 74, 68, 69] are [210.3, 182.57, 140.97, 147.91] respectively .\n"
     ]
    }
   ],
   "source": [
    "# 5. If new participants with positive attitude of 78,74,68 and 69 are taking the exam, \n",
    "# then what are the estimated scores for the participants.\n",
    "\n",
    "x_new = [78,74,68,69]\n",
    "y_new = reg.predict(np.array(x_new).reshape(-1, 1))  #single column\n",
    "print(f'The estimated scores for the students with attiudes of {x_new} are {np.round(y_new,2).tolist()} respectively .')"
   ]
  },
  {
   "cell_type": "markdown",
   "metadata": {
    "slideshow": {
     "slide_type": "slide"
    }
   },
   "source": [
    "6. The estimated score and predicted score of student with attitude of 68 are different. Is there some error in the approach?  \n",
    "From the plot, we can see that the relationship is not perfectly linear. Thus, the estimated values will not give the perfect results. There will be some error. The linear regression tries to minimize the mean squared error of the input data points. We will see all these details in the following slides."
   ]
  },
  {
   "cell_type": "markdown",
   "metadata": {
    "slideshow": {
     "slide_type": "slide"
    }
   },
   "source": [
    "### Gradient Descent for Linear Regression\n",
    "> The previous solution method is based on Square Error Minimization.  \n",
    "> The least square approach has a closed form solution.  \n",
    "> However, the closed form solution will not work with large scale data.  \n",
    "> In this section, we will look at gradient descent based solution.  "
   ]
  },
  {
   "cell_type": "markdown",
   "metadata": {
    "slideshow": {
     "slide_type": "slide"
    }
   },
   "source": [
    "### Example-2: SISO Linear Regression\n",
    "\n",
    "**Question-C** Let us take an example to understand the gradient descent approach. Consider the data given in Regression-2.csv file. Do the following:  \n",
    "1. Read and display the data.  \n",
    "2. Plot the data  \n",
    "3. Can we model the data using a linear relationship? If yes, then suggest the linear model, and highlight the unknowns.  "
   ]
  },
  {
   "cell_type": "code",
   "execution_count": 6,
   "metadata": {
    "slideshow": {
     "slide_type": "fragment"
    }
   },
   "outputs": [
    {
     "data": {
      "text/html": [
       "<div>\n",
       "<style scoped>\n",
       "    .dataframe tbody tr th:only-of-type {\n",
       "        vertical-align: middle;\n",
       "    }\n",
       "\n",
       "    .dataframe tbody tr th {\n",
       "        vertical-align: top;\n",
       "    }\n",
       "\n",
       "    .dataframe thead th {\n",
       "        text-align: right;\n",
       "    }\n",
       "</style>\n",
       "<table border=\"1\" class=\"dataframe\">\n",
       "  <thead>\n",
       "    <tr style=\"text-align: right;\">\n",
       "      <th></th>\n",
       "      <th>0</th>\n",
       "      <th>1</th>\n",
       "      <th>2</th>\n",
       "      <th>3</th>\n",
       "      <th>4</th>\n",
       "      <th>5</th>\n",
       "      <th>6</th>\n",
       "      <th>7</th>\n",
       "      <th>8</th>\n",
       "      <th>9</th>\n",
       "      <th>10</th>\n",
       "      <th>11</th>\n",
       "      <th>12</th>\n",
       "      <th>13</th>\n",
       "      <th>14</th>\n",
       "      <th>15</th>\n",
       "      <th>16</th>\n",
       "      <th>17</th>\n",
       "      <th>18</th>\n",
       "      <th>19</th>\n",
       "    </tr>\n",
       "  </thead>\n",
       "  <tbody>\n",
       "    <tr>\n",
       "      <th>x</th>\n",
       "      <td>1</td>\n",
       "      <td>2</td>\n",
       "      <td>3</td>\n",
       "      <td>4</td>\n",
       "      <td>5</td>\n",
       "      <td>6</td>\n",
       "      <td>7</td>\n",
       "      <td>8</td>\n",
       "      <td>9</td>\n",
       "      <td>10</td>\n",
       "      <td>11</td>\n",
       "      <td>12</td>\n",
       "      <td>13</td>\n",
       "      <td>14</td>\n",
       "      <td>15</td>\n",
       "      <td>16</td>\n",
       "      <td>17</td>\n",
       "      <td>18</td>\n",
       "      <td>19</td>\n",
       "      <td>20</td>\n",
       "    </tr>\n",
       "    <tr>\n",
       "      <th>y</th>\n",
       "      <td>3</td>\n",
       "      <td>4</td>\n",
       "      <td>8</td>\n",
       "      <td>4</td>\n",
       "      <td>6</td>\n",
       "      <td>9</td>\n",
       "      <td>8</td>\n",
       "      <td>12</td>\n",
       "      <td>15</td>\n",
       "      <td>26</td>\n",
       "      <td>35</td>\n",
       "      <td>40</td>\n",
       "      <td>45</td>\n",
       "      <td>54</td>\n",
       "      <td>49</td>\n",
       "      <td>59</td>\n",
       "      <td>60</td>\n",
       "      <td>62</td>\n",
       "      <td>63</td>\n",
       "      <td>68</td>\n",
       "    </tr>\n",
       "  </tbody>\n",
       "</table>\n",
       "</div>"
      ],
      "text/plain": [
       "   0   1   2   3   4   5   6   7   8   9   10  11  12  13  14  15  16  17  18  \\\n",
       "x   1   2   3   4   5   6   7   8   9  10  11  12  13  14  15  16  17  18  19   \n",
       "y   3   4   8   4   6   9   8  12  15  26  35  40  45  54  49  59  60  62  63   \n",
       "\n",
       "   19  \n",
       "x  20  \n",
       "y  68  "
      ]
     },
     "metadata": {},
     "output_type": "display_data"
    }
   ],
   "source": [
    "# 1. Read and display the data.  \n",
    "\n",
    "import pandas as pd\n",
    "df = pd.read_csv('data/Regression-2.csv', delimiter =',')\n",
    "display(df.T)\n",
    "# df.describe().T"
   ]
  },
  {
   "cell_type": "code",
   "execution_count": 7,
   "metadata": {
    "slideshow": {
     "slide_type": "fragment"
    }
   },
   "outputs": [
    {
     "data": {
      "text/plain": [
       "<Figure size 432x288 with 0 Axes>"
      ]
     },
     "metadata": {},
     "output_type": "display_data"
    },
    {
     "data": {
      "image/png": "[encoded data removed]",
      "text/plain": [
       "<Figure size 360x360 with 1 Axes>"
      ]
     },
     "metadata": {
      "needs_background": "light"
     },
     "output_type": "display_data"
    }
   ],
   "source": [
    "# 2. Plot the data\n",
    "%matplotlib inline\n",
    "import pandas as pd\n",
    "import matplotlib.pyplot as plt\n",
    "import seaborn as sns\n",
    "\n",
    "# df = pd.read_csv('data/Regression-2.csv', delimiter =',')\n",
    "plt.figure()\n",
    "sns.relplot(x='x', y='y', color = 'r', marker = 'o',kind='scatter',data=df)\n",
    "plt.xlabel('x')\n",
    "plt.ylabel('y')\n",
    "plt.show()"
   ]
  },
  {
   "cell_type": "markdown",
   "metadata": {
    "raw_mimetype": "text/latex",
    "slideshow": {
     "slide_type": "slide"
    }
   },
   "source": [
    "3. Can we model the data using a linear relationship? If yes, then suggest the linear model, and highlight the unknowns.  \n",
    "\n",
    "The data can be modeled using a linear relationship (more or less).  \n",
    "let us denote the data as $x_i$, $y_i$, where $i=1, \\ldots, n$, and $n$ is the total observations.   \n",
    "Let us assume, the equation of the line (or the linear relation) is:  \n",
    "$$ y= \\beta_1x + \\beta_0 $$\n",
    "where $\\beta_1$ is the line's slope and $\\beta_0$ is the line's y-intercept are the two unknowns.  "
   ]
  },
  {
   "cell_type": "markdown",
   "metadata": {
    "slideshow": {
     "slide_type": "slide"
    }
   },
   "source": [
    "#### How to find the value $\\beta_1$ and $\\beta_0$?"
   ]
  },
  {
   "cell_type": "markdown",
   "metadata": {
    "slideshow": {
     "slide_type": "fragment"
    }
   },
   "source": [
    "> Idea: \n",
    ">> 1. try different values of $\\beta_1$ and $\\beta_0$, and  \n",
    ">> 2. find the best values.  \n",
    "\n",
    "> Mechanism: \n",
    ">> 1. define an _error function_ (a.k.a cost function), that measures how __good__ a given line is,  \n",
    ">> 2. for a given value of $\\beta_1$ and $\\beta_0$, the _error function_ returns an error value based on how well the line fits our data.  \n",
    "\n",
    "> Squared Error Function:\n",
    ">> 1. one of the classical ways to measure the error value,  \n",
    ">> 2. the error value is the summation of square of errors for each point,\n",
    ">> 3. linear regression with such error function is called as Ordinary Least Square (OLS) regression,\n",
    ">> 4. Formally, this _error function_ looks like:\n",
    "$$ \\epsilon = \\frac{1}{n} \\sum_{i=1}^n ((\\beta_1x_i +\\beta_0)-y_i)^2.$$\n",
    "\n",
    "> Solution Method:\n",
    ">> 1. values of value of $\\beta_1$ and $\\beta_0$ that __minimizes__ the above function will give best line fitted for our data.\n",
    ">> 2. __minimization__ of the above function can be done using different algorithms. \n",
    ">> 3. We will focus on *gradient descent algorithm*."
   ]
  },
  {
   "cell_type": "markdown",
   "metadata": {
    "slideshow": {
     "slide_type": "slide"
    }
   },
   "source": [
    "## How does the error function looks for our data?"
   ]
  },
  {
   "cell_type": "code",
   "execution_count": 8,
   "metadata": {
    "hide_input": true,
    "scrolled": true,
    "slideshow": {
     "slide_type": "fragment"
    }
   },
   "outputs": [
    {
     "data": {
      "image/png": "[encoded data removed]",
      "text/plain": [
       "<Figure size 432x288 with 1 Axes>"
      ]
     },
     "metadata": {
      "needs_background": "light"
     },
     "output_type": "display_data"
    }
   ],
   "source": [
    "# The following code is not for the course. It is just a depiction of the error function.\n",
    "# The code details should be skipped.\n",
    "\n",
    "%matplotlib inline\n",
    "# %matplotlib qt\n",
    "import pandas as pd\n",
    "import matplotlib.pyplot as plt\n",
    "from mpl_toolkits.mplot3d import Axes3D\n",
    "\n",
    "df = pd.read_csv('data/Regression-2.csv', delimiter =',')\n",
    "x = df['x'].values\n",
    "y = df['y'].values\n",
    "\n",
    "b1Grid = np.linspace(0,8)\n",
    "b0Grid = np.linspace(-20,10)\n",
    "\n",
    "def error_function(x,y,b0,b1,e=0):\n",
    "    for i,yi in enumerate(y):\n",
    "        e += np.square((b1*x[i]+b0) - yi)\n",
    "    return e/len(y)\n",
    "    \n",
    "bv, mv = np.meshgrid(b0Grid, b1Grid)\n",
    "z = error_function(x,y,bv,mv)\n",
    "\n",
    "\n",
    "fig = plt.figure()\n",
    "ax = fig.add_subplot(111, projection='3d')\n",
    "ax.plot_surface(mv, bv, z, color='b', alpha=0.3)\n",
    "ax.contour(mv, bv, z, 100, offset =-1000)\n",
    "ax.set_xlabel('b1')\n",
    "ax.set_ylabel('b0')\n",
    "ax.set_zlabel('Z')\n",
    "ax.view_init(elev=40, azim=120)\n",
    "plt.show()"
   ]
  },
  {
   "cell_type": "markdown",
   "metadata": {
    "slideshow": {
     "slide_type": "slide"
    }
   },
   "source": [
    "## What are the best values for $\\beta_1$ and $\\beta_0$?"
   ]
  },
  {
   "cell_type": "code",
   "execution_count": 9,
   "metadata": {
    "slideshow": {
     "slide_type": "fragment"
    }
   },
   "outputs": [
    {
     "name": "stdout",
     "output_type": "stream",
     "text": [
      "The best values for b1 and b0 are 3.98 and -10.26 respectively.\n"
     ]
    }
   ],
   "source": [
    "from sklearn.linear_model import LinearRegression\n",
    "\n",
    "reg = LinearRegression(fit_intercept=True)\n",
    "reg.fit(df[['x']], df['y'])  #single column\n",
    "# reg.fit(df['x'].values.reshape(-1,1), df['y'])  #single column\n",
    "\n",
    "best_b1 =  reg.coef_[0]\n",
    "best_b0 = reg.intercept_\n",
    "print(f'The best values for b1 and b0 are {np.round(best_b1,2)} and {np.round(best_b0,2)} respectively.')"
   ]
  },
  {
   "cell_type": "markdown",
   "metadata": {
    "slideshow": {
     "slide_type": "slide"
    }
   },
   "source": [
    "## Where do the best values for $\\beta_1$ and $\\beta_0$ fall in the error function?"
   ]
  },
  {
   "cell_type": "markdown",
   "metadata": {
    "slideshow": {
     "slide_type": "fragment"
    }
   },
   "source": [
    "The values of $\\beta_1$ and $\\beta_0$ fall at the lowest point of the error function."
   ]
  },
  {
   "cell_type": "markdown",
   "metadata": {
    "slideshow": {
     "slide_type": "slide"
    }
   },
   "source": [
    "### Gradient descent algorithm\n",
    "\n",
    "The following Squared _error function_ is **convex** or bowl shape:\n",
    "$$ \\epsilon = \\frac{1}{n} \\sum_{i=1}^n ((\\beta_1x_i +\\beta_0)-y_i)^2.$$\n",
    "\n",
    "The partial derivatives w.r.t $\\beta_1$ and $\\beta_0$ are:\n",
    "$$ \n",
    "\\frac{\\partial \\epsilon}{\\partial \\beta_1} = \\frac{2}{n}\\sum_{i=1}^n ((\\beta_1x_i +\\beta_0)-y_i)x_i,\n",
    "$$\n",
    "\n",
    "$$ \n",
    "\\frac{\\partial \\epsilon}{\\partial \\beta_0} = \\frac{2}{n}\\sum_{i=1}^n ((\\beta_1x_i +\\beta_0)-y_i).\n",
    "$$"
   ]
  },
  {
   "cell_type": "markdown",
   "metadata": {
    "slideshow": {
     "slide_type": "fragment"
    }
   },
   "source": [
    "Algorithm:  \n",
    "$\\quad$ Initialize:  \n",
    "$\\quad$$\\quad$ Start with random $\\beta_1$ and $\\beta_0$ values, say $\\beta_1^{old}$ and $\\beta_0^{old}$.  \n",
    "$\\quad$$\\quad$ Calculate $\\epsilon^{old}$  \n",
    "$\\quad$ repeat {  \n",
    "$\\quad$$\\quad$ Update:  \n",
    "$\\quad$$\\quad$$\\quad$ $ \\beta_1^{new} = \\beta_1^{old} - \\lambda \\frac{2}{n}\\sum_{i=1}^n ((\\beta_1^{old} x_i +\\beta_0^{old})-y_i)x_i$  \n",
    "$\\quad$$\\quad$$\\quad$ $ \\beta_0^{new} = \\beta_0^{old} - \\lambda \\frac{2}{n}\\sum_{i=1}^n ((\\beta_1^{old} x_i +\\beta_0^{old})-y_i)$  \n",
    "$\\quad$$\\quad$$\\quad$ Calculate $\\epsilon^{new}$  \n",
    "$\\quad$ } until ($\\epsilon^{new}$ >= $\\epsilon^{old}$)\n",
    "\n",
    "\n",
    "In the above algorithm $\\lambda>0$ is step size, and is usually selected as a small number. Here we do not have to consider the second order information because the function is convex."
   ]
  },
  {
   "cell_type": "code",
   "execution_count": 10,
   "metadata": {
    "scrolled": false,
    "slideshow": {
     "slide_type": "slide"
    }
   },
   "outputs": [
    {
     "name": "stdout",
     "output_type": "stream",
     "text": [
      "Initial Values: 10 10 8210.8 \n",
      "\n",
      "Final values: -10.263152927431642 3.977443244976516 32.53308270677262\n"
     ]
    }
   ],
   "source": [
    "# Implementation of gradient descent method.\n",
    "\n",
    "def error_function(x,y,b0,b1):\n",
    "    e=0\n",
    "    for i,yi in enumerate(y):\n",
    "        e += ((b1*x[i]+b0) - yi)**2\n",
    "    return e/len(y)\n",
    "\n",
    "def partial_b1(x,y,b0,b1):\n",
    "    e=0\n",
    "    for i,yi in enumerate(y):\n",
    "        e += ((b1*x[i]+b0) - yi)*x[i]\n",
    "    return 2*e/len(y)\n",
    "\n",
    "def partial_b0(x,y,b0,b1):\n",
    "    e=0\n",
    "    for i,yi in enumerate(y):\n",
    "        e += ((b1*x[i]+b0) - yi)\n",
    "    return 2*e/len(y)\n",
    "\n",
    "# Given\n",
    "\n",
    "df = pd.read_csv('data/Regression-2.csv', delimiter =',')\n",
    "x = df['x'].values\n",
    "y = df['y'].values\n",
    "\n",
    "#initialize\n",
    "b1_Old = 10\n",
    "b0_Old = 10\n",
    "mse_Old = error_function(x,y,b0_Old,b1_Old) \n",
    "lam = 0.005\n",
    "print('Initial Values:', b0_Old, b1_Old, mse_Old,'\\n')\n",
    "\n",
    "##repeate\n",
    "while True:\n",
    "    b1_New = b1_Old - lam * partial_b1(x,y,b0_Old,b1_Old)\n",
    "    b0_New = b0_Old - lam * partial_b0(x,y,b0_Old,b1_Old)\n",
    "    mse_New = error_function(x,y,b0_New,b1_New)\n",
    "    if mse_New >= mse_Old:\n",
    "        b0_New,b1_New,mse_New = b0_Old,b1_Old,mse_Old\n",
    "        break\n",
    "    else:\n",
    "        b0_Old,b1_Old,mse_Old = b0_New,b1_New,mse_New  \n",
    "      \n",
    "print('Final values:', b0_New, b1_New, mse_New)"
   ]
  },
  {
   "cell_type": "markdown",
   "metadata": {
    "slideshow": {
     "slide_type": "slide"
    }
   },
   "source": [
    "# Multiple Input Single Output (MISO) Linear Regression\n",
    "> 📌 How multiple input variables are related to one output variable?  "
   ]
  },
  {
   "cell_type": "markdown",
   "metadata": {
    "slideshow": {
     "slide_type": "fragment"
    }
   },
   "source": [
    "- So far we have seen one input variable's relationship with one output variable. \n",
    "- In many practical applications, we will be dealing with multiple input variables.\n",
    "- To incorporate multiple variables, consider the following notations:\n",
    " - Let the $n$ observations be represented by $(x^i,y_i)$, for $i=1,\\ldots,n$  \n",
    " where $x^i$ is a vector in $\\mathbb{R}^P$, and $P$ are the number of input variables.\n",
    " - Let $\\beta_0$, the intercept\n",
    " - Let $\\beta_j$ be the coefficients of variable $x^i_j$, for $j=1,\\ldots,P$, and for $i=1,\\ldots,n$ \n",
    " - For ease of notation, we introduce $x^i_0 = 1$ for $i=1,\\ldots,n$ "
   ]
  },
  {
   "cell_type": "markdown",
   "metadata": {
    "slideshow": {
     "slide_type": "slide"
    }
   },
   "source": [
    "Based on the notations, the linear relationship is defined as follows:\n",
    "$$ h(x^i) = \\sum_{j=0}^P \\beta_j x^i_j \\qquad \\forall i=1,\\ldots,n.$$\n",
    "Moreover, the _error function_ can be defined as:\n",
    "$$J(\\boldsymbol \\beta) = \\frac{1}{n} \\sum_{i=0}^n\\left( h(x^i)-y_i \\right)^2.$$"
   ]
  },
  {
   "cell_type": "markdown",
   "metadata": {
    "slideshow": {
     "slide_type": "slide"
    }
   },
   "source": [
    "## Gradient Descent for MISO Linear Regression\n",
    "- In this section, we extend the gradient descent approach that we have developed for SISO case. \n",
    "- Let us take partial derivatives of the Squared error function, for each parameter $\\beta_j$:\n",
    "  $$ \\frac{\\partial}{\\partial \\beta_j} J(\\boldsymbol \\beta) = \\frac{2}{n} \\sum_{i=0}^n \\left( h(x^i)-y_i \\right) x^i_j $$\n",
    " - The update mechanism can be defined as:\n",
    " $$ \\beta_j := \\beta_j - \\lambda  \\frac{2}{n} \\sum_{i=0}^n \\left( h(x^i)-y_i \\right)x^i_j$$"
   ]
  },
  {
   "cell_type": "markdown",
   "metadata": {
    "slideshow": {
     "slide_type": "fragment"
    }
   },
   "source": [
    "Thus, the gradient descent algorithm will be modified as follows:  \n",
    "Algorithm:  \n",
    "$\\quad$ Initialize:  \n",
    "$\\quad$$\\quad$ Start with random $\\beta_j$ for $j=0,1,\\ldots,P$  \n",
    "$\\quad$$\\quad$ Calculate $J(\\boldsymbol \\beta)_{old}$  \n",
    "$\\quad$ repeat {  \n",
    "$\\quad$$\\quad$ Update:  \n",
    "$\\quad$$\\quad$$\\quad$ $ \\beta_j := \\beta_j - \\lambda  \\frac{1}{n} \\sum_{i=0}^n \\left( h(x^i)-y_i \\right)x^i_j \\qquad \\forall j=0,1,\\ldots,P$   \n",
    "$\\quad$$\\quad$$\\quad$ Calculate $J(\\boldsymbol \\beta)_{new}$  \n",
    "$\\quad$ } until ($J(\\boldsymbol \\beta)_{new}$ >= $J(\\boldsymbol \\beta)_{old}$)\n",
    "\n",
    "\n",
    "In the above algorithm $\\lambda>0$ is step size, and is usually selected as a small number. Here we do not have to consider the second order information because the $J(\\boldsymbol \\beta)$ function is convex."
   ]
  },
  {
   "cell_type": "markdown",
   "metadata": {
    "slideshow": {
     "slide_type": "slide"
    }
   },
   "source": [
    "## Closed Form Solution for MISO Linear Regression"
   ]
  },
  {
   "cell_type": "markdown",
   "metadata": {
    "slideshow": {
     "slide_type": "fragment"
    }
   },
   "source": [
    "For the squared error function, the solution can be obtained as follows:\n",
    "$$\\boldsymbol \\beta^{*} = (\\mathbf{X^{T}X})^{-1} \\mathbf{X^{T}y},$$\n",
    "where $\\mathbf{X} \\in \\mathbb{R}^{n \\times (P+1)}$, each column of $\\mathbf{X}$ represent an input variable, the first column of $\\mathbf{X}$ contains all ones, and $\\mathbf{y} \\in  \\mathbb{R}^{n}$ represents the column containing output variable. "
   ]
  },
  {
   "cell_type": "markdown",
   "metadata": {
    "slideshow": {
     "slide_type": "slide"
    }
   },
   "source": [
    "### Example MISO Linear Regression\n",
    "**Question-D:** Consider the data given in the csv file titled \"Regression-3.csv\". \n",
    "1. Read and describe the data.\n",
    "2. Calculate the correlation among all the variables.\n",
    "3. Identify the top three correlated input variables to the output variable.\n",
    "4. Calculate the coefficient estimates using OLS closed form.\n",
    "5. Calculate the coefficient estimates using sci-kit learn LinearRegression module. "
   ]
  },
  {
   "cell_type": "code",
   "execution_count": 11,
   "metadata": {
    "scrolled": true,
    "slideshow": {
     "slide_type": "slide"
    }
   },
   "outputs": [
    {
     "data": {
      "text/html": [
       "<div>\n",
       "<style scoped>\n",
       "    .dataframe tbody tr th:only-of-type {\n",
       "        vertical-align: middle;\n",
       "    }\n",
       "\n",
       "    .dataframe tbody tr th {\n",
       "        vertical-align: top;\n",
       "    }\n",
       "\n",
       "    .dataframe thead th {\n",
       "        text-align: right;\n",
       "    }\n",
       "</style>\n",
       "<table border=\"1\" class=\"dataframe\">\n",
       "  <thead>\n",
       "    <tr style=\"text-align: right;\">\n",
       "      <th></th>\n",
       "      <th>count</th>\n",
       "      <th>mean</th>\n",
       "      <th>std</th>\n",
       "      <th>min</th>\n",
       "      <th>25%</th>\n",
       "      <th>50%</th>\n",
       "      <th>75%</th>\n",
       "      <th>max</th>\n",
       "    </tr>\n",
       "  </thead>\n",
       "  <tbody>\n",
       "    <tr>\n",
       "      <th>x1</th>\n",
       "      <td>97.0</td>\n",
       "      <td>1.030930e-11</td>\n",
       "      <td>1.005195</td>\n",
       "      <td>-2.300218</td>\n",
       "      <td>-0.713997</td>\n",
       "      <td>0.082650</td>\n",
       "      <td>0.662694</td>\n",
       "      <td>2.107397</td>\n",
       "    </tr>\n",
       "    <tr>\n",
       "      <th>x2</th>\n",
       "      <td>97.0</td>\n",
       "      <td>2.061865e-11</td>\n",
       "      <td>1.005195</td>\n",
       "      <td>-2.942386</td>\n",
       "      <td>-0.593769</td>\n",
       "      <td>-0.013927</td>\n",
       "      <td>0.580608</td>\n",
       "      <td>2.701661</td>\n",
       "    </tr>\n",
       "    <tr>\n",
       "      <th>x3</th>\n",
       "      <td>97.0</td>\n",
       "      <td>-2.061859e-11</td>\n",
       "      <td>1.005195</td>\n",
       "      <td>-3.087227</td>\n",
       "      <td>-0.521961</td>\n",
       "      <td>0.153109</td>\n",
       "      <td>0.558151</td>\n",
       "      <td>2.043304</td>\n",
       "    </tr>\n",
       "    <tr>\n",
       "      <th>x4</th>\n",
       "      <td>97.0</td>\n",
       "      <td>-2.061855e-10</td>\n",
       "      <td>1.005195</td>\n",
       "      <td>-1.030029</td>\n",
       "      <td>-1.030029</td>\n",
       "      <td>0.138397</td>\n",
       "      <td>1.010033</td>\n",
       "      <td>1.542252</td>\n",
       "    </tr>\n",
       "    <tr>\n",
       "      <th>x5</th>\n",
       "      <td>97.0</td>\n",
       "      <td>-6.185566e-11</td>\n",
       "      <td>1.005195</td>\n",
       "      <td>-0.525657</td>\n",
       "      <td>-0.525657</td>\n",
       "      <td>-0.525657</td>\n",
       "      <td>-0.525657</td>\n",
       "      <td>1.902379</td>\n",
       "    </tr>\n",
       "    <tr>\n",
       "      <th>x6</th>\n",
       "      <td>97.0</td>\n",
       "      <td>-1.030927e-10</td>\n",
       "      <td>1.005195</td>\n",
       "      <td>-0.867655</td>\n",
       "      <td>-0.867655</td>\n",
       "      <td>-0.445098</td>\n",
       "      <td>0.976274</td>\n",
       "      <td>2.216735</td>\n",
       "    </tr>\n",
       "    <tr>\n",
       "      <th>x7</th>\n",
       "      <td>97.0</td>\n",
       "      <td>5.154621e-11</td>\n",
       "      <td>1.005195</td>\n",
       "      <td>-1.047571</td>\n",
       "      <td>-1.047571</td>\n",
       "      <td>0.344407</td>\n",
       "      <td>0.344407</td>\n",
       "      <td>3.128363</td>\n",
       "    </tr>\n",
       "    <tr>\n",
       "      <th>x8</th>\n",
       "      <td>97.0</td>\n",
       "      <td>-1.030929e-10</td>\n",
       "      <td>1.005195</td>\n",
       "      <td>-0.868957</td>\n",
       "      <td>-0.868957</td>\n",
       "      <td>-0.334356</td>\n",
       "      <td>0.556647</td>\n",
       "      <td>2.695054</td>\n",
       "    </tr>\n",
       "    <tr>\n",
       "      <th>y</th>\n",
       "      <td>97.0</td>\n",
       "      <td>-3.092764e-11</td>\n",
       "      <td>1.005195</td>\n",
       "      <td>-2.533318</td>\n",
       "      <td>-0.650257</td>\n",
       "      <td>0.098514</td>\n",
       "      <td>0.503299</td>\n",
       "      <td>2.703452</td>\n",
       "    </tr>\n",
       "  </tbody>\n",
       "</table>\n",
       "</div>"
      ],
      "text/plain": [
       "    count          mean       std       min       25%       50%       75%  \\\n",
       "x1   97.0  1.030930e-11  1.005195 -2.300218 -0.713997  0.082650  0.662694   \n",
       "x2   97.0  2.061865e-11  1.005195 -2.942386 -0.593769 -0.013927  0.580608   \n",
       "x3   97.0 -2.061859e-11  1.005195 -3.087227 -0.521961  0.153109  0.558151   \n",
       "x4   97.0 -2.061855e-10  1.005195 -1.030029 -1.030029  0.138397  1.010033   \n",
       "x5   97.0 -6.185566e-11  1.005195 -0.525657 -0.525657 -0.525657 -0.525657   \n",
       "x6   97.0 -1.030927e-10  1.005195 -0.867655 -0.867655 -0.445098  0.976274   \n",
       "x7   97.0  5.154621e-11  1.005195 -1.047571 -1.047571  0.344407  0.344407   \n",
       "x8   97.0 -1.030929e-10  1.005195 -0.868957 -0.868957 -0.334356  0.556647   \n",
       "y    97.0 -3.092764e-11  1.005195 -2.533318 -0.650257  0.098514  0.503299   \n",
       "\n",
       "         max  \n",
       "x1  2.107397  \n",
       "x2  2.701661  \n",
       "x3  2.043304  \n",
       "x4  1.542252  \n",
       "x5  1.902379  \n",
       "x6  2.216735  \n",
       "x7  3.128363  \n",
       "x8  2.695054  \n",
       "y   2.703452  "
      ]
     },
     "metadata": {},
     "output_type": "display_data"
    }
   ],
   "source": [
    "# 1. Read and describe the data.\n",
    "\n",
    "import pandas as pd\n",
    "\n",
    "df = pd.read_csv('data/Regression-3.csv', delimiter =',')\n",
    "display(df.describe().T)"
   ]
  },
  {
   "cell_type": "code",
   "execution_count": 12,
   "metadata": {
    "scrolled": true,
    "slideshow": {
     "slide_type": "slide"
    }
   },
   "outputs": [
    {
     "data": {
      "text/html": [
       "<style  type=\"text/css\" >\n",
       "#T_1367e_row0_col0,#T_1367e_row1_col1,#T_1367e_row2_col2,#T_1367e_row3_col3,#T_1367e_row4_col4,#T_1367e_row5_col5,#T_1367e_row6_col6,#T_1367e_row7_col7,#T_1367e_row8_col8{\n",
       "            background-color:  #b40426;\n",
       "            color:  #f1f1f1;\n",
       "        }#T_1367e_row0_col1{\n",
       "            background-color:  #88abfd;\n",
       "            color:  #000000;\n",
       "        }#T_1367e_row0_col2{\n",
       "            background-color:  #6180e9;\n",
       "            color:  #000000;\n",
       "        }#T_1367e_row0_col3,#T_1367e_row4_col1{\n",
       "            background-color:  #5a78e4;\n",
       "            color:  #000000;\n",
       "        }#T_1367e_row0_col4{\n",
       "            background-color:  #eed0c0;\n",
       "            color:  #000000;\n",
       "        }#T_1367e_row0_col5{\n",
       "            background-color:  #f7b497;\n",
       "            color:  #000000;\n",
       "        }#T_1367e_row0_col6{\n",
       "            background-color:  #bfd3f6;\n",
       "            color:  #000000;\n",
       "        }#T_1367e_row0_col7{\n",
       "            background-color:  #bbd1f8;\n",
       "            color:  #000000;\n",
       "        }#T_1367e_row0_col8{\n",
       "            background-color:  #f7b396;\n",
       "            color:  #000000;\n",
       "        }#T_1367e_row1_col0,#T_1367e_row1_col2{\n",
       "            background-color:  #90b2fe;\n",
       "            color:  #000000;\n",
       "        }#T_1367e_row1_col3,#T_1367e_row5_col6{\n",
       "            background-color:  #d9dce1;\n",
       "            color:  #000000;\n",
       "        }#T_1367e_row1_col4{\n",
       "            background-color:  #82a6fb;\n",
       "            color:  #000000;\n",
       "        }#T_1367e_row1_col5,#T_1367e_row6_col2{\n",
       "            background-color:  #7093f3;\n",
       "            color:  #000000;\n",
       "        }#T_1367e_row1_col6,#T_1367e_row2_col8,#T_1367e_row3_col0,#T_1367e_row3_col4,#T_1367e_row3_col5,#T_1367e_row3_col7,#T_1367e_row4_col2,#T_1367e_row4_col3,#T_1367e_row6_col1{\n",
       "            background-color:  #3b4cc0;\n",
       "            color:  #f1f1f1;\n",
       "        }#T_1367e_row1_col7{\n",
       "            background-color:  #445acc;\n",
       "            color:  #f1f1f1;\n",
       "        }#T_1367e_row1_col8{\n",
       "            background-color:  #a5c3fe;\n",
       "            color:  #000000;\n",
       "        }#T_1367e_row2_col0{\n",
       "            background-color:  #7da0f9;\n",
       "            color:  #000000;\n",
       "        }#T_1367e_row2_col1{\n",
       "            background-color:  #a2c1ff;\n",
       "            color:  #000000;\n",
       "        }#T_1367e_row2_col3,#T_1367e_row8_col1{\n",
       "            background-color:  #c0d4f5;\n",
       "            color:  #000000;\n",
       "        }#T_1367e_row2_col4{\n",
       "            background-color:  #7699f6;\n",
       "            color:  #000000;\n",
       "        }#T_1367e_row2_col5{\n",
       "            background-color:  #6485ec;\n",
       "            color:  #000000;\n",
       "        }#T_1367e_row2_col6{\n",
       "            background-color:  #84a7fc;\n",
       "            color:  #000000;\n",
       "        }#T_1367e_row2_col7{\n",
       "            background-color:  #80a3fa;\n",
       "            color:  #000000;\n",
       "        }#T_1367e_row3_col1{\n",
       "            background-color:  #c3d5f4;\n",
       "            color:  #000000;\n",
       "        }#T_1367e_row3_col2{\n",
       "            background-color:  #92b4fe;\n",
       "            color:  #000000;\n",
       "        }#T_1367e_row3_col6{\n",
       "            background-color:  #4055c8;\n",
       "            color:  #f1f1f1;\n",
       "        }#T_1367e_row3_col8{\n",
       "            background-color:  #3e51c5;\n",
       "            color:  #f1f1f1;\n",
       "        }#T_1367e_row4_col0{\n",
       "            background-color:  #e3d9d3;\n",
       "            color:  #000000;\n",
       "        }#T_1367e_row4_col5{\n",
       "            background-color:  #f7b599;\n",
       "            color:  #000000;\n",
       "        }#T_1367e_row4_col6{\n",
       "            background-color:  #97b8ff;\n",
       "            color:  #000000;\n",
       "        }#T_1367e_row4_col7{\n",
       "            background-color:  #c4d5f3;\n",
       "            color:  #000000;\n",
       "        }#T_1367e_row4_col8{\n",
       "            background-color:  #d7dce3;\n",
       "            color:  #000000;\n",
       "        }#T_1367e_row5_col0{\n",
       "            background-color:  #f7b89c;\n",
       "            color:  #000000;\n",
       "        }#T_1367e_row5_col1{\n",
       "            background-color:  #5e7de7;\n",
       "            color:  #000000;\n",
       "        }#T_1367e_row5_col2{\n",
       "            background-color:  #3d50c3;\n",
       "            color:  #f1f1f1;\n",
       "        }#T_1367e_row5_col3{\n",
       "            background-color:  #506bda;\n",
       "            color:  #000000;\n",
       "        }#T_1367e_row5_col4{\n",
       "            background-color:  #f7ad90;\n",
       "            color:  #000000;\n",
       "        }#T_1367e_row5_col7,#T_1367e_row8_col4{\n",
       "            background-color:  #f2cbb7;\n",
       "            color:  #000000;\n",
       "        }#T_1367e_row5_col8{\n",
       "            background-color:  #d1dae9;\n",
       "            color:  #000000;\n",
       "        }#T_1367e_row6_col0,#T_1367e_row7_col0{\n",
       "            background-color:  #c5d6f2;\n",
       "            color:  #000000;\n",
       "        }#T_1367e_row6_col3,#T_1367e_row7_col3{\n",
       "            background-color:  #6a8bef;\n",
       "            color:  #000000;\n",
       "        }#T_1367e_row6_col4,#T_1367e_row8_col7{\n",
       "            background-color:  #b7cff9;\n",
       "            color:  #000000;\n",
       "        }#T_1367e_row6_col5{\n",
       "            background-color:  #e1dad6;\n",
       "            color:  #000000;\n",
       "        }#T_1367e_row6_col7{\n",
       "            background-color:  #f5a081;\n",
       "            color:  #000000;\n",
       "        }#T_1367e_row6_col8{\n",
       "            background-color:  #89acfd;\n",
       "            color:  #000000;\n",
       "        }#T_1367e_row7_col1{\n",
       "            background-color:  #4a63d3;\n",
       "            color:  #f1f1f1;\n",
       "        }#T_1367e_row7_col2{\n",
       "            background-color:  #7396f5;\n",
       "            color:  #000000;\n",
       "        }#T_1367e_row7_col4{\n",
       "            background-color:  #dddcdc;\n",
       "            color:  #000000;\n",
       "        }#T_1367e_row7_col5{\n",
       "            background-color:  #f5c1a9;\n",
       "            color:  #000000;\n",
       "        }#T_1367e_row7_col6{\n",
       "            background-color:  #f59f80;\n",
       "            color:  #000000;\n",
       "        }#T_1367e_row7_col8{\n",
       "            background-color:  #9fbfff;\n",
       "            color:  #000000;\n",
       "        }#T_1367e_row8_col0{\n",
       "            background-color:  #f6a283;\n",
       "            color:  #000000;\n",
       "        }#T_1367e_row8_col2{\n",
       "            background-color:  #4c66d6;\n",
       "            color:  #000000;\n",
       "        }#T_1367e_row8_col3{\n",
       "            background-color:  #8badfd;\n",
       "            color:  #000000;\n",
       "        }#T_1367e_row8_col5{\n",
       "            background-color:  #ead5c9;\n",
       "            color:  #000000;\n",
       "        }#T_1367e_row8_col6{\n",
       "            background-color:  #a9c6fd;\n",
       "            color:  #000000;\n",
       "        }</style><table id=\"T_1367e_\" ><thead>    <tr>        <th class=\"blank level0\" ></th>        <th class=\"col_heading level0 col0\" >x1</th>        <th class=\"col_heading level0 col1\" >x2</th>        <th class=\"col_heading level0 col2\" >x3</th>        <th class=\"col_heading level0 col3\" >x4</th>        <th class=\"col_heading level0 col4\" >x5</th>        <th class=\"col_heading level0 col5\" >x6</th>        <th class=\"col_heading level0 col6\" >x7</th>        <th class=\"col_heading level0 col7\" >x8</th>        <th class=\"col_heading level0 col8\" >y</th>    </tr></thead><tbody>\n",
       "                <tr>\n",
       "                        <th id=\"T_1367e_level0_row0\" class=\"row_heading level0 row0\" >x1</th>\n",
       "                        <td id=\"T_1367e_row0_col0\" class=\"data row0 col0\" >1.0000</td>\n",
       "                        <td id=\"T_1367e_row0_col1\" class=\"data row0 col1\" >0.2805</td>\n",
       "                        <td id=\"T_1367e_row0_col2\" class=\"data row0 col2\" >0.2250</td>\n",
       "                        <td id=\"T_1367e_row0_col3\" class=\"data row0 col3\" >0.0273</td>\n",
       "                        <td id=\"T_1367e_row0_col4\" class=\"data row0 col4\" >0.5388</td>\n",
       "                        <td id=\"T_1367e_row0_col5\" class=\"data row0 col5\" >0.6753</td>\n",
       "                        <td id=\"T_1367e_row0_col6\" class=\"data row0 col6\" >0.4324</td>\n",
       "                        <td id=\"T_1367e_row0_col7\" class=\"data row0 col7\" >0.4337</td>\n",
       "                        <td id=\"T_1367e_row0_col8\" class=\"data row0 col8\" >0.7345</td>\n",
       "            </tr>\n",
       "            <tr>\n",
       "                        <th id=\"T_1367e_level0_row1\" class=\"row_heading level0 row1\" >x2</th>\n",
       "                        <td id=\"T_1367e_row1_col0\" class=\"data row1 col0\" >0.2805</td>\n",
       "                        <td id=\"T_1367e_row1_col1\" class=\"data row1 col1\" >1.0000</td>\n",
       "                        <td id=\"T_1367e_row1_col2\" class=\"data row1 col2\" >0.3480</td>\n",
       "                        <td id=\"T_1367e_row1_col3\" class=\"data row1 col3\" >0.4423</td>\n",
       "                        <td id=\"T_1367e_row1_col4\" class=\"data row1 col4\" >0.1554</td>\n",
       "                        <td id=\"T_1367e_row1_col5\" class=\"data row1 col5\" >0.1645</td>\n",
       "                        <td id=\"T_1367e_row1_col6\" class=\"data row1 col6\" >0.0569</td>\n",
       "                        <td id=\"T_1367e_row1_col7\" class=\"data row1 col7\" >0.1074</td>\n",
       "                        <td id=\"T_1367e_row1_col8\" class=\"data row1 col8\" >0.4333</td>\n",
       "            </tr>\n",
       "            <tr>\n",
       "                        <th id=\"T_1367e_level0_row2\" class=\"row_heading level0 row2\" >x3</th>\n",
       "                        <td id=\"T_1367e_row2_col0\" class=\"data row2 col0\" >0.2250</td>\n",
       "                        <td id=\"T_1367e_row2_col1\" class=\"data row2 col1\" >0.3480</td>\n",
       "                        <td id=\"T_1367e_row2_col2\" class=\"data row2 col2\" >1.0000</td>\n",
       "                        <td id=\"T_1367e_row2_col3\" class=\"data row2 col3\" >0.3502</td>\n",
       "                        <td id=\"T_1367e_row2_col4\" class=\"data row2 col4\" >0.1177</td>\n",
       "                        <td id=\"T_1367e_row2_col5\" class=\"data row2 col5\" >0.1277</td>\n",
       "                        <td id=\"T_1367e_row2_col6\" class=\"data row2 col6\" >0.2689</td>\n",
       "                        <td id=\"T_1367e_row2_col7\" class=\"data row2 col7\" >0.2761</td>\n",
       "                        <td id=\"T_1367e_row2_col8\" class=\"data row2 col8\" >0.1696</td>\n",
       "            </tr>\n",
       "            <tr>\n",
       "                        <th id=\"T_1367e_level0_row3\" class=\"row_heading level0 row3\" >x4</th>\n",
       "                        <td id=\"T_1367e_row3_col0\" class=\"data row3 col0\" >0.0273</td>\n",
       "                        <td id=\"T_1367e_row3_col1\" class=\"data row3 col1\" >0.4423</td>\n",
       "                        <td id=\"T_1367e_row3_col2\" class=\"data row3 col2\" >0.3502</td>\n",
       "                        <td id=\"T_1367e_row3_col3\" class=\"data row3 col3\" >1.0000</td>\n",
       "                        <td id=\"T_1367e_row3_col4\" class=\"data row3 col4\" >-0.0858</td>\n",
       "                        <td id=\"T_1367e_row3_col5\" class=\"data row3 col5\" >-0.0070</td>\n",
       "                        <td id=\"T_1367e_row3_col6\" class=\"data row3 col6\" >0.0778</td>\n",
       "                        <td id=\"T_1367e_row3_col7\" class=\"data row3 col7\" >0.0785</td>\n",
       "                        <td id=\"T_1367e_row3_col8\" class=\"data row3 col8\" >0.1798</td>\n",
       "            </tr>\n",
       "            <tr>\n",
       "                        <th id=\"T_1367e_level0_row4\" class=\"row_heading level0 row4\" >x5</th>\n",
       "                        <td id=\"T_1367e_row4_col0\" class=\"data row4 col0\" >0.5388</td>\n",
       "                        <td id=\"T_1367e_row4_col1\" class=\"data row4 col1\" >0.1554</td>\n",
       "                        <td id=\"T_1367e_row4_col2\" class=\"data row4 col2\" >0.1177</td>\n",
       "                        <td id=\"T_1367e_row4_col3\" class=\"data row4 col3\" >-0.0858</td>\n",
       "                        <td id=\"T_1367e_row4_col4\" class=\"data row4 col4\" >1.0000</td>\n",
       "                        <td id=\"T_1367e_row4_col5\" class=\"data row4 col5\" >0.6731</td>\n",
       "                        <td id=\"T_1367e_row4_col6\" class=\"data row4 col6\" >0.3204</td>\n",
       "                        <td id=\"T_1367e_row4_col7\" class=\"data row4 col7\" >0.4576</td>\n",
       "                        <td id=\"T_1367e_row4_col8\" class=\"data row4 col8\" >0.5662</td>\n",
       "            </tr>\n",
       "            <tr>\n",
       "                        <th id=\"T_1367e_level0_row5\" class=\"row_heading level0 row5\" >x6</th>\n",
       "                        <td id=\"T_1367e_row5_col0\" class=\"data row5 col0\" >0.6753</td>\n",
       "                        <td id=\"T_1367e_row5_col1\" class=\"data row5 col1\" >0.1645</td>\n",
       "                        <td id=\"T_1367e_row5_col2\" class=\"data row5 col2\" >0.1277</td>\n",
       "                        <td id=\"T_1367e_row5_col3\" class=\"data row5 col3\" >-0.0070</td>\n",
       "                        <td id=\"T_1367e_row5_col4\" class=\"data row5 col4\" >0.6731</td>\n",
       "                        <td id=\"T_1367e_row5_col5\" class=\"data row5 col5\" >1.0000</td>\n",
       "                        <td id=\"T_1367e_row5_col6\" class=\"data row5 col6\" >0.5148</td>\n",
       "                        <td id=\"T_1367e_row5_col7\" class=\"data row5 col7\" >0.6315</td>\n",
       "                        <td id=\"T_1367e_row5_col8\" class=\"data row5 col8\" >0.5488</td>\n",
       "            </tr>\n",
       "            <tr>\n",
       "                        <th id=\"T_1367e_level0_row6\" class=\"row_heading level0 row6\" >x7</th>\n",
       "                        <td id=\"T_1367e_row6_col0\" class=\"data row6 col0\" >0.4324</td>\n",
       "                        <td id=\"T_1367e_row6_col1\" class=\"data row6 col1\" >0.0569</td>\n",
       "                        <td id=\"T_1367e_row6_col2\" class=\"data row6 col2\" >0.2689</td>\n",
       "                        <td id=\"T_1367e_row6_col3\" class=\"data row6 col3\" >0.0778</td>\n",
       "                        <td id=\"T_1367e_row6_col4\" class=\"data row6 col4\" >0.3204</td>\n",
       "                        <td id=\"T_1367e_row6_col5\" class=\"data row6 col5\" >0.5148</td>\n",
       "                        <td id=\"T_1367e_row6_col6\" class=\"data row6 col6\" >1.0000</td>\n",
       "                        <td id=\"T_1367e_row6_col7\" class=\"data row6 col7\" >0.7519</td>\n",
       "                        <td id=\"T_1367e_row6_col8\" class=\"data row6 col8\" >0.3690</td>\n",
       "            </tr>\n",
       "            <tr>\n",
       "                        <th id=\"T_1367e_level0_row7\" class=\"row_heading level0 row7\" >x8</th>\n",
       "                        <td id=\"T_1367e_row7_col0\" class=\"data row7 col0\" >0.4337</td>\n",
       "                        <td id=\"T_1367e_row7_col1\" class=\"data row7 col1\" >0.1074</td>\n",
       "                        <td id=\"T_1367e_row7_col2\" class=\"data row7 col2\" >0.2761</td>\n",
       "                        <td id=\"T_1367e_row7_col3\" class=\"data row7 col3\" >0.0785</td>\n",
       "                        <td id=\"T_1367e_row7_col4\" class=\"data row7 col4\" >0.4576</td>\n",
       "                        <td id=\"T_1367e_row7_col5\" class=\"data row7 col5\" >0.6315</td>\n",
       "                        <td id=\"T_1367e_row7_col6\" class=\"data row7 col6\" >0.7519</td>\n",
       "                        <td id=\"T_1367e_row7_col7\" class=\"data row7 col7\" >1.0000</td>\n",
       "                        <td id=\"T_1367e_row7_col8\" class=\"data row7 col8\" >0.4223</td>\n",
       "            </tr>\n",
       "            <tr>\n",
       "                        <th id=\"T_1367e_level0_row8\" class=\"row_heading level0 row8\" >y</th>\n",
       "                        <td id=\"T_1367e_row8_col0\" class=\"data row8 col0\" >0.7345</td>\n",
       "                        <td id=\"T_1367e_row8_col1\" class=\"data row8 col1\" >0.4333</td>\n",
       "                        <td id=\"T_1367e_row8_col2\" class=\"data row8 col2\" >0.1696</td>\n",
       "                        <td id=\"T_1367e_row8_col3\" class=\"data row8 col3\" >0.1798</td>\n",
       "                        <td id=\"T_1367e_row8_col4\" class=\"data row8 col4\" >0.5662</td>\n",
       "                        <td id=\"T_1367e_row8_col5\" class=\"data row8 col5\" >0.5488</td>\n",
       "                        <td id=\"T_1367e_row8_col6\" class=\"data row8 col6\" >0.3690</td>\n",
       "                        <td id=\"T_1367e_row8_col7\" class=\"data row8 col7\" >0.4223</td>\n",
       "                        <td id=\"T_1367e_row8_col8\" class=\"data row8 col8\" >1.0000</td>\n",
       "            </tr>\n",
       "    </tbody></table>"
      ],
      "text/plain": [
       "<pandas.io.formats.style.Styler at 0x13411dbf5c0>"
      ]
     },
     "execution_count": 12,
     "metadata": {},
     "output_type": "execute_result"
    }
   ],
   "source": [
    "# 2: Calculate the correlation among all the variables.\n",
    "corr = df.corr()\n",
    "\n",
    "corr.style.background_gradient(cmap='coolwarm').set_precision(4)  # see pandas.DataFrame.style\n",
    "\n",
    "# display(corr)\n",
    "\n",
    "# import seaborn as sns\n",
    "# %matplotlib inline\n",
    "# sns.heatmap(corr)"
   ]
  },
  {
   "cell_type": "code",
   "execution_count": 13,
   "metadata": {
    "slideshow": {
     "slide_type": "slide"
    }
   },
   "outputs": [
    {
     "name": "stdout",
     "output_type": "stream",
     "text": [
      "The top three correlated input variables are:  ['x1', 'x5', 'x6']\n",
      "Index(['y', 'x1', 'x5', 'x6', 'x2', 'x8', 'x7', 'x4', 'x3'], dtype='object')\n"
     ]
    }
   ],
   "source": [
    "# 3. Identify the top three correlated input variables to the output variable.\n",
    "\n",
    "corr=corr.apply(lambda x: np.abs(x))\n",
    "\n",
    "sorted_corr = corr.sort_values(by=['y'], ascending=False) # negative values will be considered using abs.\n",
    "\n",
    "sorted_corr = sorted_corr['y'].index\n",
    "print('The top three correlated input variables are: ',sorted_corr[1:4].tolist())\n",
    "print(sorted_corr)"
   ]
  },
  {
   "cell_type": "code",
   "execution_count": 14,
   "metadata": {
    "slideshow": {
     "slide_type": "slide"
    }
   },
   "outputs": [
    {
     "name": "stdout",
     "output_type": "stream",
     "text": [
      "The closed form estimates are: [-0.0, 0.58, 0.23, -0.14, 0.12, 0.27, -0.13, 0.03, 0.11]\n"
     ]
    }
   ],
   "source": [
    "#4: Calculate the coefficient estimates using OLS closed form.\n",
    "# import numpy as np\n",
    "\n",
    "Xo = df.iloc[:,0:-1].values\n",
    "y = df.iloc[:,-1].values\n",
    "X = np.c_[np.ones(len(y)), Xo]\n",
    "\n",
    "## or using the labels\n",
    "# Xo = df.loc[:,'x1':'x8'].values\n",
    "# y = df['y'].values\n",
    "# X = np.hstack([np.ones(len(y)).reshape(-1,1), Xo])\n",
    "\n",
    "best_beta = np.linalg.inv(X.T @ X) @ X.T @ y\n",
    "\n",
    "print('The closed form estimates are:', np.round(best_beta,2).tolist()) "
   ]
  },
  {
   "cell_type": "code",
   "execution_count": 15,
   "metadata": {
    "slideshow": {
     "slide_type": "slide"
    }
   },
   "outputs": [
    {
     "name": "stdout",
     "output_type": "stream",
     "text": [
      "The best values for the estimates are : -0.0 [0.58, 0.23, -0.14, 0.12, 0.27, -0.13, 0.03, 0.11]\n"
     ]
    }
   ],
   "source": [
    "# 5: Calculate the coefficient estimates using scikit learn LinearRegression module. \n",
    "from sklearn.linear_model import LinearRegression\n",
    "\n",
    "reg = LinearRegression().fit(Xo, y)\n",
    "\n",
    "best_beta =  np.round(reg.coef_,2)\n",
    "best_beta_0 = np.round(reg.intercept_,2)\n",
    "\n",
    "print(f'The best values for the estimates are :', best_beta_0, best_beta.tolist())"
   ]
  },
  {
   "cell_type": "markdown",
   "metadata": {
    "slideshow": {
     "slide_type": "slide"
    }
   },
   "source": [
    "## Penalized Linear Regression (PLR)\n",
    "> _(Book-2)_\n",
    "\n",
    "- The coefficients obtained by minimizing the squared error of the training data, may not perform in general good on the new data.\n",
    "- This phenomenon is called as **over-fitting**.\n",
    "- In order to control over-fitting, a penalized term (or regularization term) is added to the _error function_. \n",
    "- The aim of the penalized function is to set some of the coefficients to zero.\n",
    "\n",
    "- In PLR, the least square error function will be updated as follows:\n",
    " $$J(\\boldsymbol \\beta) = \\frac{1}{n} \\sum_{i=1}^n\\left( h(x^i)-y_i \\right)^2 + \\alpha P(\\boldsymbol \\beta),$$\n",
    " \n",
    " where $P(\\boldsymbol \\beta)$ is the penalty or regularized term, and $\\alpha$ is the regularization coefficient.\n",
    "- In our class, we will look at the following two popular penalization linear regression models:\n",
    " - Ridge regression:\n",
    " $$\\frac{1}{n} \\sum_{i=1}^n\\left( h(x^i)-y_i \\right)^2 + \\alpha \\sum_{j=0}^P \\beta_j^2$$\n",
    " - LASSO regression:\n",
    "  $$\\frac{1}{n} \\sum_{i=1}^n\\left( h(x^i)-y_i \\right)^2 + \\alpha \\sum_{j=0}^P |\\beta_j|$$\n"
   ]
  },
  {
   "cell_type": "markdown",
   "metadata": {
    "slideshow": {
     "slide_type": "slide"
    }
   },
   "source": [
    "### Solution of the Penalized Linear Regression\n",
    "- Ridge regression:\n",
    " - A closed form solution exists, given as:\n",
    "$$\\boldsymbol \\beta^{*} = (\\mathbf{X^{T}X} + \\alpha \\mathbf{I})^{-1} \\mathbf{X^{T}y},$$\n",
    "where $\\mathbf{I} \\in \\mathbb{R}^{(P+1) \\times (P+1)}$ is the identity matrix.  \n",
    "\n",
    "\n",
    "\n",
    "- LASSO regression:\n",
    " - No closed form solution, but many efficient algorithms exists.\n",
    " \n",
    "Note: gradient descent can be used for solving the above penalized linear regression problems."
   ]
  },
  {
   "cell_type": "markdown",
   "metadata": {
    "slideshow": {
     "slide_type": "slide"
    }
   },
   "source": [
    "### Example Penalized Regressions\n",
    "**Question-E:** Consider the data given in **Question-D**. \n",
    "1. Find the coefficient estimates using Ridge regression for $alpha=500$, using sci-kit learn.\n",
    "2. Find the coefficient estimates using Lasso regression for $alpha=0.5$, using sci-kit learn.\n",
    "3. Are the coefficients different from OLS. What can you infer.\n"
   ]
  },
  {
   "cell_type": "code",
   "execution_count": 16,
   "metadata": {
    "slideshow": {
     "slide_type": "slide"
    }
   },
   "outputs": [
    {
     "name": "stdout",
     "output_type": "stream",
     "text": [
      "The best values for the estimates are : -0.0 [0.1, 0.06, 0.01, 0.02, 0.07, 0.06, 0.04, 0.04]\n"
     ]
    }
   ],
   "source": [
    "#1. Find the coefficient estimates using Ridge regression for  𝑎𝑙𝑝ℎ𝑎=500 , using sci-kit learn.\n",
    "import pandas as pd\n",
    "df = pd.read_csv('data/Regression-3.csv', delimiter =',')\n",
    "\n",
    "Xo = df.iloc[:,0:-1].values\n",
    "y = df.iloc[:,-1].values\n",
    "\n",
    "from sklearn.linear_model import Ridge\n",
    "regr = Ridge(alpha=500)\n",
    "regr.fit(Xo, y)\n",
    "best_beta =  np.round(regr.coef_,2)\n",
    "best_beta_0 = np.round(regr.intercept_,2)\n",
    "print(f'The best values for the estimates are :', best_beta_0, best_beta.tolist())"
   ]
  },
  {
   "cell_type": "code",
   "execution_count": 17,
   "metadata": {
    "slideshow": {
     "slide_type": "slide"
    }
   },
   "outputs": [
    {
     "name": "stdout",
     "output_type": "stream",
     "text": [
      "The best values for the estimates are : -0.0 [0.23, 0.0, 0.0, 0.0, 0.0, 0.0, 0.0, 0.0]\n"
     ]
    }
   ],
   "source": [
    "#2. Find the coefficient estimates using Lasso regression for  𝑎𝑙𝑝ℎ𝑎=0.5 , using sci-kit learn.\n",
    "from sklearn.linear_model import Lasso\n",
    "regl = Lasso(alpha=0.5)\n",
    "regl.fit(Xo, y)\n",
    "best_beta =  np.round(regl.coef_,2)\n",
    "best_beta_0 = np.round(regl.intercept_,2)\n",
    "print(f'The best values for the estimates are :', best_beta_0, best_beta.tolist())"
   ]
  },
  {
   "cell_type": "markdown",
   "metadata": {
    "slideshow": {
     "slide_type": "slide"
    }
   },
   "source": [
    "3. Are the coefficients different from OLS. What can you infer.\n",
    "\n",
    "Yes, the coefficients are different due to penalized objective. Following can be inferred: \n",
    "\n",
    "- OLS vs Ridge: OLS and Ridge have all non-zero coefficients. However, the coefficients given by Ridge are less in terms of absolute value (shrunken coefficients)\n",
    "\n",
    "- OLS vs Lasso: OLS has all non-zero coefficients, whereas Lasso has ONE non-zero coefficients (selected coefficient). Thus, Lasso claims that only the first column is relevant to the output variable, for alpha=0.5.\n"
   ]
  },
  {
   "cell_type": "markdown",
   "metadata": {
    "slideshow": {
     "slide_type": "slide"
    }
   },
   "source": [
    "### Lasso vs Ridge: Summary\n",
    "- Ridge regression shrinks the estimate values, it is useful when there are **correlated input columns**.\n",
    "- Lasso does feature selection, it is useful when there are **unrelated input columns**.\n",
    "- The quality of solution depends on the value of the hyper-parameter $\\alpha$\n",
    "- Selecting the best value of $\\alpha$ generates better results than OLS!  \n",
    "\n",
    "> How to identify/select the best value of the hyper-parameter?"
   ]
  },
  {
   "cell_type": "markdown",
   "metadata": {
    "slideshow": {
     "slide_type": "slide"
    }
   },
   "source": [
    "# Cross-validation for Parameter Selection\n",
    "> 📌 An idea to find best value of the hyper-parameters"
   ]
  },
  {
   "cell_type": "markdown",
   "metadata": {
    "slideshow": {
     "slide_type": "fragment"
    }
   },
   "source": [
    "**Train-Testing:**\n",
    "- Two data sets (training and testing) are available.\n",
    "- The idea is to build the model on training data, and test the model on testing data.  \n",
    "- The testing data is usually smaller dataset compared to the training data.\n",
    "- The aim is to test the model's __generalizability__.\n",
    "- Other variations: Training-testing-validation datasets.\n",
    " - to goal is to reduce the level of overfitting.\n",
    " - the training is done a little bit more rigorously. \n",
    " - validation set is for validating the model's accuracy before the actual test on testing data.\n",
    " \n",
    "**Cross-validation (CV):**\n",
    "- It is used when there is no predefined training/validation/testing data. \n",
    "- It is one of the pragmatic approaches for parameter selection.\n",
    "- The idea is to partition the data into training/validation/testing sets. \n",
    " - Holdout method\n",
    " - k-fold method\n",
    " - Leave-one-out method\n",
    " - Monte-Carlo method\n",
    "- The aim is to improve the model's __generalizability__.\n"
   ]
  },
  {
   "cell_type": "markdown",
   "metadata": {
    "slideshow": {
     "slide_type": "slide"
    }
   },
   "source": [
    "# Case Study\n",
    "> 📌 Let's test the power of linear regression"
   ]
  },
  {
   "cell_type": "markdown",
   "metadata": {
    "slideshow": {
     "slide_type": "slide"
    }
   },
   "source": [
    "## Case Study - 1\n",
    "\n",
    "**Data**:  \n",
    "Historical data of real estate prices per unit area are collected for a city. Following 6 input features are recorded over the time:  \n",
    "**X1**=the transaction date  \n",
    "**X2**=the house age (unit: year)  \n",
    "**X3**=the distance to the nearest MRT station (unit: meter)  \n",
    "**X4**=the number of nearby convenience stores (integer)  \n",
    "**X5**=the geographic coordinate, latitude. (unit: degree)  \n",
    "**X6**=the geographic coordinate, longitude. (unit: degree)  \n",
    "\n",
    "Values of the 6 input features for (one observation) is written in a row. Furthermore, the corresponding real estate price per unit area (output variable) values are stored under the column **Y** in the corresponding row. The data is given in Regression-4.csv file.\n",
    "\n",
    "**Hypothesis**:  \n",
    "Our underlying hypothesis is that the input variables are _linearly_ related with the output variable.  \n",
    "\n",
    "**Objective**:  \n",
    "The objective of this case study is to identify the input variables' relationship with the output variable. Specifically, conduct a regression analysis, and estimate the best coefficients that capture the underlying relationship.\n",
    "_Note: It is not necessary that all the input variables are related to the output variable._"
   ]
  },
  {
   "cell_type": "code",
   "execution_count": 18,
   "metadata": {
    "scrolled": false,
    "slideshow": {
     "slide_type": "slide"
    }
   },
   "outputs": [
    {
     "name": "stdout",
     "output_type": "stream",
     "text": [
      "<class 'pandas.core.frame.DataFrame'>\n",
      "RangeIndex: 414 entries, 0 to 413\n",
      "Data columns (total 7 columns):\n",
      " #   Column                                  Non-Null Count  Dtype  \n",
      "---  ------                                  --------------  -----  \n",
      " 0   X1 transaction date                     414 non-null    float64\n",
      " 1   X2 house age                            414 non-null    float64\n",
      " 2   X3 distance to the nearest MRT station  414 non-null    float64\n",
      " 3   X4 number of convenience stores         414 non-null    int64  \n",
      " 4   X5 latitude                             414 non-null    float64\n",
      " 5   X6 longitude                            414 non-null    float64\n",
      " 6   Y house price of unit area              414 non-null    float64\n",
      "dtypes: float64(6), int64(1)\n",
      "memory usage: 22.8 KB\n"
     ]
    },
    {
     "data": {
      "text/plain": [
       "None"
      ]
     },
     "metadata": {},
     "output_type": "display_data"
    },
    {
     "data": {
      "text/html": [
       "<div>\n",
       "<style scoped>\n",
       "    .dataframe tbody tr th:only-of-type {\n",
       "        vertical-align: middle;\n",
       "    }\n",
       "\n",
       "    .dataframe tbody tr th {\n",
       "        vertical-align: top;\n",
       "    }\n",
       "\n",
       "    .dataframe thead th {\n",
       "        text-align: right;\n",
       "    }\n",
       "</style>\n",
       "<table border=\"1\" class=\"dataframe\">\n",
       "  <thead>\n",
       "    <tr style=\"text-align: right;\">\n",
       "      <th></th>\n",
       "      <th>count</th>\n",
       "      <th>mean</th>\n",
       "      <th>std</th>\n",
       "      <th>min</th>\n",
       "      <th>25%</th>\n",
       "      <th>50%</th>\n",
       "      <th>75%</th>\n",
       "      <th>max</th>\n",
       "    </tr>\n",
       "  </thead>\n",
       "  <tbody>\n",
       "    <tr>\n",
       "      <th>X1 transaction date</th>\n",
       "      <td>414.0</td>\n",
       "      <td>2013.148971</td>\n",
       "      <td>0.281967</td>\n",
       "      <td>2012.66700</td>\n",
       "      <td>2012.917000</td>\n",
       "      <td>2013.16700</td>\n",
       "      <td>2013.417000</td>\n",
       "      <td>2013.58300</td>\n",
       "    </tr>\n",
       "    <tr>\n",
       "      <th>X2 house age</th>\n",
       "      <td>414.0</td>\n",
       "      <td>17.712560</td>\n",
       "      <td>11.392485</td>\n",
       "      <td>0.00000</td>\n",
       "      <td>9.025000</td>\n",
       "      <td>16.10000</td>\n",
       "      <td>28.150000</td>\n",
       "      <td>43.80000</td>\n",
       "    </tr>\n",
       "    <tr>\n",
       "      <th>X3 distance to the nearest MRT station</th>\n",
       "      <td>414.0</td>\n",
       "      <td>1083.885689</td>\n",
       "      <td>1262.109595</td>\n",
       "      <td>23.38284</td>\n",
       "      <td>289.324800</td>\n",
       "      <td>492.23130</td>\n",
       "      <td>1454.279000</td>\n",
       "      <td>6488.02100</td>\n",
       "    </tr>\n",
       "    <tr>\n",
       "      <th>X4 number of convenience stores</th>\n",
       "      <td>414.0</td>\n",
       "      <td>4.094203</td>\n",
       "      <td>2.945562</td>\n",
       "      <td>0.00000</td>\n",
       "      <td>1.000000</td>\n",
       "      <td>4.00000</td>\n",
       "      <td>6.000000</td>\n",
       "      <td>10.00000</td>\n",
       "    </tr>\n",
       "    <tr>\n",
       "      <th>X5 latitude</th>\n",
       "      <td>414.0</td>\n",
       "      <td>24.969030</td>\n",
       "      <td>0.012410</td>\n",
       "      <td>24.93207</td>\n",
       "      <td>24.963000</td>\n",
       "      <td>24.97110</td>\n",
       "      <td>24.977455</td>\n",
       "      <td>25.01459</td>\n",
       "    </tr>\n",
       "    <tr>\n",
       "      <th>X6 longitude</th>\n",
       "      <td>414.0</td>\n",
       "      <td>121.533361</td>\n",
       "      <td>0.015347</td>\n",
       "      <td>121.47353</td>\n",
       "      <td>121.528085</td>\n",
       "      <td>121.53863</td>\n",
       "      <td>121.543305</td>\n",
       "      <td>121.56627</td>\n",
       "    </tr>\n",
       "    <tr>\n",
       "      <th>Y house price of unit area</th>\n",
       "      <td>414.0</td>\n",
       "      <td>37.980193</td>\n",
       "      <td>13.606488</td>\n",
       "      <td>7.60000</td>\n",
       "      <td>27.700000</td>\n",
       "      <td>38.45000</td>\n",
       "      <td>46.600000</td>\n",
       "      <td>117.50000</td>\n",
       "    </tr>\n",
       "  </tbody>\n",
       "</table>\n",
       "</div>"
      ],
      "text/plain": [
       "                                        count         mean          std  \\\n",
       "X1 transaction date                     414.0  2013.148971     0.281967   \n",
       "X2 house age                            414.0    17.712560    11.392485   \n",
       "X3 distance to the nearest MRT station  414.0  1083.885689  1262.109595   \n",
       "X4 number of convenience stores         414.0     4.094203     2.945562   \n",
       "X5 latitude                             414.0    24.969030     0.012410   \n",
       "X6 longitude                            414.0   121.533361     0.015347   \n",
       "Y house price of unit area              414.0    37.980193    13.606488   \n",
       "\n",
       "                                               min          25%         50%  \\\n",
       "X1 transaction date                     2012.66700  2012.917000  2013.16700   \n",
       "X2 house age                               0.00000     9.025000    16.10000   \n",
       "X3 distance to the nearest MRT station    23.38284   289.324800   492.23130   \n",
       "X4 number of convenience stores            0.00000     1.000000     4.00000   \n",
       "X5 latitude                               24.93207    24.963000    24.97110   \n",
       "X6 longitude                             121.47353   121.528085   121.53863   \n",
       "Y house price of unit area                 7.60000    27.700000    38.45000   \n",
       "\n",
       "                                                75%         max  \n",
       "X1 transaction date                     2013.417000  2013.58300  \n",
       "X2 house age                              28.150000    43.80000  \n",
       "X3 distance to the nearest MRT station  1454.279000  6488.02100  \n",
       "X4 number of convenience stores            6.000000    10.00000  \n",
       "X5 latitude                               24.977455    25.01459  \n",
       "X6 longitude                             121.543305   121.56627  \n",
       "Y house price of unit area                46.600000   117.50000  "
      ]
     },
     "execution_count": 18,
     "metadata": {},
     "output_type": "execute_result"
    }
   ],
   "source": [
    "# Reading & describing the data \n",
    "import pandas as pd\n",
    "df = pd.read_csv('data/Regression-4.csv', delimiter = ',')\n",
    "display(df.info())\n",
    "df.describe().T"
   ]
  },
  {
   "cell_type": "code",
   "execution_count": 19,
   "metadata": {
    "slideshow": {
     "slide_type": "slide"
    }
   },
   "outputs": [],
   "source": [
    "# Generate Train - Test splits\n",
    "from sklearn.model_selection import train_test_split\n",
    "X = df.iloc[:,:-1].values\n",
    "y = df.iloc[:, -1].values \n",
    "X_train, X_test, y_train, y_test = train_test_split(X, y, test_size=0.3, random_state=42)"
   ]
  },
  {
   "cell_type": "code",
   "execution_count": 20,
   "metadata": {
    "scrolled": false,
    "slideshow": {
     "slide_type": "slide"
    }
   },
   "outputs": [],
   "source": [
    "# Scaling the Train - Test splits\n",
    "from sklearn.preprocessing import StandardScaler\n",
    "scaler = StandardScaler()\n",
    "\n",
    "scaler.fit(np.c_[X_train,y_train])\n",
    "\n",
    "A_train = scaler.transform(np.c_[X_train,y_train])\n",
    "X_train = A_train[:,:-1]\n",
    "y_train = A_train[:,-1]\n",
    "\n",
    "A_test = scaler.transform(np.c_[X_test,y_test])\n",
    "X_test = A_test[:,:-1]\n",
    "y_test = A_test[:,-1]\n",
    "\n",
    "# print(A_train)"
   ]
  },
  {
   "cell_type": "code",
   "execution_count": 21,
   "metadata": {
    "slideshow": {
     "slide_type": "slide"
    }
   },
   "outputs": [
    {
     "name": "stdout",
     "output_type": "stream",
     "text": [
      "The MSE using OLS is: 0.38409466023494976\n",
      "The MSE using Ridge is: 0.3793714233792296\n",
      "The MSE using Lasso is: 0.3788784599125441\n"
     ]
    }
   ],
   "source": [
    "# Regression Analysis: Mean Squared Error Metric\n",
    "from sklearn.metrics import mean_squared_error\n",
    "\n",
    "## OLS\n",
    "from sklearn.linear_model import LinearRegression\n",
    "reg1 = LinearRegression(fit_intercept=False).fit(X_train, y_train)\n",
    "y_pred1 = reg1.predict(X_test)\n",
    "print('The MSE using OLS is:', mean_squared_error(y_test, y_pred1))\n",
    "\n",
    "\n",
    "## Ridge\n",
    "from sklearn.linear_model import RidgeCV\n",
    "reg2 = RidgeCV(alphas=[1e-3, 1e-2, 1e-1, 1e0, 1e1, 1e2, 1e3], fit_intercept=False,cv=10).fit(X_train, y_train)\n",
    "y_pred2 = reg2.predict(X_test)\n",
    "print('The MSE using Ridge is:', mean_squared_error(y_test, y_pred2))\n",
    "\n",
    "\n",
    "## Lasso\n",
    "from sklearn.linear_model import LassoCV\n",
    "reg3 = LassoCV(alphas=[1e-3, 1e-2, 1e-1, 1e0, 1e1, 1e2, 1e3], \n",
    "               fit_intercept=False,cv=10, random_state=0).fit(X_train, y_train)\n",
    "y_pred3 = reg3.predict(X_test)\n",
    "print('The MSE using Lasso is:', mean_squared_error(y_test, y_pred3))\n"
   ]
  },
  {
   "cell_type": "code",
   "execution_count": 22,
   "metadata": {
    "slideshow": {
     "slide_type": "slide"
    }
   },
   "outputs": [
    {
     "name": "stdout",
     "output_type": "stream",
     "text": [
      "The best penalty coefficient is: 0.01\n",
      "The best coefficient estimates are: [ 1.07962770e-01 -1.87811814e-01 -4.08893754e-01  2.28328947e-01\n",
      "  2.14423679e-01 -3.65142883e-04]\n"
     ]
    }
   ],
   "source": [
    "## Details of the best estimates\n",
    "print('The best penalty coefficient is:', reg3.alpha_)\n",
    "print('The best coefficient estimates are:', reg3.coef_)\n"
   ]
  },
  {
   "cell_type": "markdown",
   "metadata": {
    "slideshow": {
     "slide_type": "slide"
    }
   },
   "source": [
    "Summary of the Case Study-1:\n",
    "- Lasso performs better than OLS and Ridge for this data.\n",
    "- From the regression analysis, we can say that input variable **X6** seems to have no relationship with **Y**. \n",
    "- Given a new information related to **X1, X2, X3, X4 & X5**, using the above lasso _reg3_ model, one can predict the price (**Y**)."
   ]
  },
  {
   "cell_type": "markdown",
   "metadata": {
    "slideshow": {
     "slide_type": "slide"
    }
   },
   "source": [
    "# Concluding Remarks \n",
    "> 📌 Further knowledge in regression"
   ]
  },
  {
   "cell_type": "markdown",
   "metadata": {
    "slideshow": {
     "slide_type": "slide"
    }
   },
   "source": [
    "## Handling Big-Data\n",
    "- When $n$ is very huge, the close form solution requires high computer memory. \n",
    "- Typically, gradient descent is preferred over closed form solution in such cases.\n",
    "- The gradient descent can be applied in following ways:\n",
    " - __Batch mode__: The gradient descent algorithm considers all $n$ data points while calculating the gradient\n",
    " - __Stochastic/Incremental mode__: The gradient descent algorithm considers one of the $n$ data points at a time while calculating the gradient\n",
    " - __Mini-Batch mode__: The gradient descent algorithm considers a sample from $n$ data points at a time while calculating the gradient \n",
    "- When $n$ is very huge, typically, Stochastic or Mini-batch mode is used."
   ]
  },
  {
   "cell_type": "markdown",
   "metadata": {
    "slideshow": {
     "slide_type": "slide"
    }
   },
   "source": [
    "## Concluding Remarks\n",
    "- Accuracy\n",
    "- Training Time\n",
    "- Number of Parameters\n",
    "- Number of Features\n",
    "- Choosing the Right Estimator\n",
    "- ElasticNet\n"
   ]
  },
  {
   "cell_type": "markdown",
   "metadata": {
    "slideshow": {
     "slide_type": "slide"
    }
   },
   "source": [
    "# References\n",
    "## Theory:\n",
    "1. Chirag Shah, \"A Hands-On Introduction to Data Science,\" Cambridge University Press, 2020, **Section 3.8.1, 8.3, 8.4, 12.4**. 📕\n",
    "2. Bishop, Christopher M., \"Pattern recognition and machine learning,\" Springer, 2006, **Section 3.1.4**. 📕\n",
    "\n",
    "## Data Sets:\n",
    "3. Regression-1 and Regression-2: Chirag Shah, \"A Hands-On Introduction to Data Science,\" Cambridge University Press, 2020.\n",
    "4. Regression-3: _Stamey, Thomas A., et al. \"Prostate specific antigen in the diagnosis and treatment of adenocarcinoma of the prostate. II. Radical prostatectomy treated patients.\" The Journal of urology 141.5 (1989): 1076-1083._\n",
    "5. Regression-4: _Yeh, I. C., & Hsu, T. K. (2018). Building real estate valuation models with comparative approach through case-based reasoning. Applied Soft Computing, 65, 260-271._"
   ]
  },
  {
   "cell_type": "code",
   "execution_count": null,
   "metadata": {},
   "outputs": [],
   "source": []
  }
 ],
 "metadata": {
  "celltoolbar": "Slideshow",
  "hide_input": false,
  "kernelspec": {
   "display_name": "Python 3 (ipykernel)",
   "language": "python",
   "name": "python3"
  },
  "language_info": {
   "codemirror_mode": {
    "name": "ipython",
    "version": 3
   },
   "file_extension": ".py",
   "mimetype": "text/x-python",
   "name": "python",
   "nbconvert_exporter": "python",
   "pygments_lexer": "ipython3",
   "version": "3.9.7"
  },
  "toc": {
   "base_numbering": 1,
   "nav_menu": {},
   "number_sections": true,
   "sideBar": true,
   "skip_h1_title": false,
   "title_cell": "Table of Contents",
   "title_sidebar": "Contents",
   "toc_cell": true,
   "toc_position": {
    "height": "calc(100% - 180px)",
    "left": "10px",
    "top": "150px",
    "width": "165px"
   },
   "toc_section_display": true,
   "toc_window_display": true
  },
  "varInspector": {
   "cols": {
    "lenName": 16,
    "lenType": 16,
    "lenVar": 40
   },
   "kernels_config": {
    "python": {
     "delete_cmd_postfix": "",
     "delete_cmd_prefix": "del ",
     "library": "var_list.py",
     "varRefreshCmd": "print(var_dic_list())"
    },
    "r": {
     "delete_cmd_postfix": ") ",
     "delete_cmd_prefix": "rm(",
     "library": "var_list.r",
     "varRefreshCmd": "cat(var_dic_list()) "
    }
   },
   "types_to_exclude": [
    "module",
    "function",
    "builtin_function_or_method",
    "instance",
    "_Feature"
   ],
   "window_display": false
  }
 },
 "nbformat": 4,
 "nbformat_minor": 2
}
