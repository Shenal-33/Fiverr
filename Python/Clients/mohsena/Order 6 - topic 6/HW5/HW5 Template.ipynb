{
 "cells": [
  {
   "cell_type": "markdown",
   "id": "blocked-nightmare",
   "metadata": {
    "toc": true
   },
   "source": [
    "<h1>Table of Contents<span class=\"tocSkip\"></span></h1>\n",
    "<div class=\"toc\"><ul class=\"toc-item\"><li><span><a href=\"#Names-&amp;-IDs\" data-toc-modified-id=\"Names-&amp;-IDs-1\"><span class=\"toc-item-num\">1&nbsp;&nbsp;</span>Names &amp; IDs</a></span></li><li><span><a href=\"#Problem-#-A\" data-toc-modified-id=\"Problem-#-A-2\"><span class=\"toc-item-num\">2&nbsp;&nbsp;</span>Problem # A</a></span><ul class=\"toc-item\"><li><span><a href=\"#A-1\" data-toc-modified-id=\"A-1-2.1\"><span class=\"toc-item-num\">2.1&nbsp;&nbsp;</span>A-1</a></span></li><li><span><a href=\"#A-2\" data-toc-modified-id=\"A-2-2.2\"><span class=\"toc-item-num\">2.2&nbsp;&nbsp;</span>A-2</a></span></li><li><span><a href=\"#A-3\" data-toc-modified-id=\"A-3-2.3\"><span class=\"toc-item-num\">2.3&nbsp;&nbsp;</span>A-3</a></span></li><li><span><a href=\"#A-4\" data-toc-modified-id=\"A-4-2.4\"><span class=\"toc-item-num\">2.4&nbsp;&nbsp;</span>A-4</a></span></li><li><span><a href=\"#A-5\" data-toc-modified-id=\"A-5-2.5\"><span class=\"toc-item-num\">2.5&nbsp;&nbsp;</span>A-5</a></span></li><li><span><a href=\"#A-6\" data-toc-modified-id=\"A-6-2.6\"><span class=\"toc-item-num\">2.6&nbsp;&nbsp;</span>A-6</a></span></li></ul></li><li><span><a href=\"#Problem-#-B\" data-toc-modified-id=\"Problem-#-B-3\"><span class=\"toc-item-num\">3&nbsp;&nbsp;</span>Problem # B</a></span><ul class=\"toc-item\"><li><span><a href=\"#B-1\" data-toc-modified-id=\"B-1-3.1\"><span class=\"toc-item-num\">3.1&nbsp;&nbsp;</span>B-1</a></span></li><li><span><a href=\"#B-2\" data-toc-modified-id=\"B-2-3.2\"><span class=\"toc-item-num\">3.2&nbsp;&nbsp;</span>B-2</a></span></li><li><span><a href=\"#B-3\" data-toc-modified-id=\"B-3-3.3\"><span class=\"toc-item-num\">3.3&nbsp;&nbsp;</span>B-3</a></span></li><li><span><a href=\"#B-4\" data-toc-modified-id=\"B-4-3.4\"><span class=\"toc-item-num\">3.4&nbsp;&nbsp;</span>B-4</a></span></li><li><span><a href=\"#B-5\" data-toc-modified-id=\"B-5-3.5\"><span class=\"toc-item-num\">3.5&nbsp;&nbsp;</span>B-5</a></span></li></ul></li></ul></div>"
   ]
  },
  {
   "cell_type": "markdown",
   "id": "desirable-chrome",
   "metadata": {
    "deletable": false,
    "editable": false
   },
   "source": [
    "# Names & IDs"
   ]
  },
  {
   "cell_type": "code",
   "execution_count": null,
   "id": "37035a47",
   "metadata": {},
   "outputs": [],
   "source": [
    "Group Number= ''"
   ]
  },
  {
   "cell_type": "code",
   "execution_count": null,
   "id": "f2f7adb1",
   "metadata": {},
   "outputs": [],
   "source": [
    "Name= 'First_Name  Last_Name'    ID= 202012345   "
   ]
  },
  {
   "cell_type": "markdown",
   "id": "complete-allah",
   "metadata": {},
   "source": [
    "# Problem # A"
   ]
  },
  {
   "cell_type": "markdown",
   "id": "b01842ce",
   "metadata": {},
   "source": [
    "## A-1"
   ]
  },
  {
   "cell_type": "code",
   "execution_count": 7,
   "id": "excess-reynolds",
   "metadata": {},
   "outputs": [
    {
     "data": {
      "text/plain": "     Application. ID     Age  Gender Location Parents Edu. Siblings  \\\n0          Ref#12436  23 yrs    Male  Eastern            F       No   \n1          Ref#22094  20 yrs  Female  Western          M+F       No   \n2          Ref#39403  19 yrs  Female  Central          M+F       No   \n3          Ref#43891  16 yrs    Male  Eastern          M+F      Yes   \n4          Ref#57083  19 yrs  Female  Eastern            M       No   \n...              ...     ...     ...      ...          ...      ...   \n4995       Ref#49966  20 yrs    Male  Central            M      Yes   \n4996       Ref#49975  20 yrs  Female  Eastern            F       No   \n4997       Ref#49989  17 yrs  Female  Central            F       No   \n4998       Ref#49997  20 yrs  Female  Central          M+F       No   \n4999       Ref#50007  15 yrs  Female  Central            M      Yes   \n\n      RAM-1 Score  RAM-2 Score HS Score School Rank  SOP Admission Status  \n0              54           64      30%         Avg  2.5               No  \n1              34           27      40%         Avg  1.5               No  \n2              48           38     100%        High  2.5              Yes  \n3              81           97      44%         Low  1.5              Yes  \n4              56           67      78%         Low  2.5               No  \n...           ...          ...      ...         ...  ...              ...  \n4995           25           20      80%        High  2.5              Yes  \n4996           59           70      70%         Low  1.5               No  \n4997           55           66      46%         Avg  4.5              Yes  \n4998           54           64      65%        High  3.0               No  \n4999           53           63      22%        High  2.5               No  \n\n[5000 rows x 12 columns]",
      "text/html": "<div>\n<style scoped>\n    .dataframe tbody tr th:only-of-type {\n        vertical-align: middle;\n    }\n\n    .dataframe tbody tr th {\n        vertical-align: top;\n    }\n\n    .dataframe thead th {\n        text-align: right;\n    }\n</style>\n<table border=\"1\" class=\"dataframe\">\n  <thead>\n    <tr style=\"text-align: right;\">\n      <th></th>\n      <th>Application. ID</th>\n      <th>Age</th>\n      <th>Gender</th>\n      <th>Location</th>\n      <th>Parents Edu.</th>\n      <th>Siblings</th>\n      <th>RAM-1 Score</th>\n      <th>RAM-2 Score</th>\n      <th>HS Score</th>\n      <th>School Rank</th>\n      <th>SOP</th>\n      <th>Admission Status</th>\n    </tr>\n  </thead>\n  <tbody>\n    <tr>\n      <th>0</th>\n      <td>Ref#12436</td>\n      <td>23 yrs</td>\n      <td>Male</td>\n      <td>Eastern</td>\n      <td>F</td>\n      <td>No</td>\n      <td>54</td>\n      <td>64</td>\n      <td>30%</td>\n      <td>Avg</td>\n      <td>2.5</td>\n      <td>No</td>\n    </tr>\n    <tr>\n      <th>1</th>\n      <td>Ref#22094</td>\n      <td>20 yrs</td>\n      <td>Female</td>\n      <td>Western</td>\n      <td>M+F</td>\n      <td>No</td>\n      <td>34</td>\n      <td>27</td>\n      <td>40%</td>\n      <td>Avg</td>\n      <td>1.5</td>\n      <td>No</td>\n    </tr>\n    <tr>\n      <th>2</th>\n      <td>Ref#39403</td>\n      <td>19 yrs</td>\n      <td>Female</td>\n      <td>Central</td>\n      <td>M+F</td>\n      <td>No</td>\n      <td>48</td>\n      <td>38</td>\n      <td>100%</td>\n      <td>High</td>\n      <td>2.5</td>\n      <td>Yes</td>\n    </tr>\n    <tr>\n      <th>3</th>\n      <td>Ref#43891</td>\n      <td>16 yrs</td>\n      <td>Male</td>\n      <td>Eastern</td>\n      <td>M+F</td>\n      <td>Yes</td>\n      <td>81</td>\n      <td>97</td>\n      <td>44%</td>\n      <td>Low</td>\n      <td>1.5</td>\n      <td>Yes</td>\n    </tr>\n    <tr>\n      <th>4</th>\n      <td>Ref#57083</td>\n      <td>19 yrs</td>\n      <td>Female</td>\n      <td>Eastern</td>\n      <td>M</td>\n      <td>No</td>\n      <td>56</td>\n      <td>67</td>\n      <td>78%</td>\n      <td>Low</td>\n      <td>2.5</td>\n      <td>No</td>\n    </tr>\n    <tr>\n      <th>...</th>\n      <td>...</td>\n      <td>...</td>\n      <td>...</td>\n      <td>...</td>\n      <td>...</td>\n      <td>...</td>\n      <td>...</td>\n      <td>...</td>\n      <td>...</td>\n      <td>...</td>\n      <td>...</td>\n      <td>...</td>\n    </tr>\n    <tr>\n      <th>4995</th>\n      <td>Ref#49966</td>\n      <td>20 yrs</td>\n      <td>Male</td>\n      <td>Central</td>\n      <td>M</td>\n      <td>Yes</td>\n      <td>25</td>\n      <td>20</td>\n      <td>80%</td>\n      <td>High</td>\n      <td>2.5</td>\n      <td>Yes</td>\n    </tr>\n    <tr>\n      <th>4996</th>\n      <td>Ref#49975</td>\n      <td>20 yrs</td>\n      <td>Female</td>\n      <td>Eastern</td>\n      <td>F</td>\n      <td>No</td>\n      <td>59</td>\n      <td>70</td>\n      <td>70%</td>\n      <td>Low</td>\n      <td>1.5</td>\n      <td>No</td>\n    </tr>\n    <tr>\n      <th>4997</th>\n      <td>Ref#49989</td>\n      <td>17 yrs</td>\n      <td>Female</td>\n      <td>Central</td>\n      <td>F</td>\n      <td>No</td>\n      <td>55</td>\n      <td>66</td>\n      <td>46%</td>\n      <td>Avg</td>\n      <td>4.5</td>\n      <td>Yes</td>\n    </tr>\n    <tr>\n      <th>4998</th>\n      <td>Ref#49997</td>\n      <td>20 yrs</td>\n      <td>Female</td>\n      <td>Central</td>\n      <td>M+F</td>\n      <td>No</td>\n      <td>54</td>\n      <td>64</td>\n      <td>65%</td>\n      <td>High</td>\n      <td>3.0</td>\n      <td>No</td>\n    </tr>\n    <tr>\n      <th>4999</th>\n      <td>Ref#50007</td>\n      <td>15 yrs</td>\n      <td>Female</td>\n      <td>Central</td>\n      <td>M</td>\n      <td>Yes</td>\n      <td>53</td>\n      <td>63</td>\n      <td>22%</td>\n      <td>High</td>\n      <td>2.5</td>\n      <td>No</td>\n    </tr>\n  </tbody>\n</table>\n<p>5000 rows × 12 columns</p>\n</div>"
     },
     "metadata": {},
     "output_type": "display_data"
    },
    {
     "name": "stdout",
     "output_type": "stream",
     "text": [
      "Number of rows   : 5000\n",
      "Number of Columns: 12\n"
     ]
    },
    {
     "data": {
      "text/plain": "       Application. ID     Age  Gender Location Parents Edu. Siblings  \\\ncount             5000    5000    5000     5000         5000     5000   \nunique            4952       9       2        3            3        2   \ntop          Ref#33194  16 yrs  Female  Central          M+F       No   \nfreq                 2     596    2508     1688         1695     2548   \n\n       HS Score School Rank Admission Status  \ncount      5000        5000             5000  \nunique       91           3                2  \ntop         40%         Avg              Yes  \nfreq         72        1672             3378  ",
      "text/html": "<div>\n<style scoped>\n    .dataframe tbody tr th:only-of-type {\n        vertical-align: middle;\n    }\n\n    .dataframe tbody tr th {\n        vertical-align: top;\n    }\n\n    .dataframe thead th {\n        text-align: right;\n    }\n</style>\n<table border=\"1\" class=\"dataframe\">\n  <thead>\n    <tr style=\"text-align: right;\">\n      <th></th>\n      <th>Application. ID</th>\n      <th>Age</th>\n      <th>Gender</th>\n      <th>Location</th>\n      <th>Parents Edu.</th>\n      <th>Siblings</th>\n      <th>HS Score</th>\n      <th>School Rank</th>\n      <th>Admission Status</th>\n    </tr>\n  </thead>\n  <tbody>\n    <tr>\n      <th>count</th>\n      <td>5000</td>\n      <td>5000</td>\n      <td>5000</td>\n      <td>5000</td>\n      <td>5000</td>\n      <td>5000</td>\n      <td>5000</td>\n      <td>5000</td>\n      <td>5000</td>\n    </tr>\n    <tr>\n      <th>unique</th>\n      <td>4952</td>\n      <td>9</td>\n      <td>2</td>\n      <td>3</td>\n      <td>3</td>\n      <td>2</td>\n      <td>91</td>\n      <td>3</td>\n      <td>2</td>\n    </tr>\n    <tr>\n      <th>top</th>\n      <td>Ref#33194</td>\n      <td>16 yrs</td>\n      <td>Female</td>\n      <td>Central</td>\n      <td>M+F</td>\n      <td>No</td>\n      <td>40%</td>\n      <td>Avg</td>\n      <td>Yes</td>\n    </tr>\n    <tr>\n      <th>freq</th>\n      <td>2</td>\n      <td>596</td>\n      <td>2508</td>\n      <td>1688</td>\n      <td>1695</td>\n      <td>2548</td>\n      <td>72</td>\n      <td>1672</td>\n      <td>3378</td>\n    </tr>\n  </tbody>\n</table>\n</div>"
     },
     "metadata": {},
     "output_type": "display_data"
    },
    {
     "data": {
      "text/plain": "       RAM-1 Score  RAM-2 Score          SOP\ncount  5000.000000  5000.000000  5000.000000\nmean     55.100000    58.611200     2.889600\nstd      26.220608    33.471321     1.128435\nmin      10.000000     8.000000     1.000000\n25%      33.000000    26.000000     2.000000\n50%      55.000000    66.000000     3.000000\n75%      78.000000    93.000000     4.000000\nmax     100.000000   100.000000     5.000000",
      "text/html": "<div>\n<style scoped>\n    .dataframe tbody tr th:only-of-type {\n        vertical-align: middle;\n    }\n\n    .dataframe tbody tr th {\n        vertical-align: top;\n    }\n\n    .dataframe thead th {\n        text-align: right;\n    }\n</style>\n<table border=\"1\" class=\"dataframe\">\n  <thead>\n    <tr style=\"text-align: right;\">\n      <th></th>\n      <th>RAM-1 Score</th>\n      <th>RAM-2 Score</th>\n      <th>SOP</th>\n    </tr>\n  </thead>\n  <tbody>\n    <tr>\n      <th>count</th>\n      <td>5000.000000</td>\n      <td>5000.000000</td>\n      <td>5000.000000</td>\n    </tr>\n    <tr>\n      <th>mean</th>\n      <td>55.100000</td>\n      <td>58.611200</td>\n      <td>2.889600</td>\n    </tr>\n    <tr>\n      <th>std</th>\n      <td>26.220608</td>\n      <td>33.471321</td>\n      <td>1.128435</td>\n    </tr>\n    <tr>\n      <th>min</th>\n      <td>10.000000</td>\n      <td>8.000000</td>\n      <td>1.000000</td>\n    </tr>\n    <tr>\n      <th>25%</th>\n      <td>33.000000</td>\n      <td>26.000000</td>\n      <td>2.000000</td>\n    </tr>\n    <tr>\n      <th>50%</th>\n      <td>55.000000</td>\n      <td>66.000000</td>\n      <td>3.000000</td>\n    </tr>\n    <tr>\n      <th>75%</th>\n      <td>78.000000</td>\n      <td>93.000000</td>\n      <td>4.000000</td>\n    </tr>\n    <tr>\n      <th>max</th>\n      <td>100.000000</td>\n      <td>100.000000</td>\n      <td>5.000000</td>\n    </tr>\n  </tbody>\n</table>\n</div>"
     },
     "metadata": {},
     "output_type": "display_data"
    }
   ],
   "source": [
    "#Answer for A-1\n",
    "import pandas as pd\n",
    "df = pd.read_csv('HW5Data1.csv',delimiter=',')\n",
    "display(df)\n",
    "\n",
    "rows,cols = df.shape\n",
    "print(f\"Number of rows   : {rows}\")\n",
    "print(f\"Number of Columns: {cols}\")\n",
    "\n",
    "display(df.describe(include='object'))\n",
    "display(df.describe(exclude='object'))"
   ]
  },
  {
   "cell_type": "markdown",
   "id": "f4bc4200",
   "metadata": {},
   "source": [
    "## A-2"
   ]
  },
  {
   "cell_type": "code",
   "execution_count": 9,
   "id": "suited-thursday",
   "metadata": {},
   "outputs": [
    {
     "name": "stdout",
     "output_type": "stream",
     "text": [
      "<class 'pandas.core.frame.DataFrame'>\n",
      "RangeIndex: 5000 entries, 0 to 4999\n",
      "Data columns (total 12 columns):\n",
      " #   Column            Non-Null Count  Dtype  \n",
      "---  ------            --------------  -----  \n",
      " 0   Application. ID   5000 non-null   object \n",
      " 1   Age               5000 non-null   object \n",
      " 2   Gender            5000 non-null   object \n",
      " 3   Location          5000 non-null   object \n",
      " 4   Parents Edu.      5000 non-null   object \n",
      " 5   Siblings          5000 non-null   object \n",
      " 6   RAM-1 Score       5000 non-null   int64  \n",
      " 7   RAM-2 Score       5000 non-null   int64  \n",
      " 8   HS Score          5000 non-null   object \n",
      " 9   School Rank       5000 non-null   object \n",
      " 10  SOP               5000 non-null   float64\n",
      " 11  Admission Status  5000 non-null   object \n",
      "dtypes: float64(1), int64(2), object(9)\n",
      "memory usage: 468.9+ KB\n"
     ]
    }
   ],
   "source": [
    "#Answer for A-2\n",
    "df.info()"
   ]
  },
  {
   "cell_type": "markdown",
   "id": "feb3615a",
   "metadata": {},
   "source": [
    "## A-3"
   ]
  },
  {
   "cell_type": "code",
   "execution_count": null,
   "id": "organic-demand",
   "metadata": {},
   "outputs": [],
   "source": [
    "#Answer for A-3"
   ]
  },
  {
   "cell_type": "markdown",
   "id": "5178cb9f",
   "metadata": {},
   "source": [
    "## A-4"
   ]
  },
  {
   "cell_type": "code",
   "execution_count": null,
   "id": "beginning-provincial",
   "metadata": {},
   "outputs": [],
   "source": [
    "#Answer for A-4"
   ]
  },
  {
   "cell_type": "markdown",
   "id": "e116f306",
   "metadata": {},
   "source": [
    "## A-5"
   ]
  },
  {
   "cell_type": "code",
   "execution_count": null,
   "id": "reasonable-protection",
   "metadata": {},
   "outputs": [],
   "source": [
    "#Answer for A-5"
   ]
  },
  {
   "cell_type": "markdown",
   "id": "cb8a1683",
   "metadata": {},
   "source": [
    "## A-6"
   ]
  },
  {
   "cell_type": "code",
   "execution_count": null,
   "id": "grand-finger",
   "metadata": {},
   "outputs": [],
   "source": [
    "#Answer for A-6"
   ]
  },
  {
   "cell_type": "markdown",
   "id": "dominant-complement",
   "metadata": {},
   "source": [
    "# Problem # B"
   ]
  },
  {
   "cell_type": "markdown",
   "id": "20eadee9",
   "metadata": {},
   "source": [
    "## B-1"
   ]
  },
  {
   "cell_type": "code",
   "execution_count": null,
   "id": "herbal-faculty",
   "metadata": {},
   "outputs": [],
   "source": [
    "#Answer for B-1"
   ]
  },
  {
   "cell_type": "markdown",
   "id": "792a9da7",
   "metadata": {},
   "source": [
    "## B-2"
   ]
  },
  {
   "cell_type": "code",
   "execution_count": null,
   "id": "standard-hollow",
   "metadata": {},
   "outputs": [],
   "source": [
    "#Answer for B-2"
   ]
  },
  {
   "cell_type": "markdown",
   "id": "280f238b",
   "metadata": {},
   "source": [
    "## B-3"
   ]
  },
  {
   "cell_type": "code",
   "execution_count": null,
   "id": "tough-wrestling",
   "metadata": {},
   "outputs": [],
   "source": [
    "#Answer for B-3"
   ]
  },
  {
   "cell_type": "markdown",
   "id": "73e6ccfb",
   "metadata": {},
   "source": [
    "## B-4"
   ]
  },
  {
   "cell_type": "code",
   "execution_count": null,
   "id": "directed-microwave",
   "metadata": {},
   "outputs": [],
   "source": [
    "#Answer for B-4"
   ]
  },
  {
   "cell_type": "markdown",
   "id": "f948f3cc",
   "metadata": {},
   "source": [
    "## B-5"
   ]
  },
  {
   "cell_type": "code",
   "execution_count": null,
   "id": "forbidden-armor",
   "metadata": {},
   "outputs": [],
   "source": [
    "#Answer for B-5"
   ]
  }
 ],
 "metadata": {
  "hide_input": false,
  "kernelspec": {
   "display_name": "Python 3 (ipykernel)",
   "language": "python",
   "name": "python3"
  },
  "language_info": {
   "codemirror_mode": {
    "name": "ipython",
    "version": 3
   },
   "file_extension": ".py",
   "mimetype": "text/x-python",
   "name": "python",
   "nbconvert_exporter": "python",
   "pygments_lexer": "ipython3",
   "version": "3.9.7"
  },
  "toc": {
   "base_numbering": 1,
   "nav_menu": {},
   "number_sections": true,
   "sideBar": true,
   "skip_h1_title": false,
   "title_cell": "Table of Contents",
   "title_sidebar": "Contents",
   "toc_cell": true,
   "toc_position": {},
   "toc_section_display": true,
   "toc_window_display": false
  },
  "varInspector": {
   "cols": {
    "lenName": 16,
    "lenType": 16,
    "lenVar": 40
   },
   "kernels_config": {
    "python": {
     "delete_cmd_postfix": "",
     "delete_cmd_prefix": "del ",
     "library": "var_list.py",
     "varRefreshCmd": "print(var_dic_list())"
    },
    "r": {
     "delete_cmd_postfix": ") ",
     "delete_cmd_prefix": "rm(",
     "library": "var_list.r",
     "varRefreshCmd": "cat(var_dic_list()) "
    }
   },
   "types_to_exclude": [
    "module",
    "function",
    "builtin_function_or_method",
    "instance",
    "_Feature"
   ],
   "window_display": false
  }
 },
 "nbformat": 4,
 "nbformat_minor": 5
}