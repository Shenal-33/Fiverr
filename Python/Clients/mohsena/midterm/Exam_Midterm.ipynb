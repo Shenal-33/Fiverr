{
 "cells": [
  {
   "cell_type": "markdown",
   "metadata": {
    "toc": true
   },
   "source": [
    "<h1>Table of Contents<span class=\"tocSkip\"></span></h1>\n",
    "<div class=\"toc\"><ul class=\"toc-item\"><li><span><a href=\"#Midterm-Exam\" data-toc-modified-id=\"Midterm-Exam-1\"><span class=\"toc-item-num\">1&nbsp;&nbsp;</span>Midterm Exam</a></span><ul class=\"toc-item\"><li><span><a href=\"#Instructions:\" data-toc-modified-id=\"Instructions:-1.1\"><span class=\"toc-item-num\">1.1&nbsp;&nbsp;</span>Instructions:</a></span></li><li><span><a href=\"#Integrity-Declaration:\" data-toc-modified-id=\"Integrity-Declaration:-1.2\"><span class=\"toc-item-num\">1.2&nbsp;&nbsp;</span>Integrity Declaration:</a></span></li><li><span><a href=\"#Problem-A--(17-marks)\" data-toc-modified-id=\"Problem-A--(17-marks)-1.3\"><span class=\"toc-item-num\">1.3&nbsp;&nbsp;</span>Problem-A  (17 marks)</a></span></li><li><span><a href=\"#Problem-B-(16-marks)\" data-toc-modified-id=\"Problem-B-(16-marks)-1.4\"><span class=\"toc-item-num\">1.4&nbsp;&nbsp;</span>Problem-B (16 marks)</a></span></li><li><span><a href=\"#Problem-C-(17-marks)\" data-toc-modified-id=\"Problem-C-(17-marks)-1.5\"><span class=\"toc-item-num\">1.5&nbsp;&nbsp;</span>Problem-C (17 marks)</a></span></li><li><span><a href=\"#Scratch-/-Rough-cells:\" data-toc-modified-id=\"Scratch-/-Rough-cells:-1.6\"><span class=\"toc-item-num\">1.6&nbsp;&nbsp;</span>Scratch / Rough cells:</a></span></li></ul></li></ul></div>"
   ]
  },
  {
   "cell_type": "markdown",
   "metadata": {},
   "source": [
    "# Midterm Exam"
   ]
  },
  {
   "cell_type": "markdown",
   "metadata": {},
   "source": [
    "Name:=     Mohammed Ali Alsahli"
   ]
  },
  {
   "cell_type": "markdown",
   "metadata": {},
   "source": [
    "ID:= 201934450"
   ]
  },
  {
   "cell_type": "markdown",
   "metadata": {
    "deletable": false,
    "editable": false
   },
   "source": [
    "## Instructions:  \n",
    "    "
   ]
  },
  {
   "cell_type": "markdown",
   "metadata": {},
   "source": [
    "    1. Answer all the questions.  \n",
    "    2. Every question is to be solved/answered in the corresponding cell.  \n",
    "    3. Do not add any extra cell.  \n",
    "    4. If you assume anything, mention it clearly in the cell, using comments.  \n",
    "    5. Execute the cells containing the codes.  \n",
    "    6. Write the text as comments in the cells.  \n",
    "    7. The last cell can be used as scratch or rough cell. Its content will not be graded.  \n",
    "    8. The exam is open notes. You are allowed to look/refer to the material in the Blackboard common section.     \n",
    "    9. You are NOT allowed to communicate with the other students.  \n",
    "    10. Submit entire solution of this set as ONE single \".ipynb\" document on the blackboard submission.  \n",
    "    11. Do not rename the \".ipynb\" file during submission.  \n",
    "    12. All the answer cells should be executed. An unexecuted answer cell will not be graded.  \n",
    "    13. You have 100 minutes to solve and 5 minutes to upload this notebook.  "
   ]
  },
  {
   "cell_type": "markdown",
   "metadata": {
    "deletable": false,
    "editable": false
   },
   "source": [
    "## Integrity Declaration:  \n",
    "    "
   ]
  },
  {
   "cell_type": "markdown",
   "metadata": {
    "deletable": false,
    "editable": false
   },
   "source": [
    "    1. I will complete this assessment entirely by myself without taking any assistance whatsoever from a person, \n",
    "    resource or tool other than what is explicitly permitted within the regulations prescribed for this assessment.  \n",
    "    2. I will not disclose, share or discuss the material of this assessment in any form with anyone except what \n",
    "    has been authorized.  \n",
    "    3. I will uphold the highest standards of honesty and integrity for completing this assessment to the best of \n",
    "    my knowledge.  \n",
    "    4. I am fully accountable for all rules pertaining to this assessment.  \n",
    "    5. I understand that ignorance of a rule or a principle is not an excuse for any misconduct.  \n",
    "    6. I understand that engaging in an act of a misconduct would result in imposition of penalties such as \n",
    "    failing this course and/or a dismissal from the University.  \n",
    "  \n",
    "*By proceeding forward, you agree to the* **Integrity Declaration**."
   ]
  },
  {
   "cell_type": "markdown",
   "metadata": {
    "deletable": false,
    "editable": false
   },
   "source": [
    "## Problem-A  (17 marks)\n",
    "\n",
    "Answer all the following questions:"
   ]
  },
  {
   "cell_type": "markdown",
   "metadata": {
    "deletable": false,
    "editable": false
   },
   "source": [
    "**A1. [4 marks]** Answer all the following questions. Do NOT use Numpy library. \n",
    "1. **[1m]** <font color=\"red\">Create and print</font> a list of numbers from 1 to 9 (inclusive) using list comprehension.  \n",
    "        The output should be like this: [1,2,3,4,...]\n",
    "2. **[2m]** <font color=\"red\">Create and print</font> the following list using given List1 and the list comprehension. \n",
    "        The output should be like this: [(1,1),(2,4),(3,9),(4,16),...,(9,81)]\n",
    "3. **[1m]** <font color=\"red\">Create and print</font> the following list using given List2 and the list comprehension.   \n",
    "        The output should be like this: [1,1,2,4,3,9,4,16,...,9,81]\n",
    "Note: ***Execute the following cell*** before proceeding towards answering the above questions."
   ]
  },
  {
   "cell_type": "code",
   "execution_count": 2,
   "metadata": {
    "deletable": false,
    "editable": false
   },
   "outputs": [],
   "source": [
    "# Execute this cell to use List1 and List2\n",
    "List1=[1, 2, 3, 4, 5, 6, 7, 8, 9]\n",
    "List2=[(1, 1), (2, 4), (3, 9), (4, 16), (5, 25), (6, 36), (7, 49), (8, 64), (9, 81)]"
   ]
  },
  {
   "cell_type": "code",
   "execution_count": 3,
   "metadata": {},
   "outputs": [
    {
     "name": "stdout",
     "output_type": "stream",
     "text": [
      "[1, 2, 3, 4, 5, 6, 7, 8, 9]\n"
     ]
    }
   ],
   "source": [
    "#Answer for A1.1\n",
    "al1 = [i for i in range(1, 9+1)]\n",
    "print(al1)"
   ]
  },
  {
   "cell_type": "code",
   "execution_count": 4,
   "metadata": {},
   "outputs": [
    {
     "name": "stdout",
     "output_type": "stream",
     "text": [
      "[(1, 1), (2, 4), (3, 9), (4, 16), (5, 25), (6, 36), (7, 49), (8, 64), (9, 81)]\n"
     ]
    }
   ],
   "source": [
    "#Answer for A1.2\n",
    "al2 = [(i, i**2) for i in List1]\n",
    "print(al2)"
   ]
  },
  {
   "cell_type": "code",
   "execution_count": 5,
   "metadata": {},
   "outputs": [
    {
     "name": "stdout",
     "output_type": "stream",
     "text": [
      "[1, 1, 2, 4, 3, 9, 4, 16, 5, 25, 6, 36, 7, 49, 8, 64, 9, 81]\n"
     ]
    }
   ],
   "source": [
    "#Answer for A1.3\n",
    "al3 = [i[j] for i in List2 for j in [0, 1]]\n",
    "print(al3)"
   ]
  },
  {
   "cell_type": "markdown",
   "metadata": {
    "deletable": false,
    "editable": false
   },
   "source": [
    "**A2. [3 marks]** Answer all the following questions. Do NOT use Numpy library.  \n",
    "\n",
    "Consider the scoring method for a customer satisfaction survey:  ***Excellent=5 , Very Good=4, Good=3, Poor=2, Very Poor=1***.\n",
    "1. **[1m]** <font color=\"red\">Create </font> a dictionary that links the above survey text to the corresponding score. Call the dictionary as **reference**. The key should be the text, and the value should be the corresponding score.  \n",
    "<br>\n",
    "2. **[2m]** Using the above dictionary (**reference**), <font color=\"red\">create and print</font> a new list of scores for the following survey responses: ['Good', 'Excellent', 'Very Good', 'Very Poor', 'Excellent', 'Poor', 'Very Poor', 'Poor', 'Poor', 'Good']. Call the new list as __survey_scores__. Do not use **for** loop."
   ]
  },
  {
   "cell_type": "code",
   "execution_count": 6,
   "metadata": {},
   "outputs": [],
   "source": [
    "#Answer for A2.1\n",
    "text = ['Excellent', 'Very Good', 'Good', 'Poor', 'Very Poor']\n",
    "val = [5,4,3,2,1]\n",
    "reference = {i: j for i,j in zip(text, val)}"
   ]
  },
  {
   "cell_type": "code",
   "execution_count": 7,
   "metadata": {},
   "outputs": [
    {
     "name": "stdout",
     "output_type": "stream",
     "text": [
      "[3, 5, 4, 1, 5, 2, 1, 2, 2, 3]\n"
     ]
    }
   ],
   "source": [
    "#Answer for A2.2\n",
    "survey_responses=['Good', 'Excellent', 'Very Good', 'Very Poor', 'Excellent', 'Poor', 'Very Poor', 'Poor', 'Poor', 'Good']\n",
    "survey_scores = list(map(lambda x: reference[x] ,survey_responses))\n",
    "print(survey_scores)"
   ]
  },
  {
   "cell_type": "markdown",
   "metadata": {
    "deletable": false,
    "editable": false
   },
   "source": [
    "**A3. [5 marks]** Do the following:  \n",
    "  1. [1m] <font color=\"red\">Create</font> a random integer array, with the name X, of size 6x5, where the integer values range from 10 to 30 (inclusive). Set the random generator seed to be 1.\n",
    "  2. [1m] <font color=\"red\">Print</font> all the columns of X with the even indices (consider 0 as even)\n",
    "  3. [1m] <font color=\"red\">Print</font> all the rows of X with the odd indices\n",
    "  4. [2m] Use masking, and <font color=\"red\">Print</font> all the elements of X that are divisible by 5."
   ]
  },
  {
   "cell_type": "code",
   "execution_count": 8,
   "metadata": {},
   "outputs": [],
   "source": [
    "#Answer for A3.1\n",
    "import numpy as np\n",
    "np.random.seed(1)\n",
    "X = np.random.randint(10,30+1,size=(6,5))"
   ]
  },
  {
   "cell_type": "code",
   "execution_count": 32,
   "metadata": {},
   "outputs": [
    {
     "name": "stdout",
     "output_type": "stream",
     "text": [
      "[[15 22 19]\n",
      " [21 25 26]\n",
      " [11 17 16]\n",
      " [28 15 30]\n",
      " [21 24 14]\n",
      " [19 10 19]]\n"
     ]
    }
   ],
   "source": [
    "#Answer for A3.2\n",
    "#print(X[:,[i for i in range(X.shape[1]) if i%2 == 0]])\n",
    "print(X[:,::2])"
   ]
  },
  {
   "cell_type": "code",
   "execution_count": 1,
   "metadata": {},
   "outputs": [
    {
     "ename": "NameError",
     "evalue": "name 'X' is not defined",
     "output_type": "error",
     "traceback": [
      "\u001b[1;31m---------------------------------------------------------------------------\u001b[0m",
      "\u001b[1;31mNameError\u001b[0m                                 Traceback (most recent call last)",
      "\u001b[1;32m<ipython-input-1-e01d72068a53>\u001b[0m in \u001b[0;36m<module>\u001b[1;34m\u001b[0m\n\u001b[0;32m      1\u001b[0m \u001b[1;31m#Answer for A3.3\u001b[0m\u001b[1;33m\u001b[0m\u001b[1;33m\u001b[0m\u001b[1;33m\u001b[0m\u001b[0m\n\u001b[1;32m----> 2\u001b[1;33m \u001b[0mprint\u001b[0m\u001b[1;33m(\u001b[0m\u001b[0mX\u001b[0m\u001b[1;33m[\u001b[0m\u001b[1;33m[\u001b[0m\u001b[0mi\u001b[0m \u001b[1;32mfor\u001b[0m \u001b[0mi\u001b[0m \u001b[1;32min\u001b[0m \u001b[0mrange\u001b[0m\u001b[1;33m(\u001b[0m\u001b[0mX\u001b[0m\u001b[1;33m.\u001b[0m\u001b[0mshape\u001b[0m\u001b[1;33m[\u001b[0m\u001b[1;36m0\u001b[0m\u001b[1;33m]\u001b[0m\u001b[1;33m)\u001b[0m \u001b[1;32mif\u001b[0m \u001b[0mi\u001b[0m\u001b[1;33m%\u001b[0m\u001b[1;36m2\u001b[0m \u001b[1;33m!=\u001b[0m \u001b[1;36m0\u001b[0m\u001b[1;33m]\u001b[0m\u001b[1;33m]\u001b[0m\u001b[1;33m)\u001b[0m\u001b[1;33m\u001b[0m\u001b[1;33m\u001b[0m\u001b[0m\n\u001b[0m\u001b[0;32m      3\u001b[0m \u001b[1;31m#print(X[::2])\u001b[0m\u001b[1;33m\u001b[0m\u001b[1;33m\u001b[0m\u001b[1;33m\u001b[0m\u001b[0m\n",
      "\u001b[1;31mNameError\u001b[0m: name 'X' is not defined"
     ]
    }
   ],
   "source": [
    "#Answer for A3.3\n",
    "print(X[[i for i in range(X.shape[0]) if i%2 != 0]])\n",
    "#print(X[::2])"
   ]
  },
  {
   "cell_type": "code",
   "execution_count": 11,
   "metadata": {},
   "outputs": [
    {
     "name": "stdout",
     "output_type": "stream",
     "text": [
      "[15 15 25 10 30 15 30 20 10]\n"
     ]
    }
   ],
   "source": [
    "#Answer for A3.4\n",
    "print(X[X%5==0])"
   ]
  },
  {
   "cell_type": "markdown",
   "metadata": {
    "deletable": false,
    "editable": false
   },
   "source": [
    "**A4. [5 marks]** Consider the following text from a famous story:\n",
    "\n",
    "\"the old lady pulled her spectacles down and looked over them about the room; then she put them up and looked out under them. she seldom or never looked THROUGH them for so small a thing as a boy; they were her state pair, the pride of her heart, and were built for style, not service she could have seen THROUGH a pair of stove-lids just as well. she looked perplexed for a moment, and then said, not fiercely, but still loud enough for the furniture to hear.\"\n",
    "<br> \n",
    "\n",
    "<strong>Do the following:</strong>\n",
    "\n",
    "1. [3m] Remove the semicolon ( __;__ ) comma ( __,__ ) from the above text. Do NOT remove the white spaces. Convert \"THROUGH\" word in the above text into lowercase. <font color=\"red\">Save</font> the text as **String1**.\n",
    "2. [1m] <font color=\"red\">Create</font> a list of words from **String1** obtained after Part-1 tasks. Call the list as **list_of_words**  \n",
    "<br/>\n",
    "3. [1m] <font color=\"red\">Create and print </font>a single string by joining the words in __list_of_words__ separated by |. \n",
    "        The final result should look like: \"the|old|lady ... |furniture|to|hear.\" "
   ]
  },
  {
   "cell_type": "code",
   "execution_count": 12,
   "metadata": {},
   "outputs": [],
   "source": [
    "#Answer for A4.1\n",
    "s = \"the old lady pulled her spectacles down and looked over them about the room; then she put them up and looked out under them. she seldom or never looked THROUGH them for so small a thing as a boy; they were her state pair, the pride of her heart, and were built for style, not service she could have seen THROUGH a pair of stove-lids just as well. she looked perplexed for a moment, and then said, not fiercely, but still loud enough for the furniture to hear.\"\n",
    "String1 = s.replace(\";\",\"\").replace(\",\",\"\").replace(\"THROUGH\", \"through\")"
   ]
  },
  {
   "cell_type": "code",
   "execution_count": 13,
   "metadata": {},
   "outputs": [],
   "source": [
    "#Answer for A4.2\n",
    "list_of_words = String1.split()"
   ]
  },
  {
   "cell_type": "code",
   "execution_count": 14,
   "metadata": {},
   "outputs": [
    {
     "name": "stdout",
     "output_type": "stream",
     "text": [
      "the|old|lady|pulled|her|spectacles|down|and|looked|over|them|about|the|room|then|she|put|them|up|and|looked|out|under|them.|she|seldom|or|never|looked|through|them|for|so|small|a|thing|as|a|boy|they|were|her|state|pair|the|pride|of|her|heart|and|were|built|for|style|not|service|she|could|have|seen|through|a|pair|of|stove-lids|just|as|well.|she|looked|perplexed|for|a|moment|and|then|said|not|fiercely|but|still|loud|enough|for|the|furniture|to|hear.\n"
     ]
    }
   ],
   "source": [
    "#Answer for A4.3\n",
    "String2 = \"|\".join(list_of_words)\n",
    "print(String2)"
   ]
  },
  {
   "cell_type": "markdown",
   "metadata": {
    "deletable": false,
    "editable": false
   },
   "source": [
    "## Problem-B (16 marks)\n",
    "\n",
    "Consider the following data from traffic and safety department. The columns **City_1, City_2** and **City_3** shows number of accidents reported per week for each city. The column **Total_Death_Cases** displays total deaths caused in the accidents from all the three cities in every week. The column **Main_Cause** displays the most common reason for the death cases in every week. \n",
    " <img src=\"pB.png\" width=450 height=450/>"
   ]
  },
  {
   "cell_type": "code",
   "execution_count": 15,
   "metadata": {},
   "outputs": [],
   "source": [
    "## This is the above data in python list format. Execute this cell in-order to use the following lists/data\n",
    "City_1=[215, 88, 185, 226, 195, 176, 241 ,205, 224, 183, 192, 391, 116, 225, 168, 188, 204 ,191 ,213 ,243]\n",
    "City_2=[201, 197, 234, 196, 236, 463, 433, 178, 230, 247, 103, 214, 333, 257, 246, 297, 171, 198, 288, 263] \n",
    "City_3=[371, 215, 247, 200, 76, 249, 197, 236, 177, 126, 210, 263, 111, 213, 195, 236, 270, 206, 193, 241]\n",
    "Total_Death_Cases=[14, 7, 16, 12, 6, 21, 11, 7, 17, 10, 5, 20, 11, 21, 7, 7, 11, 9, 9, 8]\n",
    "Main_Cause= ['Over-Speeding','Rash Driving','Over-Speeding','Violation of Rules','Over-Speeding','Rash Driving', \n",
    "'Over-Speeding', 'Violation of Rules','Rash Driving','Over-Speeding','Rash Driving','Over-Speeding','Violation of Rules',\n",
    "'Over-Speeding','Over-Speeding','Rash Driving','Over-Speeding','Violation of Rules','Rash Driving','Over-Speeding']"
   ]
  },
  {
   "cell_type": "markdown",
   "metadata": {
    "deletable": false,
    "editable": false
   },
   "source": [
    "**B1. [3 Marks]** <font color=\"red\">Check</font> if **Total_Death_Cases** follows normal distribution using hypothesis testing. <font color=\"red\">Write</font> the the null hypothesis. "
   ]
  },
  {
   "cell_type": "code",
   "execution_count": 16,
   "metadata": {},
   "outputs": [
    {
     "name": "stdout",
     "output_type": "stream",
     "text": [
      "We reject null hypothesis for Total_Death_Cases\n"
     ]
    }
   ],
   "source": [
    "#Answer for B1.\n",
    "# Null hypothesis: the sample has a normal distribution.\n",
    "from scipy.stats import shapiro\n",
    "\n",
    "_, pval = shapiro(Total_Death_Cases)\n",
    "\n",
    "if pval <0.05:\n",
    "  print(\"We reject null hypothesis for Total_Death_Cases\")\n",
    "else:\n",
    "  print(\"We fail to reject null hypothesis for Total_Death_Cases\")\n",
    "\n",
    "# This means that the sample doesn't follow normal distribution"
   ]
  },
  {
   "cell_type": "markdown",
   "metadata": {
    "deletable": false,
    "editable": false
   },
   "source": [
    "**B2. [2 Marks]** <font color=\"red\">Draw</font> the pie chart of column **Main_Cause**, indicate the percentage of each category on the plot with one digit after the decimal, e.g: \"12.5%\" "
   ]
  },
  {
   "cell_type": "code",
   "execution_count": 17,
   "metadata": {},
   "outputs": [
    {
     "data": {
      "image/png": "[encoded data removed]",
      "text/plain": [
       "<Figure size 432x288 with 1 Axes>"
      ]
     },
     "metadata": {},
     "output_type": "display_data"
    }
   ],
   "source": [
    "#Answer for B2.\n",
    "import numpy as np\n",
    "subj_arr = np.array(Main_Cause)\n",
    "subj_labels, subj_counts = np.unique(Main_Cause,return_counts=True)\n",
    "\n",
    "import matplotlib.pyplot as plt\n",
    "plt.figure()\n",
    "plt.pie(subj_counts, labels = subj_labels,autopct='%.1f%%') #autopct to format labels\n",
    "plt.show()"
   ]
  },
  {
   "cell_type": "markdown",
   "metadata": {
    "deletable": false,
    "editable": false
   },
   "source": [
    "**B3. [3 Marks]** <font color=\"red\">Calculate and print</font> the mode, Interquartile Range and population standard deviation of the **Total_Death_Cases**.   "
   ]
  },
  {
   "cell_type": "code",
   "execution_count": 18,
   "metadata": {},
   "outputs": [
    {
     "name": "stdout",
     "output_type": "stream",
     "text": [
      "For Total_Death_Cases: \n",
      "The mode is [7].\n",
      "The interquartile range is 7.5\n",
      "The population standard deviation is 4.954543369474123.\n"
     ]
    }
   ],
   "source": [
    "#Answer for B3.\n",
    "from scipy import stats \n",
    "s = np.array(Total_Death_Cases)\n",
    "\n",
    "Q3, Q1 = np.percentile(s, [75 ,25])\n",
    "\n",
    "IQR = Q3 - Q1\n",
    "\n",
    "print(f'For Total_Death_Cases: ')\n",
    "print(f'The mode is {stats.mode(s)[0]}.')\n",
    "print(f'The interquartile range is {IQR}')\n",
    "print(f'The population standard deviation is {np.std(s,ddof=0)}.')"
   ]
  },
  {
   "cell_type": "markdown",
   "metadata": {
    "deletable": false,
    "editable": false
   },
   "source": [
    "**B4. [3 Marks]** <font color=\"red\">Draw</font> the histogram for **Total_Death_Cases** using 6 bins. Add the title to the histogram \"Weekly Death Cases\"."
   ]
  },
  {
   "cell_type": "code",
   "execution_count": 19,
   "metadata": {
    "scrolled": true
   },
   "outputs": [
    {
     "data": {
      "image/png": "[encoded data removed]",
      "text/plain": [
       "<Figure size 432x288 with 1 Axes>"
      ]
     },
     "metadata": {
      "needs_background": "light"
     },
     "output_type": "display_data"
    }
   ],
   "source": [
    "#Answer for B4.\n",
    "plt.figure()\n",
    "plt.hist(x=Total_Death_Cases,bins=6);\n",
    "plt.title(\"Weekly Death Cases\")\n",
    "plt.show()"
   ]
  },
  {
   "cell_type": "markdown",
   "metadata": {
    "deletable": false,
    "editable": false
   },
   "source": [
    "**B5. [5 Marks]** Using appropriate <font color=\"red\">plot or graph</font> check which of the following columns have an outlier: **City_1**, **City_2** and **City_3**. Draw the plots in one figure. Based on the plots, <font color=\"red\">print</font> the names of all the columns that contain one or more outliers."
   ]
  },
  {
   "cell_type": "code",
   "execution_count": 20,
   "metadata": {},
   "outputs": [
    {
     "data": {
      "image/png": "[encoded data removed]",
      "text/plain": [
       "<Figure size 432x288 with 1 Axes>"
      ]
     },
     "metadata": {
      "needs_background": "light"
     },
     "output_type": "display_data"
    },
    {
     "name": "stdout",
     "output_type": "stream",
     "text": [
      "-- City_1, City_2 and City_3 all have outliers.\n"
     ]
    }
   ],
   "source": [
    "#Answer for B5.\n",
    "plt.figure()\n",
    "plt.boxplot([City_1,City_2,City_3]) \n",
    "plt.title('Box Plot')\n",
    "plt.show()\n",
    "print(f'-- City_1, City_2 and City_3 all have outliers.')"
   ]
  },
  {
   "cell_type": "markdown",
   "metadata": {
    "deletable": false,
    "editable": false
   },
   "source": [
    "## Problem-C (17 marks)\n",
    "\n",
    "Consider the following data given in \"data-C\". ***Execute the following cell:***"
   ]
  },
  {
   "cell_type": "code",
   "execution_count": null,
   "metadata": {
    "deletable": false,
    "editable": false
   },
   "outputs": [],
   "source": [
    "import pandas as pd\n",
    "data = pd.read_csv('data-C.csv', delimiter=',')"
   ]
  },
  {
   "cell_type": "markdown",
   "metadata": {
    "deletable": false,
    "editable": false
   },
   "source": [
    "Answer all of the following questions:"
   ]
  },
  {
   "cell_type": "markdown",
   "metadata": {
    "deletable": false,
    "editable": false
   },
   "source": [
    "**C1. [2 Marks]** <font color=\"red\">Display</font> random 5 rows of the data. <font color=\"red\">Display</font> the summary statistics for **cut, color, clarity** and **price** columns. "
   ]
  },
  {
   "cell_type": "code",
   "execution_count": null,
   "metadata": {},
   "outputs": [],
   "source": [
    "#Answer for C1.\n",
    "display(data.sample(5))\n",
    "display(data.loc[:,[\"cut\", \"color\", \"clarity\" ,\"price\"]].describe())"
   ]
  },
  {
   "cell_type": "markdown",
   "metadata": {
    "deletable": false,
    "editable": false
   },
   "source": [
    "**C2. [2 Marks]** <font color=\"red\">Display</font> total number of rows and columns in the dataframe. "
   ]
  },
  {
   "cell_type": "code",
   "execution_count": null,
   "metadata": {},
   "outputs": [],
   "source": [
    "#Answer for C2.\n",
    "print(f'The total number is {data.shape[0]} rows and {data.shape[1]} columns')"
   ]
  },
  {
   "cell_type": "markdown",
   "metadata": {
    "deletable": false,
    "editable": false
   },
   "source": [
    "**C3. [4 Marks]** <font color=\"red\">Display</font> records which has *Good* or *Very Good* **cut** column value, and whose **carat** column value is above 0.5, and the **color** column value is *D-F*."
   ]
  },
  {
   "cell_type": "code",
   "execution_count": null,
   "metadata": {},
   "outputs": [],
   "source": [
    "#Answer for C3.\n",
    "display(data[(data['cut'].isin(['Good', 'Very Good'])) & (data['carat'] > 0.5) & (data['color'] == 'D-F')])"
   ]
  },
  {
   "cell_type": "markdown",
   "metadata": {
    "deletable": false,
    "editable": false
   },
   "source": [
    "**C4. [5 Marks]** Do the following:\n",
    "1. [1m] Add a new column to dataframe (say **volume**) that represents volume of the diamond. The volume is product of **x**, **y** and **z** column values. <font color=\"red\">Display</font> the first 5 rows of the dataframe. \n",
    "2. [4m] <font color=\"red\">Draw</font> overlapping plots of columns **depth** and **table** w.r.t **volume**, where **volume** is on x-axis. Set the x-axis label as 'Size (mm cube)'. There should be no y-axis label and no title. Set the markers transparency level (alpha) to 0.5."
   ]
  },
  {
   "cell_type": "code",
   "execution_count": null,
   "metadata": {},
   "outputs": [],
   "source": [
    "#Answer for C4.1\n",
    "data['volume'] = data['x'] * data['y'] * data['z']\n",
    "display(data.head(5))"
   ]
  },
  {
   "cell_type": "code",
   "execution_count": null,
   "metadata": {},
   "outputs": [],
   "source": [
    "#Answer for C4.2\n",
    "import seaborn as sns\n",
    "plt.figure(figsize=(10,8))\n",
    "sns.scatterplot(x='volume', y='depth',color='yellow', label='depth',  alpha=0.5, data=data)\n",
    "sns.scatterplot(x='volume', y='table',color='red',    label='table',  alpha=0.5, data=data)\n",
    "plt.ylabel(\"\")\n",
    "plt.xlabel(\"Size (mm cube)\");\n",
    "plt.show()"
   ]
  },
  {
   "cell_type": "markdown",
   "metadata": {
    "deletable": false,
    "editable": false
   },
   "source": [
    "**C5. [4 Marks]** <font color=\"red\">Depict</font> **carat** against **price**, sorted by price numeric values. Differentiate the plot by **cut**, **color**, and **clarity**.  "
   ]
  },
  {
   "cell_type": "code",
   "execution_count": 3,
   "metadata": {},
   "outputs": [
    {
     "ename": "NameError",
     "evalue": "name 'plt' is not defined",
     "output_type": "error",
     "traceback": [
      "\u001b[1;31m---------------------------------------------------------------------------\u001b[0m",
      "\u001b[1;31mNameError\u001b[0m                                 Traceback (most recent call last)",
      "\u001b[1;32m<ipython-input-3-74cbc7879aff>\u001b[0m in \u001b[0;36m<module>\u001b[1;34m\u001b[0m\n\u001b[0;32m      1\u001b[0m \u001b[1;31m#Answer for C5.\u001b[0m\u001b[1;33m\u001b[0m\u001b[1;33m\u001b[0m\u001b[1;33m\u001b[0m\u001b[0m\n\u001b[1;32m----> 2\u001b[1;33m \u001b[0mplt\u001b[0m\u001b[1;33m.\u001b[0m\u001b[0mfigure\u001b[0m\u001b[1;33m(\u001b[0m\u001b[0mfigsize\u001b[0m\u001b[1;33m=\u001b[0m\u001b[1;33m(\u001b[0m\u001b[1;36m20\u001b[0m\u001b[1;33m,\u001b[0m\u001b[1;36m20\u001b[0m\u001b[1;33m)\u001b[0m\u001b[1;33m)\u001b[0m\u001b[1;33m\u001b[0m\u001b[1;33m\u001b[0m\u001b[0m\n\u001b[0m\u001b[0;32m      3\u001b[0m \u001b[0mdata\u001b[0m\u001b[1;33m[\u001b[0m\u001b[1;34m'price_num'\u001b[0m\u001b[1;33m]\u001b[0m\u001b[1;33m=\u001b[0m\u001b[0mdata\u001b[0m\u001b[1;33m[\u001b[0m\u001b[1;34m'price'\u001b[0m\u001b[1;33m]\u001b[0m\u001b[1;33m.\u001b[0m\u001b[0mapply\u001b[0m\u001b[1;33m(\u001b[0m\u001b[1;32mlambda\u001b[0m \u001b[0mx\u001b[0m\u001b[1;33m:\u001b[0m\u001b[0mx\u001b[0m\u001b[1;33m.\u001b[0m\u001b[0mreplace\u001b[0m\u001b[1;33m(\u001b[0m\u001b[1;34m'+'\u001b[0m\u001b[1;33m,\u001b[0m\u001b[1;34m''\u001b[0m\u001b[1;33m)\u001b[0m\u001b[1;33m.\u001b[0m\u001b[0mreplace\u001b[0m\u001b[1;33m(\u001b[0m\u001b[1;34m'$'\u001b[0m\u001b[1;33m,\u001b[0m \u001b[1;34m''\u001b[0m\u001b[1;33m)\u001b[0m\u001b[1;33m)\u001b[0m\u001b[1;33m.\u001b[0m\u001b[0mapply\u001b[0m\u001b[1;33m(\u001b[0m\u001b[0mpd\u001b[0m\u001b[1;33m.\u001b[0m\u001b[0mto_numeric\u001b[0m\u001b[1;33m)\u001b[0m\u001b[1;33m\u001b[0m\u001b[1;33m\u001b[0m\u001b[0m\n\u001b[0;32m      4\u001b[0m \u001b[0mdata\u001b[0m\u001b[1;33m.\u001b[0m\u001b[0msort_values\u001b[0m\u001b[1;33m(\u001b[0m\u001b[0mby\u001b[0m\u001b[1;33m=\u001b[0m\u001b[1;34m'price_num'\u001b[0m\u001b[1;33m,\u001b[0m \u001b[0minplace\u001b[0m\u001b[1;33m=\u001b[0m\u001b[1;32mTrue\u001b[0m\u001b[1;33m)\u001b[0m\u001b[1;33m\u001b[0m\u001b[1;33m\u001b[0m\u001b[0m\n\u001b[0;32m      5\u001b[0m \u001b[0max\u001b[0m \u001b[1;33m=\u001b[0m \u001b[0msns\u001b[0m\u001b[1;33m.\u001b[0m\u001b[0mcatplot\u001b[0m\u001b[1;33m(\u001b[0m\u001b[0mkind\u001b[0m\u001b[1;33m=\u001b[0m\u001b[1;34m'box'\u001b[0m \u001b[1;33m,\u001b[0m\u001b[0my\u001b[0m\u001b[1;33m=\u001b[0m\u001b[1;34m'carat'\u001b[0m\u001b[1;33m,\u001b[0m \u001b[0mx\u001b[0m\u001b[1;33m=\u001b[0m \u001b[1;34m'price'\u001b[0m\u001b[1;33m,\u001b[0m \u001b[0mrow\u001b[0m \u001b[1;33m=\u001b[0m \u001b[1;34m'clarity'\u001b[0m\u001b[1;33m,\u001b[0m \u001b[0mcol\u001b[0m \u001b[1;33m=\u001b[0m \u001b[1;34m'color'\u001b[0m\u001b[1;33m,\u001b[0m\u001b[0mhue\u001b[0m\u001b[1;33m=\u001b[0m\u001b[1;34m'cut'\u001b[0m\u001b[1;33m,\u001b[0m\u001b[0mdata\u001b[0m\u001b[1;33m=\u001b[0m\u001b[0mdata\u001b[0m\u001b[1;33m)\u001b[0m\u001b[1;33m\u001b[0m\u001b[1;33m\u001b[0m\u001b[0m\n",
      "\u001b[1;31mNameError\u001b[0m: name 'plt' is not defined"
     ]
    }
   ],
   "source": [
    "#Answer for C5.\n",
    "plt.figure(figsize=(20,20))\n",
    "data['price_num']=data['price'].apply(lambda x:x.replace('+','').replace('$', '')).apply(pd.to_numeric) \n",
    "data.sort_values(by='price_num', inplace=True)\n",
    "ax = sns.catplot(kind='box' ,y='carat', x= 'price', row = 'clarity', col = 'color',hue='cut',data=data)\n",
    "plt.show()\n"
   ]
  },
  {
   "cell_type": "markdown",
   "metadata": {
    "deletable": false,
    "editable": false
   },
   "source": [
    "## Scratch / Rough cells:"
   ]
  },
  {
   "cell_type": "code",
   "execution_count": null,
   "metadata": {},
   "outputs": [],
   "source": []
  }
 ],
 "metadata": {
  "hide_input": false,
  "kernelspec": {
   "display_name": "Python 3",
   "language": "python",
   "name": "python3"
  },
  "language_info": {
   "codemirror_mode": {
    "name": "ipython",
    "version": 3
   },
   "file_extension": ".py",
   "mimetype": "text/x-python",
   "name": "python",
   "nbconvert_exporter": "python",
   "pygments_lexer": "ipython3",
   "version": "3.8.3"
  },
  "toc": {
   "base_numbering": 1,
   "nav_menu": {},
   "number_sections": true,
   "sideBar": true,
   "skip_h1_title": false,
   "title_cell": "Table of Contents",
   "title_sidebar": "Contents",
   "toc_cell": true,
   "toc_position": {},
   "toc_section_display": true,
   "toc_window_display": false
  },
  "varInspector": {
   "cols": {
    "lenName": 16,
    "lenType": 16,
    "lenVar": 40
   },
   "kernels_config": {
    "python": {
     "delete_cmd_postfix": "",
     "delete_cmd_prefix": "del ",
     "library": "var_list.py",
     "varRefreshCmd": "print(var_dic_list())"
    },
    "r": {
     "delete_cmd_postfix": ") ",
     "delete_cmd_prefix": "rm(",
     "library": "var_list.r",
     "varRefreshCmd": "cat(var_dic_list()) "
    }
   },
   "types_to_exclude": [
    "module",
    "function",
    "builtin_function_or_method",
    "instance",
    "_Feature"
   ],
   "window_display": false
  }
 },
 "nbformat": 4,
 "nbformat_minor": 5
}
