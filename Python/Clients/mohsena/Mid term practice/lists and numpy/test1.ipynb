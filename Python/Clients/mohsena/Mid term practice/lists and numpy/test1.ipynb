{
 "cells": [
  {
   "cell_type": "code",
   "execution_count": 3,
   "metadata": {
    "collapsed": true
   },
   "outputs": [
    {
     "data": {
      "text/plain": "[1,\n 4,\n 9,\n 16,\n 25,\n 36,\n 49,\n 64,\n 81,\n 100,\n 121,\n 144,\n 169,\n 196,\n 225,\n 256,\n 289,\n 324,\n 361,\n 400,\n 441,\n 484,\n 529,\n 576,\n 625,\n 676,\n 729,\n 784,\n 841,\n 900,\n 961,\n 1024,\n 1089,\n 1156,\n 1225,\n 1296,\n 1369,\n 1444,\n 1521,\n 1600,\n 1681,\n 1764,\n 1849,\n 1936,\n 2025,\n 2116,\n 2209,\n 2304,\n 2401,\n 2500]"
     },
     "execution_count": 3,
     "metadata": {},
     "output_type": "execute_result"
    }
   ],
   "source": [
    "squares = [x**2 for x in range(1,51)]\n",
    "squares"
   ]
  },
  {
   "cell_type": "code",
   "execution_count": 7,
   "outputs": [
    {
     "data": {
      "text/plain": "['-',\n '+',\n '-',\n '+',\n '-',\n '+',\n '-',\n '+',\n '-',\n '+',\n '-',\n '+',\n '-',\n '+',\n '-',\n '+',\n '-',\n '+',\n '-',\n '+',\n '-',\n '+',\n '-',\n '+',\n '-',\n '+',\n '-',\n '+',\n '-',\n '+',\n '-',\n '+',\n '-',\n '+',\n '-',\n '+',\n '-',\n '+',\n '-',\n '+',\n '-',\n '+',\n '-',\n '+',\n '-',\n '+',\n '-',\n '+',\n '-',\n '+']"
     },
     "execution_count": 7,
     "metadata": {},
     "output_type": "execute_result"
    }
   ],
   "source": [
    "eSquare = [x**2  for x in range(2,51) if x %2 == 0]\n",
    "eSquare\n",
    "PV = ['+' if x%2==0 else '-' for  x in range(1,51)]\n",
    "PV"
   ],
   "metadata": {
    "collapsed": false,
    "pycharm": {
     "name": "#%%\n"
    }
   }
  },
  {
   "cell_type": "code",
   "execution_count": 13,
   "outputs": [
    {
     "data": {
      "text/plain": "6"
     },
     "execution_count": 13,
     "metadata": {},
     "output_type": "execute_result"
    }
   ],
   "source": [
    "index = eSquare.index(196)\n",
    "assert eSquare[index] == 196\n",
    "index"
   ],
   "metadata": {
    "collapsed": false,
    "pycharm": {
     "name": "#%%\n"
    }
   }
  },
  {
   "cell_type": "code",
   "execution_count": 16,
   "outputs": [
    {
     "data": {
      "text/plain": "True"
     },
     "execution_count": 16,
     "metadata": {},
     "output_type": "execute_result"
    }
   ],
   "source": [
    "576 in eSquare"
   ],
   "metadata": {
    "collapsed": false,
    "pycharm": {
     "name": "#%%\n"
    }
   }
  },
  {
   "cell_type": "code",
   "execution_count": 18,
   "outputs": [
    {
     "name": "stdout",
     "output_type": "stream",
     "text": [
      "2500\n",
      "4\n"
     ]
    }
   ],
   "source": [
    "maxNumber = max(eSquare)\n",
    "minNumber = min(eSquare)\n",
    "print(maxNumber)\n",
    "print(minNumber)"
   ],
   "metadata": {
    "collapsed": false,
    "pycharm": {
     "name": "#%%\n"
    }
   }
  },
  {
   "cell_type": "markdown",
   "source": [
    "Enum"
   ],
   "metadata": {
    "collapsed": false
   }
  },
  {
   "cell_type": "code",
   "execution_count": 20,
   "outputs": [
    {
     "data": {
      "text/plain": "['Apple',\n 'Banana',\n 'Grapes',\n 'Kiwi',\n 'Orange',\n 'Pear',\n 'Plum',\n 'Strawberry',\n 'Watermelon']"
     },
     "execution_count": 20,
     "metadata": {},
     "output_type": "execute_result"
    }
   ],
   "source": [
    "fruits = ['Apple', 'Banana', 'Orange', 'Watermelon', 'Plum', 'Grapes', 'Kiwi', 'Strawberry', 'Pear']\n",
    "fruits.sort()\n",
    "fruits"
   ],
   "metadata": {
    "collapsed": false,
    "pycharm": {
     "name": "#%%\n"
    }
   }
  },
  {
   "cell_type": "code",
   "execution_count": 21,
   "outputs": [
    {
     "data": {
      "text/plain": "['1.Apple',\n '2.Banana',\n '3.Grapes',\n '4.Kiwi',\n '5.Orange',\n '6.Pear',\n '7.Plum',\n '8.Strawberry',\n '9.Watermelon']"
     },
     "execution_count": 21,
     "metadata": {},
     "output_type": "execute_result"
    }
   ],
   "source": [
    "newList = [str(i+1)+\".\"+fruit for i,fruit in enumerate(fruits)]\n",
    "newList"
   ],
   "metadata": {
    "collapsed": false,
    "pycharm": {
     "name": "#%%\n"
    }
   }
  },
  {
   "cell_type": "markdown",
   "source": [
    "ZIP"
   ],
   "metadata": {
    "collapsed": false
   }
  },
  {
   "cell_type": "code",
   "execution_count": 40,
   "outputs": [
    {
     "data": {
      "text/plain": "['Apple',\n 'Banana',\n 'Orange',\n 'Watermelon',\n 'Plum',\n 'Grapes',\n 'Kiwi',\n 'Strawberry',\n 'Pear',\n 'Mango']"
     },
     "execution_count": 40,
     "metadata": {},
     "output_type": "execute_result"
    }
   ],
   "source": [
    "fruits = [['Apple', 'Banana', 'Orange'], ['Watermelon', 'Plum', 'Grapes', 'Kiwi'], ['Strawberry', 'Pear', 'Mango']]\n",
    "newFruits = [fruit for innerList in fruits  for fruit in innerList  ]\n",
    "newFruits"
   ],
   "metadata": {
    "collapsed": false,
    "pycharm": {
     "name": "#%%\n"
    }
   }
  },
  {
   "cell_type": "code",
   "execution_count": 43,
   "outputs": [
    {
     "name": "stdout",
     "output_type": "stream",
     "text": [
      "[((('Apple', 5), 2), 2), ((('Banana', 6), 2), 2), ((('Orange', 6), 2), 2), ((('Watermelon', 10), 2), 2), ((('Plum', 4), 2), 2), ((('Grapes', 6), 2), 2), ((('Kiwi', 4), 2), 2), ((('Strawberry', 10), 2), 2), ((('Pear', 4), 2), 2), ((('Mango', 5), 2), 2)]\n"
     ]
    }
   ],
   "source": [
    "lem = [len(v) for v in newFruits]\n",
    "newFruits = list(zip(newFruits,lem))\n",
    "print(newFruits)"
   ],
   "metadata": {
    "collapsed": false,
    "pycharm": {
     "name": "#%%\n"
    }
   }
  },
  {
   "cell_type": "code",
   "execution_count": 45,
   "outputs": [
    {
     "data": {
      "text/plain": "{'Apple': 47,\n 'Banana': 27,\n 'Orange': 35,\n 'Watermelon': 13,\n 'Plum': 28,\n 'Grapes': 10,\n 'Kiwi': 30,\n 'Strawberry': 56,\n 'Pear': 15,\n 'Mango': 25}"
     },
     "execution_count": 45,
     "metadata": {},
     "output_type": "execute_result"
    }
   ],
   "source": [
    "fruits=['Apple', 'Banana', 'Orange', 'Watermelon', 'Plum', 'Grapes', 'Kiwi', 'Strawberry', 'Pear', 'Mango']\n",
    "prices=[47, 27, 35, 13, 28, 10, 30, 56, 15, 25]\n",
    "\n",
    "book1 = dict(zip(fruits,prices))\n",
    "book1"
   ],
   "metadata": {
    "collapsed": false,
    "pycharm": {
     "name": "#%%\n"
    }
   }
  },
  {
   "cell_type": "code",
   "execution_count": 46,
   "outputs": [],
   "source": [
    "text =\"we are reviewing python programming topics in ise 291. it is the most popular language for data scientists. also, it is a good general purpose programming language.\""
   ],
   "metadata": {
    "collapsed": false,
    "pycharm": {
     "name": "#%%\n"
    }
   }
  },
  {
   "cell_type": "code",
   "execution_count": 47,
   "outputs": [
    {
     "data": {
      "text/plain": "['we are reviewing python programming topics in ise 291',\n ' it is the most popular language for data scientists',\n ' also, it is a good general purpose programming language',\n '']"
     },
     "execution_count": 47,
     "metadata": {},
     "output_type": "execute_result"
    }
   ],
   "source": [
    "sentences = text.split('.')\n",
    "sentences"
   ],
   "metadata": {
    "collapsed": false,
    "pycharm": {
     "name": "#%%\n"
    }
   }
  },
  {
   "cell_type": "code",
   "execution_count": 51,
   "outputs": [
    {
     "data": {
      "text/plain": "['We are reviewing python programming topics in ISE 291.',\n 'It is the most popular language for data scientists.',\n 'Also, it is a good general purpose programming language.',\n '.']"
     },
     "execution_count": 51,
     "metadata": {},
     "output_type": "execute_result"
    }
   ],
   "source": [
    "sentences1 = [s.strip().capitalize().replace('ise','ISE')+'.' for s in sentences]\n",
    "sentences1"
   ],
   "metadata": {
    "collapsed": false,
    "pycharm": {
     "name": "#%%\n"
    }
   }
  },
  {
   "cell_type": "code",
   "execution_count": 55,
   "outputs": [
    {
     "data": {
      "text/plain": "array([[1., 1., 1., 1., 1.],\n       [1., 1., 1., 1., 1.],\n       [1., 1., 1., 1., 1.]])"
     },
     "execution_count": 55,
     "metadata": {},
     "output_type": "execute_result"
    }
   ],
   "source": [
    "import numpy as np\n",
    "arr = np.zeros(10,dtype='int32')\n",
    "arr2 = np.ones((3,5),dtype='float')\n",
    "arr2"
   ],
   "metadata": {
    "collapsed": false,
    "pycharm": {
     "name": "#%%\n"
    }
   }
  },
  {
   "cell_type": "code",
   "execution_count": 56,
   "outputs": [
    {
     "data": {
      "text/plain": "array([[3.14159265, 3.14159265, 3.14159265],\n       [3.14159265, 3.14159265, 3.14159265],\n       [3.14159265, 3.14159265, 3.14159265]])"
     },
     "execution_count": 56,
     "metadata": {},
     "output_type": "execute_result"
    }
   ],
   "source": [
    "piArr = np.full((3,3),np.pi)\n",
    "piArr"
   ],
   "metadata": {
    "collapsed": false,
    "pycharm": {
     "name": "#%%\n"
    }
   }
  },
  {
   "cell_type": "code",
   "execution_count": 69,
   "outputs": [
    {
     "data": {
      "text/plain": "array([[0.5488135 , 0.71518937, 0.60276338],\n       [0.54488318, 0.4236548 , 0.64589411],\n       [0.43758721, 0.891773  , 0.96366276]])"
     },
     "execution_count": 69,
     "metadata": {},
     "output_type": "execute_result"
    }
   ],
   "source": [
    "np.random.seed(0)\n",
    "arr3 = np.random.random((3,3))\n",
    "arr3"
   ],
   "metadata": {
    "collapsed": false,
    "pycharm": {
     "name": "#%%\n"
    }
   }
  },
  {
   "cell_type": "code",
   "execution_count": 72,
   "outputs": [
    {
     "data": {
      "text/plain": "array([1, 4, 6, 1, 3, 4, 9, 2, 4, 4])"
     },
     "execution_count": 72,
     "metadata": {},
     "output_type": "execute_result"
    }
   ],
   "source": [
    "arr1 = np.random.randint(1,10, size=10)\n",
    "arr1"
   ],
   "metadata": {
    "collapsed": false,
    "pycharm": {
     "name": "#%%\n"
    }
   }
  },
  {
   "cell_type": "code",
   "execution_count": 74,
   "outputs": [
    {
     "name": "stdout",
     "output_type": "stream",
     "text": [
      "[4 9 2 4 4]\n"
     ]
    }
   ],
   "source": [
    "print(arr1[5:])"
   ],
   "metadata": {
    "collapsed": false,
    "pycharm": {
     "name": "#%%\n"
    }
   }
  },
  {
   "cell_type": "code",
   "execution_count": 77,
   "outputs": [
    {
     "name": "stdout",
     "output_type": "stream",
     "text": [
      "[3 4 9]\n"
     ]
    }
   ],
   "source": [
    "print(arr1[4:7])"
   ],
   "metadata": {
    "collapsed": false,
    "pycharm": {
     "name": "#%%\n"
    }
   }
  },
  {
   "cell_type": "code",
   "execution_count": 80,
   "outputs": [
    {
     "name": "stdout",
     "output_type": "stream",
     "text": [
      "[1 6 3 9 4]\n"
     ]
    }
   ],
   "source": [
    "print(arr1[::2])"
   ],
   "metadata": {
    "collapsed": false,
    "pycharm": {
     "name": "#%%\n"
    }
   }
  },
  {
   "cell_type": "code",
   "execution_count": null,
   "outputs": [],
   "source": [],
   "metadata": {
    "collapsed": false,
    "pycharm": {
     "name": "#%%\n"
    }
   }
  }
 ],
 "metadata": {
  "kernelspec": {
   "display_name": "Python 3",
   "language": "python",
   "name": "python3"
  },
  "language_info": {
   "codemirror_mode": {
    "name": "ipython",
    "version": 2
   },
   "file_extension": ".py",
   "mimetype": "text/x-python",
   "name": "python",
   "nbconvert_exporter": "python",
   "pygments_lexer": "ipython2",
   "version": "2.7.6"
  }
 },
 "nbformat": 4,
 "nbformat_minor": 0
}