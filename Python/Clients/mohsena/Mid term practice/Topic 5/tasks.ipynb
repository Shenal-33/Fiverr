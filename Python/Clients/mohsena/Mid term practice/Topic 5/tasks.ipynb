{
 "cells": [
  {
   "cell_type": "code",
   "execution_count": 2,
   "metadata": {
    "collapsed": true
   },
   "outputs": [
    {
     "data": {
      "text/plain": "                       Country     Population  Overall Life  Male Life  \\\n0   People's Republic of China  1,433,783,686        75.500     73.500   \n1                        India  1,366,417,754        68.500     67.300   \n2                United States    329,064,917        79.800     77.500   \n3                    Indonesia    270,625,568        72.700     67.300   \n4                     Pakistan    216,565,318        67.700     65.800   \n5                       Brazil    211,049,527           NaN     70.200   \n6                      Nigeria    200,963,599        53.400    -52.400   \n7                   Bangladesh    163,046,161        73.200     71.000   \n8                       Russia    145,872,256        70.300     64.300   \n9                       Mexico    127,575,529        75.900     73.100   \n10                      Jersey    126,860,301         0.819      0.794   \n11                    Ethiopia    112,078,730        62.200     59.800   \n12                 Philippines    108,116,615        69.200     65.700   \n13                       Egypt    100,388,073        72.700     71.400   \n14                     Germany     83,517,045        80.700     78.400   \n15                      Turkey     83,429,615        74.800     72.500   \n16                        Iran     82,913,906        71.400     69.800   \n17                    Thailand     69,037,513        74.700     71.500   \n18              United Kingdom     67,530,172        80.700     78.500   \n19        France, metropolitan     65,129,728        81.800     78.700   \n20                       Italy     60,550,075        82.200     79.600   \n21                South Africa     58,558,270        63.100     61.600   \n22                    Tanzania     58,005,463        62.200     60.800   \n23                       Kenya     52,573,973        64.000     62.600   \n24                 South Korea     51,225,308        82.400     79.300   \n\n    Female Life      Continent           Subregion  \n0        77.900            NaN        Eastern Asia  \n1        69.800           Asia       Southern Asia  \n2        82.100  North America    Northern America  \n3        69.800           Asia  South-eastern Asia  \n4        69.800           Asia       Southern Asia  \n5        77.500  South America       South America  \n6        54.500         Africa      Western Africa  \n7        75.400           Asia       Southern Asia  \n8        76.400           Asia      Eastern Europe  \n9        78.800  North America     Central America  \n10        0.845         Europe        Eastern Asia  \n11       64.700         Africa      Eastern Africa  \n12       72.900           Asia  South-eastern Asia  \n13       74.200         Africa     Northern Africa  \n14       83.100         Europe      Western Europe  \n15       77.300           Asia        Western Asia  \n16       73.100           Asia       Southern Asia  \n17       78.000           Asia  South-eastern Asia  \n18       83.000         Europe     Northern Europe  \n19       85.100         Europe      Western Europe  \n20       85.000         Europe     Southern Europe  \n21       64.600         Africa     Southern Africa  \n22       63.600         Africa      Eastern Africa  \n23       65.500         Africa      Eastern Africa  \n24       85.800           Asia        Eastern Asia  ",
      "text/html": "<div>\n<style scoped>\n    .dataframe tbody tr th:only-of-type {\n        vertical-align: middle;\n    }\n\n    .dataframe tbody tr th {\n        vertical-align: top;\n    }\n\n    .dataframe thead th {\n        text-align: right;\n    }\n</style>\n<table border=\"1\" class=\"dataframe\">\n  <thead>\n    <tr style=\"text-align: right;\">\n      <th></th>\n      <th>Country</th>\n      <th>Population</th>\n      <th>Overall Life</th>\n      <th>Male Life</th>\n      <th>Female Life</th>\n      <th>Continent</th>\n      <th>Subregion</th>\n    </tr>\n  </thead>\n  <tbody>\n    <tr>\n      <th>0</th>\n      <td>People's Republic of China</td>\n      <td>1,433,783,686</td>\n      <td>75.500</td>\n      <td>73.500</td>\n      <td>77.900</td>\n      <td>NaN</td>\n      <td>Eastern Asia</td>\n    </tr>\n    <tr>\n      <th>1</th>\n      <td>India</td>\n      <td>1,366,417,754</td>\n      <td>68.500</td>\n      <td>67.300</td>\n      <td>69.800</td>\n      <td>Asia</td>\n      <td>Southern Asia</td>\n    </tr>\n    <tr>\n      <th>2</th>\n      <td>United States</td>\n      <td>329,064,917</td>\n      <td>79.800</td>\n      <td>77.500</td>\n      <td>82.100</td>\n      <td>North America</td>\n      <td>Northern America</td>\n    </tr>\n    <tr>\n      <th>3</th>\n      <td>Indonesia</td>\n      <td>270,625,568</td>\n      <td>72.700</td>\n      <td>67.300</td>\n      <td>69.800</td>\n      <td>Asia</td>\n      <td>South-eastern Asia</td>\n    </tr>\n    <tr>\n      <th>4</th>\n      <td>Pakistan</td>\n      <td>216,565,318</td>\n      <td>67.700</td>\n      <td>65.800</td>\n      <td>69.800</td>\n      <td>Asia</td>\n      <td>Southern Asia</td>\n    </tr>\n    <tr>\n      <th>5</th>\n      <td>Brazil</td>\n      <td>211,049,527</td>\n      <td>NaN</td>\n      <td>70.200</td>\n      <td>77.500</td>\n      <td>South America</td>\n      <td>South America</td>\n    </tr>\n    <tr>\n      <th>6</th>\n      <td>Nigeria</td>\n      <td>200,963,599</td>\n      <td>53.400</td>\n      <td>-52.400</td>\n      <td>54.500</td>\n      <td>Africa</td>\n      <td>Western Africa</td>\n    </tr>\n    <tr>\n      <th>7</th>\n      <td>Bangladesh</td>\n      <td>163,046,161</td>\n      <td>73.200</td>\n      <td>71.000</td>\n      <td>75.400</td>\n      <td>Asia</td>\n      <td>Southern Asia</td>\n    </tr>\n    <tr>\n      <th>8</th>\n      <td>Russia</td>\n      <td>145,872,256</td>\n      <td>70.300</td>\n      <td>64.300</td>\n      <td>76.400</td>\n      <td>Asia</td>\n      <td>Eastern Europe</td>\n    </tr>\n    <tr>\n      <th>9</th>\n      <td>Mexico</td>\n      <td>127,575,529</td>\n      <td>75.900</td>\n      <td>73.100</td>\n      <td>78.800</td>\n      <td>North America</td>\n      <td>Central America</td>\n    </tr>\n    <tr>\n      <th>10</th>\n      <td>Jersey</td>\n      <td>126,860,301</td>\n      <td>0.819</td>\n      <td>0.794</td>\n      <td>0.845</td>\n      <td>Europe</td>\n      <td>Eastern Asia</td>\n    </tr>\n    <tr>\n      <th>11</th>\n      <td>Ethiopia</td>\n      <td>112,078,730</td>\n      <td>62.200</td>\n      <td>59.800</td>\n      <td>64.700</td>\n      <td>Africa</td>\n      <td>Eastern Africa</td>\n    </tr>\n    <tr>\n      <th>12</th>\n      <td>Philippines</td>\n      <td>108,116,615</td>\n      <td>69.200</td>\n      <td>65.700</td>\n      <td>72.900</td>\n      <td>Asia</td>\n      <td>South-eastern Asia</td>\n    </tr>\n    <tr>\n      <th>13</th>\n      <td>Egypt</td>\n      <td>100,388,073</td>\n      <td>72.700</td>\n      <td>71.400</td>\n      <td>74.200</td>\n      <td>Africa</td>\n      <td>Northern Africa</td>\n    </tr>\n    <tr>\n      <th>14</th>\n      <td>Germany</td>\n      <td>83,517,045</td>\n      <td>80.700</td>\n      <td>78.400</td>\n      <td>83.100</td>\n      <td>Europe</td>\n      <td>Western Europe</td>\n    </tr>\n    <tr>\n      <th>15</th>\n      <td>Turkey</td>\n      <td>83,429,615</td>\n      <td>74.800</td>\n      <td>72.500</td>\n      <td>77.300</td>\n      <td>Asia</td>\n      <td>Western Asia</td>\n    </tr>\n    <tr>\n      <th>16</th>\n      <td>Iran</td>\n      <td>82,913,906</td>\n      <td>71.400</td>\n      <td>69.800</td>\n      <td>73.100</td>\n      <td>Asia</td>\n      <td>Southern Asia</td>\n    </tr>\n    <tr>\n      <th>17</th>\n      <td>Thailand</td>\n      <td>69,037,513</td>\n      <td>74.700</td>\n      <td>71.500</td>\n      <td>78.000</td>\n      <td>Asia</td>\n      <td>South-eastern Asia</td>\n    </tr>\n    <tr>\n      <th>18</th>\n      <td>United Kingdom</td>\n      <td>67,530,172</td>\n      <td>80.700</td>\n      <td>78.500</td>\n      <td>83.000</td>\n      <td>Europe</td>\n      <td>Northern Europe</td>\n    </tr>\n    <tr>\n      <th>19</th>\n      <td>France, metropolitan</td>\n      <td>65,129,728</td>\n      <td>81.800</td>\n      <td>78.700</td>\n      <td>85.100</td>\n      <td>Europe</td>\n      <td>Western Europe</td>\n    </tr>\n    <tr>\n      <th>20</th>\n      <td>Italy</td>\n      <td>60,550,075</td>\n      <td>82.200</td>\n      <td>79.600</td>\n      <td>85.000</td>\n      <td>Europe</td>\n      <td>Southern Europe</td>\n    </tr>\n    <tr>\n      <th>21</th>\n      <td>South Africa</td>\n      <td>58,558,270</td>\n      <td>63.100</td>\n      <td>61.600</td>\n      <td>64.600</td>\n      <td>Africa</td>\n      <td>Southern Africa</td>\n    </tr>\n    <tr>\n      <th>22</th>\n      <td>Tanzania</td>\n      <td>58,005,463</td>\n      <td>62.200</td>\n      <td>60.800</td>\n      <td>63.600</td>\n      <td>Africa</td>\n      <td>Eastern Africa</td>\n    </tr>\n    <tr>\n      <th>23</th>\n      <td>Kenya</td>\n      <td>52,573,973</td>\n      <td>64.000</td>\n      <td>62.600</td>\n      <td>65.500</td>\n      <td>Africa</td>\n      <td>Eastern Africa</td>\n    </tr>\n    <tr>\n      <th>24</th>\n      <td>South Korea</td>\n      <td>51,225,308</td>\n      <td>82.400</td>\n      <td>79.300</td>\n      <td>85.800</td>\n      <td>Asia</td>\n      <td>Eastern Asia</td>\n    </tr>\n  </tbody>\n</table>\n</div>"
     },
     "metadata": {},
     "output_type": "display_data"
    }
   ],
   "source": [
    "from IPython.core.display_functions import display\n",
    "import pandas as pd\n",
    "\n",
    "df =pd.read_csv('Dataset-1.csv',delimiter=\",\")\n",
    "display(df)"
   ]
  },
  {
   "cell_type": "code",
   "execution_count": 3,
   "outputs": [
    {
     "data": {
      "text/plain": "                       Country     Population  Overall Life  Male Life  \\\n0   People's Republic of China  1,433,783,686        75.500     73.500   \n1                        India  1,366,417,754        68.500     67.300   \n2                United States    329,064,917        79.800     77.500   \n3                    Indonesia    270,625,568        72.700     67.300   \n4                     Pakistan    216,565,318        67.700     65.800   \n5                       Brazil    211,049,527           NaN     70.200   \n6                      Nigeria    200,963,599        53.400     52.400   \n7                   Bangladesh    163,046,161        73.200     71.000   \n8                       Russia    145,872,256        70.300     64.300   \n9                       Mexico    127,575,529        75.900     73.100   \n10                      Jersey    126,860,301         0.819      0.794   \n11                    Ethiopia    112,078,730        62.200     59.800   \n12                 Philippines    108,116,615        69.200     65.700   \n13                       Egypt    100,388,073        72.700     71.400   \n14                     Germany     83,517,045        80.700     78.400   \n15                      Turkey     83,429,615        74.800     72.500   \n16                        Iran     82,913,906        71.400     69.800   \n17                    Thailand     69,037,513        74.700     71.500   \n18              United Kingdom     67,530,172        80.700     78.500   \n19        France, metropolitan     65,129,728        81.800     78.700   \n20                       Italy     60,550,075        82.200     79.600   \n21                South Africa     58,558,270        63.100     61.600   \n22                    Tanzania     58,005,463        62.200     60.800   \n23                       Kenya     52,573,973        64.000     62.600   \n24                 South Korea     51,225,308        82.400     79.300   \n\n    Female Life      Continent           Subregion  \n0        77.900            NaN        Eastern Asia  \n1        69.800           Asia       Southern Asia  \n2        82.100  North America    Northern America  \n3        69.800           Asia  South-eastern Asia  \n4        69.800           Asia       Southern Asia  \n5        77.500  South America       South America  \n6        54.500         Africa      Western Africa  \n7        75.400           Asia       Southern Asia  \n8        76.400           Asia      Eastern Europe  \n9        78.800  North America     Central America  \n10        0.845         Europe        Eastern Asia  \n11       64.700         Africa      Eastern Africa  \n12       72.900           Asia  South-eastern Asia  \n13       74.200         Africa     Northern Africa  \n14       83.100         Europe      Western Europe  \n15       77.300           Asia        Western Asia  \n16       73.100           Asia       Southern Asia  \n17       78.000           Asia  South-eastern Asia  \n18       83.000         Europe     Northern Europe  \n19       85.100         Europe      Western Europe  \n20       85.000         Europe     Southern Europe  \n21       64.600         Africa     Southern Africa  \n22       63.600         Africa      Eastern Africa  \n23       65.500         Africa      Eastern Africa  \n24       85.800           Asia        Eastern Asia  ",
      "text/html": "<div>\n<style scoped>\n    .dataframe tbody tr th:only-of-type {\n        vertical-align: middle;\n    }\n\n    .dataframe tbody tr th {\n        vertical-align: top;\n    }\n\n    .dataframe thead th {\n        text-align: right;\n    }\n</style>\n<table border=\"1\" class=\"dataframe\">\n  <thead>\n    <tr style=\"text-align: right;\">\n      <th></th>\n      <th>Country</th>\n      <th>Population</th>\n      <th>Overall Life</th>\n      <th>Male Life</th>\n      <th>Female Life</th>\n      <th>Continent</th>\n      <th>Subregion</th>\n    </tr>\n  </thead>\n  <tbody>\n    <tr>\n      <th>0</th>\n      <td>People's Republic of China</td>\n      <td>1,433,783,686</td>\n      <td>75.500</td>\n      <td>73.500</td>\n      <td>77.900</td>\n      <td>NaN</td>\n      <td>Eastern Asia</td>\n    </tr>\n    <tr>\n      <th>1</th>\n      <td>India</td>\n      <td>1,366,417,754</td>\n      <td>68.500</td>\n      <td>67.300</td>\n      <td>69.800</td>\n      <td>Asia</td>\n      <td>Southern Asia</td>\n    </tr>\n    <tr>\n      <th>2</th>\n      <td>United States</td>\n      <td>329,064,917</td>\n      <td>79.800</td>\n      <td>77.500</td>\n      <td>82.100</td>\n      <td>North America</td>\n      <td>Northern America</td>\n    </tr>\n    <tr>\n      <th>3</th>\n      <td>Indonesia</td>\n      <td>270,625,568</td>\n      <td>72.700</td>\n      <td>67.300</td>\n      <td>69.800</td>\n      <td>Asia</td>\n      <td>South-eastern Asia</td>\n    </tr>\n    <tr>\n      <th>4</th>\n      <td>Pakistan</td>\n      <td>216,565,318</td>\n      <td>67.700</td>\n      <td>65.800</td>\n      <td>69.800</td>\n      <td>Asia</td>\n      <td>Southern Asia</td>\n    </tr>\n    <tr>\n      <th>5</th>\n      <td>Brazil</td>\n      <td>211,049,527</td>\n      <td>NaN</td>\n      <td>70.200</td>\n      <td>77.500</td>\n      <td>South America</td>\n      <td>South America</td>\n    </tr>\n    <tr>\n      <th>6</th>\n      <td>Nigeria</td>\n      <td>200,963,599</td>\n      <td>53.400</td>\n      <td>52.400</td>\n      <td>54.500</td>\n      <td>Africa</td>\n      <td>Western Africa</td>\n    </tr>\n    <tr>\n      <th>7</th>\n      <td>Bangladesh</td>\n      <td>163,046,161</td>\n      <td>73.200</td>\n      <td>71.000</td>\n      <td>75.400</td>\n      <td>Asia</td>\n      <td>Southern Asia</td>\n    </tr>\n    <tr>\n      <th>8</th>\n      <td>Russia</td>\n      <td>145,872,256</td>\n      <td>70.300</td>\n      <td>64.300</td>\n      <td>76.400</td>\n      <td>Asia</td>\n      <td>Eastern Europe</td>\n    </tr>\n    <tr>\n      <th>9</th>\n      <td>Mexico</td>\n      <td>127,575,529</td>\n      <td>75.900</td>\n      <td>73.100</td>\n      <td>78.800</td>\n      <td>North America</td>\n      <td>Central America</td>\n    </tr>\n    <tr>\n      <th>10</th>\n      <td>Jersey</td>\n      <td>126,860,301</td>\n      <td>0.819</td>\n      <td>0.794</td>\n      <td>0.845</td>\n      <td>Europe</td>\n      <td>Eastern Asia</td>\n    </tr>\n    <tr>\n      <th>11</th>\n      <td>Ethiopia</td>\n      <td>112,078,730</td>\n      <td>62.200</td>\n      <td>59.800</td>\n      <td>64.700</td>\n      <td>Africa</td>\n      <td>Eastern Africa</td>\n    </tr>\n    <tr>\n      <th>12</th>\n      <td>Philippines</td>\n      <td>108,116,615</td>\n      <td>69.200</td>\n      <td>65.700</td>\n      <td>72.900</td>\n      <td>Asia</td>\n      <td>South-eastern Asia</td>\n    </tr>\n    <tr>\n      <th>13</th>\n      <td>Egypt</td>\n      <td>100,388,073</td>\n      <td>72.700</td>\n      <td>71.400</td>\n      <td>74.200</td>\n      <td>Africa</td>\n      <td>Northern Africa</td>\n    </tr>\n    <tr>\n      <th>14</th>\n      <td>Germany</td>\n      <td>83,517,045</td>\n      <td>80.700</td>\n      <td>78.400</td>\n      <td>83.100</td>\n      <td>Europe</td>\n      <td>Western Europe</td>\n    </tr>\n    <tr>\n      <th>15</th>\n      <td>Turkey</td>\n      <td>83,429,615</td>\n      <td>74.800</td>\n      <td>72.500</td>\n      <td>77.300</td>\n      <td>Asia</td>\n      <td>Western Asia</td>\n    </tr>\n    <tr>\n      <th>16</th>\n      <td>Iran</td>\n      <td>82,913,906</td>\n      <td>71.400</td>\n      <td>69.800</td>\n      <td>73.100</td>\n      <td>Asia</td>\n      <td>Southern Asia</td>\n    </tr>\n    <tr>\n      <th>17</th>\n      <td>Thailand</td>\n      <td>69,037,513</td>\n      <td>74.700</td>\n      <td>71.500</td>\n      <td>78.000</td>\n      <td>Asia</td>\n      <td>South-eastern Asia</td>\n    </tr>\n    <tr>\n      <th>18</th>\n      <td>United Kingdom</td>\n      <td>67,530,172</td>\n      <td>80.700</td>\n      <td>78.500</td>\n      <td>83.000</td>\n      <td>Europe</td>\n      <td>Northern Europe</td>\n    </tr>\n    <tr>\n      <th>19</th>\n      <td>France, metropolitan</td>\n      <td>65,129,728</td>\n      <td>81.800</td>\n      <td>78.700</td>\n      <td>85.100</td>\n      <td>Europe</td>\n      <td>Western Europe</td>\n    </tr>\n    <tr>\n      <th>20</th>\n      <td>Italy</td>\n      <td>60,550,075</td>\n      <td>82.200</td>\n      <td>79.600</td>\n      <td>85.000</td>\n      <td>Europe</td>\n      <td>Southern Europe</td>\n    </tr>\n    <tr>\n      <th>21</th>\n      <td>South Africa</td>\n      <td>58,558,270</td>\n      <td>63.100</td>\n      <td>61.600</td>\n      <td>64.600</td>\n      <td>Africa</td>\n      <td>Southern Africa</td>\n    </tr>\n    <tr>\n      <th>22</th>\n      <td>Tanzania</td>\n      <td>58,005,463</td>\n      <td>62.200</td>\n      <td>60.800</td>\n      <td>63.600</td>\n      <td>Africa</td>\n      <td>Eastern Africa</td>\n    </tr>\n    <tr>\n      <th>23</th>\n      <td>Kenya</td>\n      <td>52,573,973</td>\n      <td>64.000</td>\n      <td>62.600</td>\n      <td>65.500</td>\n      <td>Africa</td>\n      <td>Eastern Africa</td>\n    </tr>\n    <tr>\n      <th>24</th>\n      <td>South Korea</td>\n      <td>51,225,308</td>\n      <td>82.400</td>\n      <td>79.300</td>\n      <td>85.800</td>\n      <td>Asia</td>\n      <td>Eastern Asia</td>\n    </tr>\n  </tbody>\n</table>\n</div>"
     },
     "execution_count": 3,
     "metadata": {},
     "output_type": "execute_result"
    }
   ],
   "source": [
    "selected_cols = df.select_dtypes(exclude='object').columns\n",
    "df[selected_cols] = df[selected_cols].applymap(lambda x: x if x >= 0 else abs(x))\n",
    "df"
   ],
   "metadata": {
    "collapsed": false,
    "pycharm": {
     "name": "#%%\n"
    }
   }
  },
  {
   "cell_type": "code",
   "execution_count": 5,
   "outputs": [
    {
     "name": "stderr",
     "output_type": "stream",
     "text": [
      "C:\\Users\\shena\\AppData\\Local\\Temp\\ipykernel_19332\\2830551700.py:2: UserWarning: Boolean Series key will be reindexed to match DataFrame index.\n",
      "  null_cols2 = df[df.isna().any()].columns\n"
     ]
    },
    {
     "ename": "IndexingError",
     "evalue": "Unalignable boolean Series provided as indexer (index of the boolean Series and of the indexed object do not match).",
     "output_type": "error",
     "traceback": [
      "\u001B[1;31m---------------------------------------------------------------------------\u001B[0m",
      "\u001B[1;31mIndexingError\u001B[0m                             Traceback (most recent call last)",
      "Input \u001B[1;32mIn [5]\u001B[0m, in \u001B[0;36m<cell line: 2>\u001B[1;34m()\u001B[0m\n\u001B[0;32m      1\u001B[0m null_cols \u001B[38;5;241m=\u001B[39m df\u001B[38;5;241m.\u001B[39mcolumns[df\u001B[38;5;241m.\u001B[39misna()\u001B[38;5;241m.\u001B[39many()]\n\u001B[1;32m----> 2\u001B[0m null_cols2 \u001B[38;5;241m=\u001B[39m \u001B[43mdf\u001B[49m\u001B[43m[\u001B[49m\u001B[43mdf\u001B[49m\u001B[38;5;241;43m.\u001B[39;49m\u001B[43misna\u001B[49m\u001B[43m(\u001B[49m\u001B[43m)\u001B[49m\u001B[38;5;241;43m.\u001B[39;49m\u001B[43many\u001B[49m\u001B[43m(\u001B[49m\u001B[43m)\u001B[49m\u001B[43m]\u001B[49m\u001B[38;5;241m.\u001B[39mcolumns\n\u001B[0;32m      4\u001B[0m \u001B[38;5;28;01mfor\u001B[39;00m c \u001B[38;5;129;01min\u001B[39;00m  null_cols:\n\u001B[0;32m      5\u001B[0m     value \u001B[38;5;241m=\u001B[39m  df[c]\u001B[38;5;241m.\u001B[39mmean() \u001B[38;5;28;01mif\u001B[39;00m df[c]\u001B[38;5;241m.\u001B[39mdtype \u001B[38;5;241m!=\u001B[39m \u001B[38;5;124m'\u001B[39m\u001B[38;5;124mobject\u001B[39m\u001B[38;5;124m'\u001B[39m \u001B[38;5;28;01melse\u001B[39;00m df[c]\u001B[38;5;241m.\u001B[39mmode()\n",
      "File \u001B[1;32mc:\\users\\shena\\desktop\\fiverr\\repo\\fiverr\\python\\clients\\mohsena\\mid term practice\\venv\\lib\\site-packages\\pandas\\core\\frame.py:3496\u001B[0m, in \u001B[0;36mDataFrame.__getitem__\u001B[1;34m(self, key)\u001B[0m\n\u001B[0;32m   3494\u001B[0m \u001B[38;5;66;03m# Do we have a (boolean) 1d indexer?\u001B[39;00m\n\u001B[0;32m   3495\u001B[0m \u001B[38;5;28;01mif\u001B[39;00m com\u001B[38;5;241m.\u001B[39mis_bool_indexer(key):\n\u001B[1;32m-> 3496\u001B[0m     \u001B[38;5;28;01mreturn\u001B[39;00m \u001B[38;5;28;43mself\u001B[39;49m\u001B[38;5;241;43m.\u001B[39;49m\u001B[43m_getitem_bool_array\u001B[49m\u001B[43m(\u001B[49m\u001B[43mkey\u001B[49m\u001B[43m)\u001B[49m\n\u001B[0;32m   3498\u001B[0m \u001B[38;5;66;03m# We are left with two options: a single key, and a collection of keys,\u001B[39;00m\n\u001B[0;32m   3499\u001B[0m \u001B[38;5;66;03m# We interpret tuples as collections only for non-MultiIndex\u001B[39;00m\n\u001B[0;32m   3500\u001B[0m is_single_key \u001B[38;5;241m=\u001B[39m \u001B[38;5;28misinstance\u001B[39m(key, \u001B[38;5;28mtuple\u001B[39m) \u001B[38;5;129;01mor\u001B[39;00m \u001B[38;5;129;01mnot\u001B[39;00m is_list_like(key)\n",
      "File \u001B[1;32mc:\\users\\shena\\desktop\\fiverr\\repo\\fiverr\\python\\clients\\mohsena\\mid term practice\\venv\\lib\\site-packages\\pandas\\core\\frame.py:3549\u001B[0m, in \u001B[0;36mDataFrame._getitem_bool_array\u001B[1;34m(self, key)\u001B[0m\n\u001B[0;32m   3543\u001B[0m     \u001B[38;5;28;01mraise\u001B[39;00m \u001B[38;5;167;01mValueError\u001B[39;00m(\n\u001B[0;32m   3544\u001B[0m         \u001B[38;5;124mf\u001B[39m\u001B[38;5;124m\"\u001B[39m\u001B[38;5;124mItem wrong length \u001B[39m\u001B[38;5;132;01m{\u001B[39;00m\u001B[38;5;28mlen\u001B[39m(key)\u001B[38;5;132;01m}\u001B[39;00m\u001B[38;5;124m instead of \u001B[39m\u001B[38;5;132;01m{\u001B[39;00m\u001B[38;5;28mlen\u001B[39m(\u001B[38;5;28mself\u001B[39m\u001B[38;5;241m.\u001B[39mindex)\u001B[38;5;132;01m}\u001B[39;00m\u001B[38;5;124m.\u001B[39m\u001B[38;5;124m\"\u001B[39m\n\u001B[0;32m   3545\u001B[0m     )\n\u001B[0;32m   3547\u001B[0m \u001B[38;5;66;03m# check_bool_indexer will throw exception if Series key cannot\u001B[39;00m\n\u001B[0;32m   3548\u001B[0m \u001B[38;5;66;03m# be reindexed to match DataFrame rows\u001B[39;00m\n\u001B[1;32m-> 3549\u001B[0m key \u001B[38;5;241m=\u001B[39m \u001B[43mcheck_bool_indexer\u001B[49m\u001B[43m(\u001B[49m\u001B[38;5;28;43mself\u001B[39;49m\u001B[38;5;241;43m.\u001B[39;49m\u001B[43mindex\u001B[49m\u001B[43m,\u001B[49m\u001B[43m \u001B[49m\u001B[43mkey\u001B[49m\u001B[43m)\u001B[49m\n\u001B[0;32m   3550\u001B[0m indexer \u001B[38;5;241m=\u001B[39m key\u001B[38;5;241m.\u001B[39mnonzero()[\u001B[38;5;241m0\u001B[39m]\n\u001B[0;32m   3551\u001B[0m \u001B[38;5;28;01mreturn\u001B[39;00m \u001B[38;5;28mself\u001B[39m\u001B[38;5;241m.\u001B[39m_take_with_is_copy(indexer, axis\u001B[38;5;241m=\u001B[39m\u001B[38;5;241m0\u001B[39m)\n",
      "File \u001B[1;32mc:\\users\\shena\\desktop\\fiverr\\repo\\fiverr\\python\\clients\\mohsena\\mid term practice\\venv\\lib\\site-packages\\pandas\\core\\indexing.py:2376\u001B[0m, in \u001B[0;36mcheck_bool_indexer\u001B[1;34m(index, key)\u001B[0m\n\u001B[0;32m   2374\u001B[0m     mask \u001B[38;5;241m=\u001B[39m isna(result\u001B[38;5;241m.\u001B[39m_values)\n\u001B[0;32m   2375\u001B[0m     \u001B[38;5;28;01mif\u001B[39;00m mask\u001B[38;5;241m.\u001B[39many():\n\u001B[1;32m-> 2376\u001B[0m         \u001B[38;5;28;01mraise\u001B[39;00m IndexingError(\n\u001B[0;32m   2377\u001B[0m             \u001B[38;5;124m\"\u001B[39m\u001B[38;5;124mUnalignable boolean Series provided as \u001B[39m\u001B[38;5;124m\"\u001B[39m\n\u001B[0;32m   2378\u001B[0m             \u001B[38;5;124m\"\u001B[39m\u001B[38;5;124mindexer (index of the boolean Series and of \u001B[39m\u001B[38;5;124m\"\u001B[39m\n\u001B[0;32m   2379\u001B[0m             \u001B[38;5;124m\"\u001B[39m\u001B[38;5;124mthe indexed object do not match).\u001B[39m\u001B[38;5;124m\"\u001B[39m\n\u001B[0;32m   2380\u001B[0m         )\n\u001B[0;32m   2381\u001B[0m     \u001B[38;5;28;01mreturn\u001B[39;00m result\u001B[38;5;241m.\u001B[39mastype(\u001B[38;5;28mbool\u001B[39m)\u001B[38;5;241m.\u001B[39m_values\n\u001B[0;32m   2382\u001B[0m \u001B[38;5;28;01mif\u001B[39;00m is_object_dtype(key):\n\u001B[0;32m   2383\u001B[0m     \u001B[38;5;66;03m# key might be object-dtype bool, check_array_indexer needs bool array\u001B[39;00m\n",
      "\u001B[1;31mIndexingError\u001B[0m: Unalignable boolean Series provided as indexer (index of the boolean Series and of the indexed object do not match)."
     ]
    }
   ],
   "source": [
    "null_cols = df.columns[df.isna().any()]\n",
    "null_cols2 = df[df.isna().any()].columns\n",
    "\n",
    "for c in  null_cols:\n",
    "    value =  df[c].mean() if df[c].dtype != 'object' else df[c].mode()\n",
    "    df[c].fillna(value,inplace=True)\n",
    "df"
   ],
   "metadata": {
    "collapsed": false,
    "pycharm": {
     "name": "#%%\n"
    }
   }
  },
  {
   "cell_type": "code",
   "execution_count": null,
   "outputs": [],
   "source": [
    "selected_cols = df.loc[:,\"Overall Life\":\"Female Life\"].columns\n",
    "df[selected_cols]=df[selected_cols].applymap(lambda x: x if x>1 else 100*x)\n",
    "\n",
    "\n",
    "#5.  Display the transformed Dataset\n",
    "display(df)"
   ],
   "metadata": {
    "collapsed": false,
    "pycharm": {
     "name": "#%%\n"
    }
   }
  },
  {
   "cell_type": "code",
   "execution_count": null,
   "outputs": [],
   "source": [
    "df = pd.read_csv('Dataset-2.csv',delimiter=\",\")\n",
    "df.head()"
   ],
   "metadata": {
    "collapsed": false,
    "pycharm": {
     "name": "#%%\n"
    }
   }
  },
  {
   "cell_type": "code",
   "execution_count": null,
   "outputs": [],
   "source": [
    "print(df.select_dtypes(\"object\").describe().loc['unique',:])\n",
    "df['education'].unique().tolist()"
   ],
   "metadata": {
    "collapsed": false,
    "pycharm": {
     "name": "#%%\n"
    }
   }
  },
  {
   "cell_type": "code",
   "execution_count": null,
   "outputs": [],
   "source": [
    "unknown_index = df[df['education'] == 'unknown'].index\n",
    "df.drop(unknown_index,inplace=True)\n",
    "df"
   ],
   "metadata": {
    "collapsed": false,
    "pycharm": {
     "name": "#%%\n"
    }
   }
  },
  {
   "cell_type": "code",
   "execution_count": null,
   "outputs": [],
   "source": [
    "df[\"education\"] = df[\"education\"].map(dict({'primary':1,'secondary':2,\"tertiary\":3}))\n",
    "df"
   ],
   "metadata": {
    "collapsed": false,
    "pycharm": {
     "name": "#%%\n"
    }
   }
  },
  {
   "cell_type": "code",
   "execution_count": null,
   "outputs": [],
   "source": [
    "from sklearn.preprocessing import MinMaxScaler\n",
    "scalar = MinMaxScaler()\n",
    "scalar.fit(df[['age']])\n",
    "df['age'] = scalar.transform(df[['age']])\n",
    "df['age']"
   ],
   "metadata": {
    "collapsed": false,
    "pycharm": {
     "name": "#%%\n"
    }
   }
  },
  {
   "cell_type": "code",
   "execution_count": null,
   "outputs": [],
   "source": [
    "from sklearn.preprocessing import StandardScaler\n"
   ],
   "metadata": {
    "collapsed": false,
    "pycharm": {
     "name": "#%%\n"
    }
   }
  }
 ],
 "metadata": {
  "kernelspec": {
   "display_name": "Python 3",
   "language": "python",
   "name": "python3"
  },
  "language_info": {
   "codemirror_mode": {
    "name": "ipython",
    "version": 2
   },
   "file_extension": ".py",
   "mimetype": "text/x-python",
   "name": "python",
   "nbconvert_exporter": "python",
   "pygments_lexer": "ipython2",
   "version": "2.7.6"
  }
 },
 "nbformat": 4,
 "nbformat_minor": 0
}