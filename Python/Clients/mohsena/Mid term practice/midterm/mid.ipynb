{
 "cells": [
  {
   "cell_type": "code",
   "execution_count": 4,
   "metadata": {
    "collapsed": true
   },
   "outputs": [
    {
     "name": "stdout",
     "output_type": "stream",
     "text": [
      "[1, 2, 3, 4, 5, 6, 7, 8, 9]\n",
      "[(1, 1), (2, 4), (3, 9), (4, 16), (5, 25), (6, 36), (7, 49), (8, 64), (9, 81)]\n",
      "[1, 1, 2, 4, 3, 9, 4, 16, 5, 25, 6, 36, 7, 49, 8, 64, 9, 81]\n"
     ]
    }
   ],
   "source": [
    "list1 = [i for i in range(1,10)]\n",
    "print(list1)\n",
    "list2 = [(i,i**2) for i in list1]\n",
    "print(list2)\n",
    "list3 = [i for tup in list2 for i in tup ]\n",
    "print(list3)"
   ]
  },
  {
   "cell_type": "code",
   "execution_count": 9,
   "outputs": [
    {
     "name": "stdout",
     "output_type": "stream",
     "text": [
      "{'Excellent': 5, 'Very Good': 4, 'Good': 3, 'Poor': 2, 'Very Poor': 1}\n"
     ]
    },
    {
     "data": {
      "text/plain": "[3, 5, 4, 1, 5, 2, 1, 2, 2, 3]"
     },
     "execution_count": 9,
     "metadata": {},
     "output_type": "execute_result"
    }
   ],
   "source": [
    "text = ['Excellent', 'Very Good', 'Good', 'Poor', 'Very Poor']\n",
    "val = [5,4,3,2,1]\n",
    "\n",
    "dict1 = {k:i for k,i in zip(text,val)}\n",
    "print(dict1)\n",
    "\n",
    "list3 = list(map(lambda x : dict1[x],['Good', 'Excellent', 'Very Good', 'Very Poor', 'Excellent', 'Poor', 'Very Poor', 'Poor', 'Poor', 'Good']))\n",
    "list3"
   ],
   "metadata": {
    "collapsed": false,
    "pycharm": {
     "name": "#%%\n"
    }
   }
  },
  {
   "cell_type": "code",
   "execution_count": 17,
   "outputs": [
    {
     "name": "stdout",
     "output_type": "stream",
     "text": [
      "[[15 21 22 18 19]\n",
      " [21 15 25 10 26]\n",
      " [11 22 17 23 16]\n",
      " [28 30 15 28 30]\n",
      " [21 20 24 28 14]\n",
      " [19 27 10 23 19]]\n",
      "[[15 22 19]\n",
      " [21 25 26]\n",
      " [11 17 16]\n",
      " [28 15 30]\n",
      " [21 24 14]\n",
      " [19 10 19]]\n",
      "[[21 15 25 10 26]\n",
      " [28 30 15 28 30]\n",
      " [19 27 10 23 19]]\n",
      "[15 15 25 10 30 15 30 20 10]\n"
     ]
    }
   ],
   "source": [
    "import numpy as np\n",
    "np.random.seed(1)\n",
    "X = np.random.randint(10,31,(6,5))\n",
    "print(X)\n",
    "print(X[:,::2])\n",
    "print(X[1::2,:])\n",
    "print(X[X % 5 == 0])"
   ],
   "metadata": {
    "collapsed": false,
    "pycharm": {
     "name": "#%%\n"
    }
   }
  },
  {
   "cell_type": "code",
   "execution_count": 22,
   "outputs": [
    {
     "name": "stdout",
     "output_type": "stream",
     "text": [
      "the old lady pulled her spectacles down and looked over them about the room then she put them up and looked out under them. she seldom or never looked through them for so small a thing as a boy they were her state pair the pride of her heart and were built for style not service she could have seen through a pair of stove-lids just as well. she looked perplexed for a moment and then said not fiercely but still loud enough for the furniture to hear.\n",
      "the|old|lady|pulled|her|spectacles|down|and|looked|over|them|about|the|room|then|she|put|them|up|and|looked|out|under|them.|she|seldom|or|never|looked|through|them|for|so|small|a|thing|as|a|boy|they|were|her|state|pair|the|pride|of|her|heart|and|were|built|for|style|not|service|she|could|have|seen|through|a|pair|of|stove-lids|just|as|well.|she|looked|perplexed|for|a|moment|and|then|said|not|fiercely|but|still|loud|enough|for|the|furniture|to|hear.\n"
     ]
    }
   ],
   "source": [
    "text = \"the old lady pulled her spectacles down and looked over them about the room; then she put them up and looked out under them. she seldom or never looked THROUGH them for so small a thing as a boy; they were her state pair, the pride of her heart, and were built for style, not service she could have seen THROUGH a pair of stove-lids just as well. she looked perplexed for a moment, and then said, not fiercely, but still loud enough for the furniture to hear.\"\n",
    "\n",
    "string1 = text.replace(\",\",\"\").replace(\";\",\"\").replace(\"THROUGH\",\"THROUGH\".lower())\n",
    "print(string1)\n",
    "\n",
    "list_of_words = string1.split(\" \")\n",
    "print(\"|\".join(list_of_words))"
   ],
   "metadata": {
    "collapsed": false,
    "pycharm": {
     "name": "#%%\n"
    }
   }
  },
  {
   "cell_type": "code",
   "execution_count": 24,
   "outputs": [],
   "source": [
    "## This is the above data in python list format. Execute this cell in-order to use the following lists/data\n",
    "City_1=[215, 88, 185, 226, 195, 176, 241 ,205, 224, 183, 192, 391, 116, 225, 168, 188, 204 ,191 ,213 ,243]\n",
    "City_2=[201, 197, 234, 196, 236, 463, 433, 178, 230, 247, 103, 214, 333, 257, 246, 297, 171, 198, 288, 263]\n",
    "City_3=[371, 215, 247, 200, 76, 249, 197, 236, 177, 126, 210, 263, 111, 213, 195, 236, 270, 206, 193, 241]\n",
    "Total_Death_Cases=[14, 7, 16, 12, 6, 21, 11, 7, 17, 10, 5, 20, 11, 21, 7, 7, 11, 9, 9, 8]\n",
    "Main_Cause= ['Over-Speeding','Rash Driving','Over-Speeding','Violation of Rules','Over-Speeding','Rash Driving',\n",
    "'Over-Speeding', 'Violation of Rules','Rash Driving','Over-Speeding','Rash Driving','Over-Speeding','Violation of Rules',\n",
    "'Over-Speeding','Over-Speeding','Rash Driving','Over-Speeding','Violation of Rules','Rash Driving','Over-Speeding']"
   ],
   "metadata": {
    "collapsed": false,
    "pycharm": {
     "name": "#%%\n"
    }
   }
  },
  {
   "cell_type": "code",
   "execution_count": 27,
   "outputs": [
    {
     "name": "stdout",
     "output_type": "stream",
     "text": [
      "We reject the null hypothesis\n"
     ]
    }
   ],
   "source": [
    "# Null hypothesis = Total death cases follow normal distribution\n",
    "from scipy.stats import shapiro\n",
    "_,pval = shapiro(Total_Death_Cases)\n",
    "if pval <0.05:\n",
    "    print(\"We reject the null hypothesis\")\n",
    "else:\n",
    "    print(\"We failed to reject the null hypothesis\")"
   ],
   "metadata": {
    "collapsed": false,
    "pycharm": {
     "name": "#%%\n"
    }
   }
  },
  {
   "cell_type": "code",
   "execution_count": null,
   "outputs": [],
   "source": [
    "import matplotlib.pyplot as plt\n",
    "\n",
    "plt.figure()\n",
    "plt.boxplot('')"
   ],
   "metadata": {
    "collapsed": false,
    "pycharm": {
     "name": "#%%\n"
    }
   }
  }
 ],
 "metadata": {
  "kernelspec": {
   "display_name": "Python 3",
   "language": "python",
   "name": "python3"
  },
  "language_info": {
   "codemirror_mode": {
    "name": "ipython",
    "version": 2
   },
   "file_extension": ".py",
   "mimetype": "text/x-python",
   "name": "python",
   "nbconvert_exporter": "python",
   "pygments_lexer": "ipython2",
   "version": "2.7.6"
  }
 },
 "nbformat": 4,
 "nbformat_minor": 0
}