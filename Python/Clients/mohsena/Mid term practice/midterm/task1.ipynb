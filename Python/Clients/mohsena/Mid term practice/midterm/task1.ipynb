{
 "cells": [
  {
   "cell_type": "code",
   "execution_count": null,
   "outputs": [],
   "source": [
    "import numpy as np\n",
    "from scipy import stats\n",
    "from scipy.stats import shapiro\n",
    "from scipy.stats import ttest_ind\n",
    "from scipy.stats import mannwhitneyu\n",
    "import pandas as pd\n",
    "import matplotlib.pyplot as plt\n",
    "import seaborn as sns\n",
    "from sklearn.preprocessing import MinMaxScaler\n",
    "from sklearn.preprocessing import StandardScaler\n",
    "from sklearn.preprocessing import LabelEncoder\n"
   ],
   "metadata": {
    "collapsed": false,
    "pycharm": {
     "name": "#%%\n"
    }
   }
  },
  {
   "cell_type": "code",
   "execution_count": 2,
   "metadata": {
    "collapsed": true
   },
   "outputs": [
    {
     "data": {
      "text/plain": "[1, -1, 2, -2, 3, -3, 4, -4, 5, -5, 6, -6, 7, -7, 8, -8, 9, -9]"
     },
     "execution_count": 2,
     "metadata": {},
     "output_type": "execute_result"
    }
   ],
   "source": [
    "lis2 = [i * j for i in range(1,10) for j in [1,-1]]\n",
    "lis2"
   ]
  },
  {
   "cell_type": "code",
   "execution_count": 6,
   "outputs": [
    {
     "name": "stdout",
     "output_type": "stream",
     "text": [
      "[(5, 'Apple'), (6, 'Banana'), (6, 'Orange'), (10, 'Watermelon'), (4, 'Plum'), (6, 'Grapes'), (4, 'Kiwi'), (10, 'Strawberry'), (4, 'Pear'), (5, 'Mango')]\n"
     ]
    }
   ],
   "source": [
    "index = [5, 6, 6, 10, 4, 6, 4, 10, 4, 5]\n",
    "fruits = ['Apple', 'Banana', 'Orange', 'Watermelon', 'Plum', 'Grapes', 'Kiwi', 'Strawberry', 'Pear', 'Mango']\n",
    "zipzap = zip(index,fruits)\n",
    "print(list(zipzap))"
   ],
   "metadata": {
    "collapsed": false,
    "pycharm": {
     "name": "#%%\n"
    }
   }
  },
  {
   "cell_type": "code",
   "execution_count": 13,
   "outputs": [
    {
     "name": "stdout",
     "output_type": "stream",
     "text": [
      "[4, -2, 9, -4, 16, -6, 25, -8, 36, -10, 49, -12, 64, -14, 81, -16, 100, -18]\n"
     ]
    }
   ],
   "source": [
    "print(list(map(lambda x: x**2 +2*x +1 if x >= 0 else 2*x ,lis2)))"
   ],
   "metadata": {
    "collapsed": false,
    "pycharm": {
     "name": "#%%\n"
    }
   }
  }
 ],
 "metadata": {
  "kernelspec": {
   "display_name": "Python 3",
   "language": "python",
   "name": "python3"
  },
  "language_info": {
   "codemirror_mode": {
    "name": "ipython",
    "version": 2
   },
   "file_extension": ".py",
   "mimetype": "text/x-python",
   "name": "python",
   "nbconvert_exporter": "python",
   "pygments_lexer": "ipython2",
   "version": "2.7.6"
  }
 },
 "nbformat": 4,
 "nbformat_minor": 0
}