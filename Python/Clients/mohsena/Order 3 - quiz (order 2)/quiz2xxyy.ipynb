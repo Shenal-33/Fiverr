{
  "nbformat": 4,
  "nbformat_minor": 0,
  "metadata": {
    "colab": {
      "name": "Template.ipynb",
      "provenance": []
    },
    "kernelspec": {
      "name": "python3",
      "display_name": "Python 3"
    },
    "language_info": {
      "name": "python"
    }
  },
  "cells": [
    {
      "cell_type": "code",
      "source": [
        "from scipy.stats import shapiro\n",
        "Score = [ 85, 64, 72, 73, 65, 60, 61, 72, 66, 81, 80,89,77,50,63]\n",
        "_,pval = shapiro(Score)\n",
        "if pval <0.05:\n",
        "  print(\"We reject null hypothesis\")\n",
        "else:\n",
        "  print(\"We fail to reject null hypothesis\")"
      ],
      "metadata": {
        "colab": {
          "base_uri": "https://localhost:8080/"
        },
        "id": "iAQBoBuUU5AZ",
        "outputId": "3f7928f3-88dd-4673-dce9-d1f1944a66bd"
      },
      "execution_count": 21,
      "outputs": [
        {
          "output_type": "stream",
          "name": "stdout",
          "text": [
            "We fail to reject null hypothesis\n"
          ]
        }
      ]
    }
  ]
}