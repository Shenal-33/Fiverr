{
 "cells": [
  {
   "cell_type": "markdown",
   "id": "super-income",
   "metadata": {},
   "source": [
    "Group Number:  \n",
    "\n",
    "        Student Names:                     Student IDs:"
   ]
  },
  {
   "cell_type": "markdown",
   "id": "blocked-nightmare",
   "metadata": {
    "toc": true
   },
   "source": [
    "<h1>Table of Contents<span class=\"tocSkip\"></span></h1>\n",
    "<div class=\"toc\"><ul class=\"toc-item\"><li><span><a href=\"#Problem-#A\" data-toc-modified-id=\"Problem-#A-1\"><span class=\"toc-item-num\">1&nbsp;&nbsp;</span>Problem #A</a></span></li><li><span><a href=\"#Problem-#B\" data-toc-modified-id=\"Problem-#B-2\"><span class=\"toc-item-num\">2&nbsp;&nbsp;</span>Problem #B</a></span></li><li><span><a href=\"#Rough/test-work-----will-not-be-graded\" data-toc-modified-id=\"Rough/test-work-----will-not-be-graded-3\"><span class=\"toc-item-num\">3&nbsp;&nbsp;</span>Rough/test work  -- will not be graded</a></span></li></ul></div>"
   ]
  },
  {
   "cell_type": "markdown",
   "id": "complete-allah",
   "metadata": {},
   "source": [
    "# Problem #A"
   ]
  },
  {
   "cell_type": "code",
   "execution_count": null,
   "id": "excess-reynolds",
   "metadata": {},
   "outputs": [],
   "source": [
    "#A-1"
   ]
  },
  {
   "cell_type": "code",
   "execution_count": null,
   "id": "suited-thursday",
   "metadata": {},
   "outputs": [],
   "source": [
    "#A-2"
   ]
  },
  {
   "cell_type": "code",
   "execution_count": null,
   "id": "organic-demand",
   "metadata": {},
   "outputs": [],
   "source": [
    "#A-3"
   ]
  },
  {
   "cell_type": "code",
   "execution_count": null,
   "id": "beginning-provincial",
   "metadata": {},
   "outputs": [],
   "source": [
    "#A-4"
   ]
  },
  {
   "cell_type": "code",
   "execution_count": null,
   "id": "reasonable-protection",
   "metadata": {},
   "outputs": [],
   "source": [
    "#A-5"
   ]
  },
  {
   "cell_type": "code",
   "execution_count": null,
   "id": "grand-finger",
   "metadata": {},
   "outputs": [],
   "source": [
    "#A-6"
   ]
  },
  {
   "cell_type": "code",
   "execution_count": null,
   "id": "accepting-engineering",
   "metadata": {},
   "outputs": [],
   "source": [
    "#A-7"
   ]
  },
  {
   "cell_type": "code",
   "execution_count": null,
   "id": "postal-utilization",
   "metadata": {},
   "outputs": [],
   "source": [
    "#A-8"
   ]
  },
  {
   "cell_type": "code",
   "execution_count": null,
   "id": "opposed-beast",
   "metadata": {},
   "outputs": [],
   "source": [
    "#A-9"
   ]
  },
  {
   "cell_type": "code",
   "execution_count": null,
   "id": "devoted-following",
   "metadata": {},
   "outputs": [],
   "source": [
    "#A-10"
   ]
  },
  {
   "cell_type": "markdown",
   "id": "dominant-complement",
   "metadata": {},
   "source": [
    "# Problem #B"
   ]
  },
  {
   "cell_type": "code",
   "execution_count": null,
   "id": "herbal-faculty",
   "metadata": {},
   "outputs": [],
   "source": [
    "#B-1"
   ]
  },
  {
   "cell_type": "code",
   "execution_count": null,
   "id": "standard-hollow",
   "metadata": {},
   "outputs": [],
   "source": [
    "#B-2"
   ]
  },
  {
   "cell_type": "code",
   "execution_count": null,
   "id": "tough-wrestling",
   "metadata": {},
   "outputs": [],
   "source": [
    "#B-3"
   ]
  },
  {
   "cell_type": "code",
   "execution_count": null,
   "id": "directed-microwave",
   "metadata": {},
   "outputs": [],
   "source": [
    "#B-4"
   ]
  },
  {
   "cell_type": "code",
   "execution_count": null,
   "id": "forbidden-armor",
   "metadata": {},
   "outputs": [],
   "source": [
    "#B-5"
   ]
  },
  {
   "cell_type": "code",
   "execution_count": null,
   "id": "recreational-bahamas",
   "metadata": {},
   "outputs": [],
   "source": [
    "#B-6"
   ]
  },
  {
   "cell_type": "code",
   "execution_count": null,
   "id": "southern-artwork",
   "metadata": {},
   "outputs": [],
   "source": [
    "#B-7"
   ]
  },
  {
   "cell_type": "code",
   "execution_count": null,
   "id": "ecological-subscriber",
   "metadata": {},
   "outputs": [],
   "source": [
    "#B-8"
   ]
  },
  {
   "cell_type": "code",
   "execution_count": null,
   "id": "great-release",
   "metadata": {},
   "outputs": [],
   "source": [
    "#B-9"
   ]
  },
  {
   "cell_type": "code",
   "execution_count": null,
   "id": "naked-danger",
   "metadata": {},
   "outputs": [],
   "source": [
    "#B-10"
   ]
  },
  {
   "cell_type": "markdown",
   "id": "possible-toyota",
   "metadata": {},
   "source": [
    "# Rough/test work  -- will not be graded"
   ]
  },
  {
   "cell_type": "code",
   "execution_count": null,
   "id": "metallic-wedding",
   "metadata": {},
   "outputs": [],
   "source": [
    "##  you can have extra cells here. None of the cells in this section will be graded."
   ]
  },
  {
   "cell_type": "code",
   "execution_count": null,
   "id": "chinese-grant",
   "metadata": {},
   "outputs": [],
   "source": []
  }
 ],
 "metadata": {
  "hide_input": false,
  "kernelspec": {
   "display_name": "Python 3",
   "language": "python",
   "name": "python3"
  },
  "language_info": {
   "codemirror_mode": {
    "name": "ipython",
    "version": 3
   },
   "file_extension": ".py",
   "mimetype": "text/x-python",
   "name": "python",
   "nbconvert_exporter": "python",
   "pygments_lexer": "ipython3",
   "version": "3.7.3"
  },
  "toc": {
   "base_numbering": 1,
   "nav_menu": {},
   "number_sections": true,
   "sideBar": true,
   "skip_h1_title": false,
   "title_cell": "Table of Contents",
   "title_sidebar": "Contents",
   "toc_cell": true,
   "toc_position": {},
   "toc_section_display": true,
   "toc_window_display": false
  },
  "varInspector": {
   "cols": {
    "lenName": 16,
    "lenType": 16,
    "lenVar": 40
   },
   "kernels_config": {
    "python": {
     "delete_cmd_postfix": "",
     "delete_cmd_prefix": "del ",
     "library": "var_list.py",
     "varRefreshCmd": "print(var_dic_list())"
    },
    "r": {
     "delete_cmd_postfix": ") ",
     "delete_cmd_prefix": "rm(",
     "library": "var_list.r",
     "varRefreshCmd": "cat(var_dic_list()) "
    }
   },
   "types_to_exclude": [
    "module",
    "function",
    "builtin_function_or_method",
    "instance",
    "_Feature"
   ],
   "window_display": false
  }
 },
 "nbformat": 4,
 "nbformat_minor": 5
}
