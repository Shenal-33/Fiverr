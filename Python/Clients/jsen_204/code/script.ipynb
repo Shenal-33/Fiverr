{
 "cells": [
  {
   "cell_type": "code",
   "execution_count": 7,
   "metadata": {
    "collapsed": true
   },
   "outputs": [],
   "source": [
    "import pandas as pd"
   ]
  },
  {
   "cell_type": "code",
   "execution_count": 8,
   "outputs": [
    {
     "data": {
      "text/plain": "      dTXYEAR  dROLLNMBR  dASSESSMENTBASE  dASSESSCD  dASSESSTYPE  \\\n0        2021        200                4         30            0   \n1        2021        275                4         30            0   \n2        2021        300                4         12            0   \n3        2021        300                4         30            0   \n4        2021        350                4         30            0   \n...       ...        ...              ...        ...          ...   \n6465     2021    2000020                1         60            0   \n6466     2021    2000030                1         60            0   \n6467     2021    2000040                1         60            0   \n6468     2021    2000050                1         60            0   \n6469     2021    2000060                1         60            0   \n\n      dASSESSVALLAND  dASSESSVALIMPR  dASSESSVALOTHER dASSESSCHANGECD  \\\n0             286900               0                0              AA   \n1             233100               0                0              AA   \n2              76500          142400                0              AA   \n3              86200           10500                0              AA   \n4             233300               0                0              AA   \n...              ...             ...              ...             ...   \n6465               0          498300                0              AA   \n6466               0          244700                0              AA   \n6467               0           18300                0              AA   \n6468               0         3082200                0              AA   \n6469               0           65500                0              AA   \n\n      dASSESSVALEXMPTLAND  dASSESSVALEXMPTIMPR  dASSESSVALEXMPTOTH  \n0                   74590                    0                   0  \n1                   60610                    0                   0  \n2                   34430                64080                   0  \n3                   22410                 2730                   0  \n4                   60660                    0                   0  \n...                   ...                  ...                 ...  \n6465                    0               323900                   0  \n6466                    0               159060                   0  \n6467                    0                11900                   0  \n6468                    0              2003430                   0  \n6469                    0                42580                   0  \n\n[6470 rows x 12 columns]",
      "text/html": "<div>\n<style scoped>\n    .dataframe tbody tr th:only-of-type {\n        vertical-align: middle;\n    }\n\n    .dataframe tbody tr th {\n        vertical-align: top;\n    }\n\n    .dataframe thead th {\n        text-align: right;\n    }\n</style>\n<table border=\"1\" class=\"dataframe\">\n  <thead>\n    <tr style=\"text-align: right;\">\n      <th></th>\n      <th>dTXYEAR</th>\n      <th>dROLLNMBR</th>\n      <th>dASSESSMENTBASE</th>\n      <th>dASSESSCD</th>\n      <th>dASSESSTYPE</th>\n      <th>dASSESSVALLAND</th>\n      <th>dASSESSVALIMPR</th>\n      <th>dASSESSVALOTHER</th>\n      <th>dASSESSCHANGECD</th>\n      <th>dASSESSVALEXMPTLAND</th>\n      <th>dASSESSVALEXMPTIMPR</th>\n      <th>dASSESSVALEXMPTOTH</th>\n    </tr>\n  </thead>\n  <tbody>\n    <tr>\n      <th>0</th>\n      <td>2021</td>\n      <td>200</td>\n      <td>4</td>\n      <td>30</td>\n      <td>0</td>\n      <td>286900</td>\n      <td>0</td>\n      <td>0</td>\n      <td>AA</td>\n      <td>74590</td>\n      <td>0</td>\n      <td>0</td>\n    </tr>\n    <tr>\n      <th>1</th>\n      <td>2021</td>\n      <td>275</td>\n      <td>4</td>\n      <td>30</td>\n      <td>0</td>\n      <td>233100</td>\n      <td>0</td>\n      <td>0</td>\n      <td>AA</td>\n      <td>60610</td>\n      <td>0</td>\n      <td>0</td>\n    </tr>\n    <tr>\n      <th>2</th>\n      <td>2021</td>\n      <td>300</td>\n      <td>4</td>\n      <td>12</td>\n      <td>0</td>\n      <td>76500</td>\n      <td>142400</td>\n      <td>0</td>\n      <td>AA</td>\n      <td>34430</td>\n      <td>64080</td>\n      <td>0</td>\n    </tr>\n    <tr>\n      <th>3</th>\n      <td>2021</td>\n      <td>300</td>\n      <td>4</td>\n      <td>30</td>\n      <td>0</td>\n      <td>86200</td>\n      <td>10500</td>\n      <td>0</td>\n      <td>AA</td>\n      <td>22410</td>\n      <td>2730</td>\n      <td>0</td>\n    </tr>\n    <tr>\n      <th>4</th>\n      <td>2021</td>\n      <td>350</td>\n      <td>4</td>\n      <td>30</td>\n      <td>0</td>\n      <td>233300</td>\n      <td>0</td>\n      <td>0</td>\n      <td>AA</td>\n      <td>60660</td>\n      <td>0</td>\n      <td>0</td>\n    </tr>\n    <tr>\n      <th>...</th>\n      <td>...</td>\n      <td>...</td>\n      <td>...</td>\n      <td>...</td>\n      <td>...</td>\n      <td>...</td>\n      <td>...</td>\n      <td>...</td>\n      <td>...</td>\n      <td>...</td>\n      <td>...</td>\n      <td>...</td>\n    </tr>\n    <tr>\n      <th>6465</th>\n      <td>2021</td>\n      <td>2000020</td>\n      <td>1</td>\n      <td>60</td>\n      <td>0</td>\n      <td>0</td>\n      <td>498300</td>\n      <td>0</td>\n      <td>AA</td>\n      <td>0</td>\n      <td>323900</td>\n      <td>0</td>\n    </tr>\n    <tr>\n      <th>6466</th>\n      <td>2021</td>\n      <td>2000030</td>\n      <td>1</td>\n      <td>60</td>\n      <td>0</td>\n      <td>0</td>\n      <td>244700</td>\n      <td>0</td>\n      <td>AA</td>\n      <td>0</td>\n      <td>159060</td>\n      <td>0</td>\n    </tr>\n    <tr>\n      <th>6467</th>\n      <td>2021</td>\n      <td>2000040</td>\n      <td>1</td>\n      <td>60</td>\n      <td>0</td>\n      <td>0</td>\n      <td>18300</td>\n      <td>0</td>\n      <td>AA</td>\n      <td>0</td>\n      <td>11900</td>\n      <td>0</td>\n    </tr>\n    <tr>\n      <th>6468</th>\n      <td>2021</td>\n      <td>2000050</td>\n      <td>1</td>\n      <td>60</td>\n      <td>0</td>\n      <td>0</td>\n      <td>3082200</td>\n      <td>0</td>\n      <td>AA</td>\n      <td>0</td>\n      <td>2003430</td>\n      <td>0</td>\n    </tr>\n    <tr>\n      <th>6469</th>\n      <td>2021</td>\n      <td>2000060</td>\n      <td>1</td>\n      <td>60</td>\n      <td>0</td>\n      <td>0</td>\n      <td>65500</td>\n      <td>0</td>\n      <td>AA</td>\n      <td>0</td>\n      <td>42580</td>\n      <td>0</td>\n    </tr>\n  </tbody>\n</table>\n<p>6470 rows × 12 columns</p>\n</div>"
     },
     "execution_count": 8,
     "metadata": {},
     "output_type": "execute_result"
    }
   ],
   "source": [
    "# Read the csv file\n",
    "df = pd.read_csv(\"../Assessment Records Input.csv\",delimiter=\",\")\n",
    "df"
   ],
   "metadata": {
    "collapsed": false,
    "pycharm": {
     "name": "#%%\n"
    }
   }
  },
  {
   "cell_type": "code",
   "execution_count": 9,
   "outputs": [
    {
     "data": {
      "text/plain": "['CLASS11LAN',\n 'CLASS11BLD',\n 'CLASS12LAN',\n 'CLASS12BLD',\n 'CLASS20LAN',\n 'CLASS20BLD',\n 'CLASS30LAN',\n 'CLASS30BLD',\n 'CLASS31LAN',\n 'CLASS31BLD',\n 'CLASS32LAN',\n 'CLASS32BLD',\n 'CLASS40LAN',\n 'CLASS40BLD',\n 'CLASS51LAN',\n 'CLASS51BLD',\n 'CLASS52LAN',\n 'CLASS52BLD',\n 'CLASS60LAN',\n 'CLASS60BLD',\n 'CLASS70LAN',\n 'CLASS70BLD',\n 'CLASS80LAN',\n 'CLASS80BLD']"
     },
     "execution_count": 9,
     "metadata": {},
     "output_type": "execute_result"
    }
   ],
   "source": [
    "# Uniques codes and postfixes for output column fields\n",
    "codes = [11,12,20,30,31,32,40,51,52,60,70,80]\n",
    "postfix = [\"LAN\",\"BLD\"]\n",
    "\n",
    "# Create the column names for the output data frame\n",
    "columnNames = [\"CLASS\" + str(code) + word for code in codes for word in postfix]\n",
    "\n",
    "# TEST ME\n",
    "columnNames"
   ],
   "metadata": {
    "collapsed": false,
    "pycharm": {
     "name": "#%%\n"
    }
   }
  },
  {
   "cell_type": "code",
   "execution_count": 9,
   "outputs": [],
   "source": [],
   "metadata": {
    "collapsed": false,
    "pycharm": {
     "name": "#%%\n"
    }
   }
  },
  {
   "cell_type": "code",
   "execution_count": 10,
   "outputs": [
    {
     "data": {
      "text/plain": "         CLASS11LAN  CLASS11BLD  CLASS12LAN  CLASS12BLD  CLASS20LAN  \\\nROLL                                                                  \n200               0           0           0           0           0   \n275               0           0           0           0           0   \n300               0           0           0           0           0   \n350               0           0           0           0           0   \n390               0           0           0           0           0   \n...             ...         ...         ...         ...         ...   \n2000020           0           0           0           0           0   \n2000030           0           0           0           0           0   \n2000040           0           0           0           0           0   \n2000050           0           0           0           0           0   \n2000060           0           0           0           0           0   \n\n         CLASS20BLD  CLASS30LAN  CLASS30BLD  CLASS31LAN  CLASS31BLD  ...  \\\nROLL                                                                 ...   \n200               0           0           0           0           0  ...   \n275               0           0           0           0           0  ...   \n300               0           0           0           0           0  ...   \n350               0           0           0           0           0  ...   \n390               0           0           0           0           0  ...   \n...             ...         ...         ...         ...         ...  ...   \n2000020           0           0           0           0           0  ...   \n2000030           0           0           0           0           0  ...   \n2000040           0           0           0           0           0  ...   \n2000050           0           0           0           0           0  ...   \n2000060           0           0           0           0           0  ...   \n\n         CLASS51LAN  CLASS51BLD  CLASS52LAN  CLASS52BLD  CLASS60LAN  \\\nROLL                                                                  \n200               0           0           0           0           0   \n275               0           0           0           0           0   \n300               0           0           0           0           0   \n350               0           0           0           0           0   \n390               0           0           0           0           0   \n...             ...         ...         ...         ...         ...   \n2000020           0           0           0           0           0   \n2000030           0           0           0           0           0   \n2000040           0           0           0           0           0   \n2000050           0           0           0           0           0   \n2000060           0           0           0           0           0   \n\n         CLASS60BLD  CLASS70LAN  CLASS70BLD  CLASS80LAN  CLASS80BLD  \nROLL                                                                 \n200               0           0           0           0           0  \n275               0           0           0           0           0  \n300               0           0           0           0           0  \n350               0           0           0           0           0  \n390               0           0           0           0           0  \n...             ...         ...         ...         ...         ...  \n2000020           0           0           0           0           0  \n2000030           0           0           0           0           0  \n2000040           0           0           0           0           0  \n2000050           0           0           0           0           0  \n2000060           0           0           0           0           0  \n\n[5464 rows x 24 columns]",
      "text/html": "<div>\n<style scoped>\n    .dataframe tbody tr th:only-of-type {\n        vertical-align: middle;\n    }\n\n    .dataframe tbody tr th {\n        vertical-align: top;\n    }\n\n    .dataframe thead th {\n        text-align: right;\n    }\n</style>\n<table border=\"1\" class=\"dataframe\">\n  <thead>\n    <tr style=\"text-align: right;\">\n      <th></th>\n      <th>CLASS11LAN</th>\n      <th>CLASS11BLD</th>\n      <th>CLASS12LAN</th>\n      <th>CLASS12BLD</th>\n      <th>CLASS20LAN</th>\n      <th>CLASS20BLD</th>\n      <th>CLASS30LAN</th>\n      <th>CLASS30BLD</th>\n      <th>CLASS31LAN</th>\n      <th>CLASS31BLD</th>\n      <th>...</th>\n      <th>CLASS51LAN</th>\n      <th>CLASS51BLD</th>\n      <th>CLASS52LAN</th>\n      <th>CLASS52BLD</th>\n      <th>CLASS60LAN</th>\n      <th>CLASS60BLD</th>\n      <th>CLASS70LAN</th>\n      <th>CLASS70BLD</th>\n      <th>CLASS80LAN</th>\n      <th>CLASS80BLD</th>\n    </tr>\n    <tr>\n      <th>ROLL</th>\n      <th></th>\n      <th></th>\n      <th></th>\n      <th></th>\n      <th></th>\n      <th></th>\n      <th></th>\n      <th></th>\n      <th></th>\n      <th></th>\n      <th></th>\n      <th></th>\n      <th></th>\n      <th></th>\n      <th></th>\n      <th></th>\n      <th></th>\n      <th></th>\n      <th></th>\n      <th></th>\n      <th></th>\n    </tr>\n  </thead>\n  <tbody>\n    <tr>\n      <th>200</th>\n      <td>0</td>\n      <td>0</td>\n      <td>0</td>\n      <td>0</td>\n      <td>0</td>\n      <td>0</td>\n      <td>0</td>\n      <td>0</td>\n      <td>0</td>\n      <td>0</td>\n      <td>...</td>\n      <td>0</td>\n      <td>0</td>\n      <td>0</td>\n      <td>0</td>\n      <td>0</td>\n      <td>0</td>\n      <td>0</td>\n      <td>0</td>\n      <td>0</td>\n      <td>0</td>\n    </tr>\n    <tr>\n      <th>275</th>\n      <td>0</td>\n      <td>0</td>\n      <td>0</td>\n      <td>0</td>\n      <td>0</td>\n      <td>0</td>\n      <td>0</td>\n      <td>0</td>\n      <td>0</td>\n      <td>0</td>\n      <td>...</td>\n      <td>0</td>\n      <td>0</td>\n      <td>0</td>\n      <td>0</td>\n      <td>0</td>\n      <td>0</td>\n      <td>0</td>\n      <td>0</td>\n      <td>0</td>\n      <td>0</td>\n    </tr>\n    <tr>\n      <th>300</th>\n      <td>0</td>\n      <td>0</td>\n      <td>0</td>\n      <td>0</td>\n      <td>0</td>\n      <td>0</td>\n      <td>0</td>\n      <td>0</td>\n      <td>0</td>\n      <td>0</td>\n      <td>...</td>\n      <td>0</td>\n      <td>0</td>\n      <td>0</td>\n      <td>0</td>\n      <td>0</td>\n      <td>0</td>\n      <td>0</td>\n      <td>0</td>\n      <td>0</td>\n      <td>0</td>\n    </tr>\n    <tr>\n      <th>350</th>\n      <td>0</td>\n      <td>0</td>\n      <td>0</td>\n      <td>0</td>\n      <td>0</td>\n      <td>0</td>\n      <td>0</td>\n      <td>0</td>\n      <td>0</td>\n      <td>0</td>\n      <td>...</td>\n      <td>0</td>\n      <td>0</td>\n      <td>0</td>\n      <td>0</td>\n      <td>0</td>\n      <td>0</td>\n      <td>0</td>\n      <td>0</td>\n      <td>0</td>\n      <td>0</td>\n    </tr>\n    <tr>\n      <th>390</th>\n      <td>0</td>\n      <td>0</td>\n      <td>0</td>\n      <td>0</td>\n      <td>0</td>\n      <td>0</td>\n      <td>0</td>\n      <td>0</td>\n      <td>0</td>\n      <td>0</td>\n      <td>...</td>\n      <td>0</td>\n      <td>0</td>\n      <td>0</td>\n      <td>0</td>\n      <td>0</td>\n      <td>0</td>\n      <td>0</td>\n      <td>0</td>\n      <td>0</td>\n      <td>0</td>\n    </tr>\n    <tr>\n      <th>...</th>\n      <td>...</td>\n      <td>...</td>\n      <td>...</td>\n      <td>...</td>\n      <td>...</td>\n      <td>...</td>\n      <td>...</td>\n      <td>...</td>\n      <td>...</td>\n      <td>...</td>\n      <td>...</td>\n      <td>...</td>\n      <td>...</td>\n      <td>...</td>\n      <td>...</td>\n      <td>...</td>\n      <td>...</td>\n      <td>...</td>\n      <td>...</td>\n      <td>...</td>\n      <td>...</td>\n    </tr>\n    <tr>\n      <th>2000020</th>\n      <td>0</td>\n      <td>0</td>\n      <td>0</td>\n      <td>0</td>\n      <td>0</td>\n      <td>0</td>\n      <td>0</td>\n      <td>0</td>\n      <td>0</td>\n      <td>0</td>\n      <td>...</td>\n      <td>0</td>\n      <td>0</td>\n      <td>0</td>\n      <td>0</td>\n      <td>0</td>\n      <td>0</td>\n      <td>0</td>\n      <td>0</td>\n      <td>0</td>\n      <td>0</td>\n    </tr>\n    <tr>\n      <th>2000030</th>\n      <td>0</td>\n      <td>0</td>\n      <td>0</td>\n      <td>0</td>\n      <td>0</td>\n      <td>0</td>\n      <td>0</td>\n      <td>0</td>\n      <td>0</td>\n      <td>0</td>\n      <td>...</td>\n      <td>0</td>\n      <td>0</td>\n      <td>0</td>\n      <td>0</td>\n      <td>0</td>\n      <td>0</td>\n      <td>0</td>\n      <td>0</td>\n      <td>0</td>\n      <td>0</td>\n    </tr>\n    <tr>\n      <th>2000040</th>\n      <td>0</td>\n      <td>0</td>\n      <td>0</td>\n      <td>0</td>\n      <td>0</td>\n      <td>0</td>\n      <td>0</td>\n      <td>0</td>\n      <td>0</td>\n      <td>0</td>\n      <td>...</td>\n      <td>0</td>\n      <td>0</td>\n      <td>0</td>\n      <td>0</td>\n      <td>0</td>\n      <td>0</td>\n      <td>0</td>\n      <td>0</td>\n      <td>0</td>\n      <td>0</td>\n    </tr>\n    <tr>\n      <th>2000050</th>\n      <td>0</td>\n      <td>0</td>\n      <td>0</td>\n      <td>0</td>\n      <td>0</td>\n      <td>0</td>\n      <td>0</td>\n      <td>0</td>\n      <td>0</td>\n      <td>0</td>\n      <td>...</td>\n      <td>0</td>\n      <td>0</td>\n      <td>0</td>\n      <td>0</td>\n      <td>0</td>\n      <td>0</td>\n      <td>0</td>\n      <td>0</td>\n      <td>0</td>\n      <td>0</td>\n    </tr>\n    <tr>\n      <th>2000060</th>\n      <td>0</td>\n      <td>0</td>\n      <td>0</td>\n      <td>0</td>\n      <td>0</td>\n      <td>0</td>\n      <td>0</td>\n      <td>0</td>\n      <td>0</td>\n      <td>0</td>\n      <td>...</td>\n      <td>0</td>\n      <td>0</td>\n      <td>0</td>\n      <td>0</td>\n      <td>0</td>\n      <td>0</td>\n      <td>0</td>\n      <td>0</td>\n      <td>0</td>\n      <td>0</td>\n    </tr>\n  </tbody>\n</table>\n<p>5464 rows × 24 columns</p>\n</div>"
     },
     "execution_count": 10,
     "metadata": {},
     "output_type": "execute_result"
    }
   ],
   "source": [
    "# get the unique roll numbers (without duplicates)\n",
    "roll_number = df['dROLLNMBR'].unique()\n",
    "out_df = pd.DataFrame(index=roll_number,columns=columnNames).fillna(0)\n",
    "out_df.index.name = \"ROLL\"\n",
    "out_df"
   ],
   "metadata": {
    "collapsed": false,
    "pycharm": {
     "name": "#%%\n"
    }
   }
  },
  {
   "cell_type": "code",
   "execution_count": 11,
   "outputs": [],
   "source": [
    "for index in range(len(roll_number)):\n",
    "    temp_df = df.loc[df['dROLLNMBR'] == roll_number[index]]\n",
    "    unique_assescd = temp_df['dASSESSCD'].unique()\n",
    "\n",
    "    for assescd in unique_assescd:\n",
    "        selected_df =  df.loc[(df['dASSESSCD'] == assescd) & (df['dROLLNMBR'] == roll_number[index])]\n",
    "\n",
    "        out_df.loc[roll_number[index],\"CLASS\" + str(assescd)+\"LAN\"] = selected_df['dASSESSVALLAND'].sum()\n",
    "        out_df.loc[roll_number[index],\"CLASS\" + str(assescd)+\"BLD\"] = selected_df['dASSESSVALIMPR'].sum()"
   ],
   "metadata": {
    "collapsed": false,
    "pycharm": {
     "name": "#%%\n"
    }
   }
  },
  {
   "cell_type": "code",
   "execution_count": 12,
   "outputs": [],
   "source": [
    "out_df.to_csv('output.csv')"
   ],
   "metadata": {
    "collapsed": false,
    "pycharm": {
     "name": "#%%\n"
    }
   }
  }
 ],
 "metadata": {
  "kernelspec": {
   "display_name": "Python 3",
   "language": "python",
   "name": "python3"
  },
  "language_info": {
   "codemirror_mode": {
    "name": "ipython",
    "version": 2
   },
   "file_extension": ".py",
   "mimetype": "text/x-python",
   "name": "python",
   "nbconvert_exporter": "python",
   "pygments_lexer": "ipython2",
   "version": "2.7.6"
  }
 },
 "nbformat": 4,
 "nbformat_minor": 0
}